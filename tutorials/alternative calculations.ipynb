{
 "cells": [
  {
   "cell_type": "code",
   "execution_count": 214,
   "id": "4e57443c",
   "metadata": {},
   "outputs": [],
   "source": [
    "import numpy as np\n",
    "from scipy import optimize\n",
    "import matplotlib.pyplot as plt\n",
    "import inspect\n",
    "\n",
    "\n",
    "try:\n",
    "    from gascompressibility.utilities.utilities import calc_Fahrenheit_to_Rankine\n",
    "except:\n",
    "    pass\n",
    "\n",
    "\n",
    "\n",
    "\n",
    "\n",
    "class sutton:\n",
    "    def __init__(self):\n",
    "        self.mode = 'sutton'\n",
    "        self._check_invalid_mode(self.mode)  # prevent user modification of self.mode\n",
    "\n",
    "        self.sg = None\n",
    "        self.T_f = None\n",
    "        self.T = None\n",
    "        self.P = None\n",
    "        self.H2S = None\n",
    "        self.CO2 = None\n",
    "\n",
    "        self.Tpc = None\n",
    "        self.Ppc = None\n",
    "        self.A = None\n",
    "        self.B = None\n",
    "        self.e_correction = None\n",
    "        self.Tpc_corrected = None\n",
    "        self.Ppc_corrected = None\n",
    "        self.Tr = None\n",
    "        self.Pr = None\n",
    "\n",
    "        self.Z = None\n",
    "\n",
    "        self._first_caller_name = None\n",
    "        self._first_caller_keys = {}\n",
    "        self._first_caller_kwargs = {}\n",
    "        self._first_caller_is_saved = False\n",
    "\n",
    "    def __str__(self):\n",
    "        return str(self.Z)\n",
    "\n",
    "    def __repr__(self):\n",
    "        return '<GasCompressibilityFactor object. Mixing Rule = %s>' % self.mode\n",
    "\n",
    "    \"\"\"sum of the mole fractions of CO2 and H2S in a gas mixture\"\"\"\n",
    "    def _calc_A(self, H2S=None, CO2=None):\n",
    "        self._initialize_H2S(H2S)\n",
    "        self._initialize_CO2(CO2)\n",
    "        self.A = self.H2S + self.CO2\n",
    "        return self.A\n",
    "\n",
    "    \"\"\"mole fraction of H2S in a gas mixture\"\"\"\n",
    "    def _calc_B(self, H2S=None):\n",
    "        self._initialize_H2S(H2S)\n",
    "        self.B = self.H2S\n",
    "        return self.B\n",
    "\n",
    "    \"\"\"pseudo-critical temperature (°R)\"\"\"\n",
    "    def calc_Tpc(self, sg=None):\n",
    "        self._set_first_caller_attributes(inspect.stack()[0][3], locals())\n",
    "        self._initialize_sg(sg)\n",
    "        self.Tpc = 169.2 + 349.5 * self.sg - 74.0 * self.sg ** 2\n",
    "        return self.Tpc\n",
    "\n",
    "    \"\"\"pseudo-critical pressure (psi)\"\"\"\n",
    "    def calc_Ppc(self, sg=None):\n",
    "        self._set_first_caller_attributes(inspect.stack()[0][3], locals())\n",
    "        self._initialize_sg(sg)\n",
    "        self.Ppc = 756.8 - 131.07 * self.sg - 3.6 * self.sg ** 2\n",
    "        return self.Ppc\n",
    "\n",
    "    \"\"\"correction for CO2 and H2S (°R)\"\"\"\n",
    "    def calc_e_correction(self, H2S=None, CO2=None):\n",
    "        self._set_first_caller_attributes(inspect.stack()[0][3], locals())\n",
    "        self._initialize_A(A=None, H2S=H2S, CO2=CO2)\n",
    "        self._initialize_B(B=None, H2S=H2S)\n",
    "        self.e_correction = 120 * (self.A ** 0.9 - self.A ** 1.6) + 15 * (self.B ** 0.5 - self.B ** 4)\n",
    "        return self.e_correction\n",
    "\n",
    "    def calc_Tpc_corrected(self, sg=None, Tpc=None, e_correction=None, H2S=None, CO2=None, ignore_conflict=False):\n",
    "        self._set_first_caller_attributes(inspect.stack()[0][3], locals())\n",
    "        self._initialize_Tpc(Tpc, sg=sg)\n",
    "\n",
    "        # Correction is not needed if no sour gas is present\n",
    "        if e_correction is None and H2S is None and CO2 is None:\n",
    "            self.Tpc_corrected = self.Tpc\n",
    "            return self.Tpc_corrected\n",
    "\n",
    "        self._initialize_e_correction(e_correction, H2S=H2S, CO2=CO2, ignore_conflict=ignore_conflict)\n",
    "        self.Tpc_corrected = self.Tpc - self.e_correction\n",
    "        return self.Tpc_corrected\n",
    "\n",
    "    \"\"\" corrected pseudo-critical pressure (psi)\"\"\"\n",
    "    def calc_Ppc_corrected(self, sg=None, Tpc=None, Ppc=None, e_correction=None, Tpc_corrected=None, H2S=None, CO2=None, ignore_conflict=False):\n",
    "        self._set_first_caller_attributes(inspect.stack()[0][3], locals())\n",
    "        self._initialize_Ppc(Ppc, sg=sg)\n",
    "\n",
    "        # Correction is not needed if no sour gas is present\n",
    "        if e_correction is None and H2S is None and CO2 is None and Tpc is None and Tpc_corrected is None:\n",
    "            self.Ppc_corrected = self.Ppc\n",
    "            return self.Ppc_corrected\n",
    "\n",
    "        self._initialize_Tpc(Tpc, sg=sg)\n",
    "        self._initialize_B(B=None, H2S=H2S)\n",
    "        self._initialize_e_correction(e_correction, H2S=H2S, CO2=CO2, ignore_conflict=ignore_conflict)\n",
    "        self._initialize_Tpc_corrected(Tpc_corrected, sg=sg, Tpc=Tpc, e_correction=e_correction, H2S=H2S, CO2=CO2, ignore_conflict=ignore_conflict)\n",
    "        self.Ppc_corrected = (self.Ppc * self.Tpc_corrected) / (self.Tpc - self.B * (1 - self.B) * self.e_correction)\n",
    "        return self.Ppc_corrected\n",
    "\n",
    "    \"\"\"pseudo-reduced temperature (°R)\"\"\"\n",
    "    def calc_Tr(self, T=None, Tpc_corrected=None, sg=None, Tpc=None, e_correction=None, H2S=None, CO2=None, ignore_conflict=False):\n",
    "        self._set_first_caller_attributes(inspect.stack()[0][3], locals())\n",
    "        self._initialize_T(T)\n",
    "        self._initialize_Tpc_corrected(Tpc_corrected, sg=sg, Tpc=Tpc, e_correction=e_correction, H2S=H2S, CO2=CO2, ignore_conflict=ignore_conflict)\n",
    "        self.Tr = self.T / self.Tpc_corrected\n",
    "        \n",
    "        print('---------')\n",
    "        print(self.T)\n",
    "        print(self.Tpc_corrected)\n",
    "        print('-----------')\n",
    "        \n",
    "        return self.Tr\n",
    "\n",
    "    \"\"\"pseudo-reduced pressure (psi)\"\"\"\n",
    "    def calc_Pr(self, P=None, Ppc_corrected=None, sg=None, Tpc=None, Ppc=None, e_correction=None, Tpc_corrected=None, H2S=None, CO2=None, ignore_conflict=False):\n",
    "        self._set_first_caller_attributes(inspect.stack()[0][3], locals())\n",
    "        self._initialize_P(P)\n",
    "        self._initialize_Ppc_corrected(Ppc_corrected, sg=sg, Tpc=Tpc, Ppc=Ppc, e_correction=e_correction, Tpc_corrected=Tpc_corrected, H2S=H2S, CO2=CO2, ignore_conflict=ignore_conflict)\n",
    "        self.Pr = self.P / self.Ppc_corrected\n",
    "        return self.Pr\n",
    "\n",
    "    \"\"\"\n",
    "    Objective function to miminize for Newton-Raphson nonlinear solver - Z factor calculation\n",
    "    \"\"\"\n",
    "    def _calc_Z(self, z):\n",
    "\n",
    "        self.A1 = 0.3265\n",
    "        self.A2 = -1.0700\n",
    "        self.A3 = -0.5339\n",
    "        self.A4 = 0.01569\n",
    "        self.A5 = -0.05165\n",
    "        self.A6 = 0.5475\n",
    "        self.A7 = -0.7361\n",
    "        self.A8 = 0.1844\n",
    "        self.A9 = 0.1056\n",
    "        self.A10 = 0.6134\n",
    "        self.A11 = 0.7210\n",
    "\n",
    "        return 1 + (\n",
    "                self.A1 +\n",
    "                self.A2 / self.Tr +\n",
    "                self.A3 / self.Tr ** 3 +\n",
    "                self.A4 / self.Tr ** 4 +\n",
    "                self.A5 / self.Tr ** 5\n",
    "        ) * (0.27 * self.Pr) / (z * self.Tr) + (\n",
    "                self.A6 +\n",
    "                self.A7 / self.Tr +\n",
    "                self.A8 / self.Tr ** 2\n",
    "        ) * ((0.27 * self.Pr) / (z * self.Tr)) ** 2 - self.A9 * (\n",
    "                self.A7 / self.Tr +\n",
    "                self.A8 / self.Tr ** 2\n",
    "        ) * ((0.27 * self.Pr) / (z * self.Tr)) ** 5 + self.A10 * (\n",
    "                1 +\n",
    "                self.A11 * ((0.27 * self.Pr) / (z * self.Tr)) ** 2\n",
    "        ) * (\n",
    "                ((0.27 * self.Pr) / (z * self.Tr)) ** 2 /\n",
    "                self.Tr ** 3\n",
    "        ) * np.exp(-self.A11 * ((0.27 * self.Pr) / (z * self.Tr)) ** 2) - z\n",
    "\n",
    "    \"\"\"Newton-Raphson nonlinear solver\"\"\"\n",
    "    def calc_Z(self, guess=0.9, sg=None, P=None, T=None, Tpc=None, Ppc=None, Tpc_corrected=None, Ppc_corrected=None,\n",
    "               H2S=None, CO2=None, Tr=None, Pr=None, e_correction=None, ignore_conflict=False, **kwargs):\n",
    "        self._set_first_caller_attributes(inspect.stack()[0][3], locals())\n",
    "        self._initialize_Pr(Pr, P=P, Ppc_corrected=Ppc_corrected, sg=sg, Tpc=Tpc, Ppc=Ppc, e_correction=e_correction, Tpc_corrected=Tpc_corrected, H2S=H2S, CO2=CO2, ignore_conflict=ignore_conflict)\n",
    "        self._initialize_Tr(Tr, T, Tpc_corrected=Tpc_corrected, sg=sg, Tpc=Tpc, e_correction=e_correction, H2S=H2S, CO2=CO2, ignore_conflict=ignore_conflict)\n",
    "        self.Z = optimize.newton(self._calc_Z, guess, **kwargs)\n",
    "        return self.Z\n",
    "\n",
    "    def _set_first_caller_attributes(self, func_name, func_kwargs):\n",
    "        \"\"\"\n",
    "        Helper function to set properties related to the first function called (first in the call stack).\n",
    "        This function doesn't do anything for 'calc_...()' functions called inside the first function.\n",
    "        For exmaple, if `calc_Ppc_corrected()' is called, this function is skipped for 'calc_Ppc()' function which is\n",
    "        triggered inside `calc_Ppc_corrected()`.\n",
    "        :param func_name:\n",
    "            ex1) func_name= \"calc_Tpc_corrected\",\n",
    "            ex2) func_name = \"calc_Ppc_corrected\",\n",
    "        :param func_kwargs: kwarg parameters passed to 'func_name'\n",
    "            ex1) func_kwargs = {'self': ...some_string, 'sg': None, 'Tpc': 377.59, 'e_correction': None, 'H2S': 0.07, 'CO2': 0.1}\n",
    "            ex2) func_kwargs = {'self': ...some_string, 'sg': 0.6, 'Tpc': None, 'e_correction': None, 'H2S': 0.07, 'CO2': 0.1}\n",
    "        \"\"\"\n",
    "        if not self._first_caller_is_saved:\n",
    "            func_kwargs = {key: value for key, value in func_kwargs.items() if key != 'self'}\n",
    "            if 'ignore_conflict' in func_kwargs:\n",
    "\n",
    "                if func_kwargs['ignore_conflict'] is False:\n",
    "                    \"\"\"\n",
    "                    This modification is needed for self._check_conflicting_arguments(). \n",
    "                    The exception in self._check_conflicting_arguments() compares if \"kwarg is not None\"\n",
    "                    The default 'ignore_conflict' is a boolean object, so comparing if \"ignore_conflict is not None\"\n",
    "                    will raise type error \n",
    "                    \"\"\"\n",
    "                    func_kwargs['ignore_conflict'] = None\n",
    "\n",
    "            self._first_caller_name = func_name\n",
    "            self._first_caller_kwargs = func_kwargs\n",
    "            self._first_caller_is_saved = True\n",
    "        else:\n",
    "            pass\n",
    "\n",
    "    def _check_conflicting_arguments(self, func, calculated_var):\n",
    "        args = inspect.getfullargspec(func).args[1:]  # arg[0] = 'self'\n",
    "        for arg in args:\n",
    "            if self._first_caller_kwargs[arg] is not None:\n",
    "                raise TypeError('%s() has conflicting keyword arguments \"%s\" and \"%s\"' % (self._first_caller_name, calculated_var, arg))\n",
    "\n",
    "    def _initialize_sg(self, sg):\n",
    "        if sg is None:\n",
    "            if self._first_caller_name == 'calc_Ppc' or self._first_caller_name == 'calc_Tpc':\n",
    "                raise TypeError(\"Missing a required argument, sg (specific gravity, dimensionless)\")\n",
    "            else:\n",
    "                raise TypeError(\"Missing a required arguments, sg (specific gravity, dimensionless), or Tpc \"\n",
    "                                \"(pseudo-critical temperature, °R) or Ppc (pseudo-critical pressure, psia). \"\n",
    "                                \"Either both Tpc and Ppc must be inputted, or sg needs to be inputted. \"\n",
    "                                \"Both Tpc and Ppc can be computed from sg\")\n",
    "        else:\n",
    "            self.sg = sg\n",
    "\n",
    "    def _initialize_P(self, P):\n",
    "        if P is None:\n",
    "            raise TypeError(\"Missing a required argument, P (gas pressure, psia)\")\n",
    "        else:\n",
    "            self.P = P\n",
    "\n",
    "    def _initialize_T(self, T):\n",
    "        if T is None:\n",
    "            raise TypeError(\"Missing a required argument, T (gas temperature, °F)\")\n",
    "        else:\n",
    "            self.T_f = T\n",
    "            self.T = calc_Fahrenheit_to_Rankine(T)\n",
    "\n",
    "    def _initialize_H2S(self, H2S):\n",
    "        if H2S is None:\n",
    "            self.H2S = 0\n",
    "        else:\n",
    "            self.H2S = H2S\n",
    "\n",
    "    def _initialize_CO2(self, CO2):\n",
    "        if CO2 is None:\n",
    "            self.CO2 = 0\n",
    "        else:\n",
    "            self.CO2 = CO2\n",
    "\n",
    "    # The first argument A will always be None when called. However, still defining it for structural consistency\n",
    "    def _initialize_A(self, A, H2S=None, CO2=None):\n",
    "        if A is None:\n",
    "            self._calc_A(H2S, CO2)\n",
    "        else:\n",
    "            self.A = A\n",
    "\n",
    "    # The first argument B will always be None when called. However, still defining it for structural consistency\n",
    "    def _initialize_B(self, B, H2S=None):\n",
    "        if B is None:\n",
    "            self._calc_B(H2S)\n",
    "        else:\n",
    "            self.B = B\n",
    "\n",
    "    def _initialize_Tpc(self, Tpc, sg=None):\n",
    "        if Tpc is None:\n",
    "            self.calc_Tpc(sg=sg)\n",
    "        else:\n",
    "            self.Tpc = Tpc\n",
    "\n",
    "    def _initialize_Ppc(self, Ppc, sg=None):\n",
    "        if Ppc is None:\n",
    "            self.calc_Ppc(sg=sg)\n",
    "        else:\n",
    "            self.Ppc = Ppc\n",
    "\n",
    "    def _initialize_e_correction(self, e_correction, H2S=None, CO2=None, ignore_conflict=False):\n",
    "        if e_correction is None:\n",
    "            self.calc_e_correction(H2S=H2S, CO2=CO2)\n",
    "        else:\n",
    "            if ignore_conflict is False:\n",
    "                self._check_conflicting_arguments(self.calc_e_correction, 'e_correction')\n",
    "            self.e_correction = e_correction\n",
    "\n",
    "    def _initialize_Tpc_corrected(self, Tpc_corrected, sg=None, Tpc=None, e_correction=None, H2S=None, CO2=None, ignore_conflict=False):\n",
    "        if Tpc_corrected is None:\n",
    "            self.calc_Tpc_corrected(sg=sg, Tpc=Tpc, e_correction=e_correction, H2S=H2S, CO2=CO2, ignore_conflict=ignore_conflict)\n",
    "        else:\n",
    "            if ignore_conflict is False:\n",
    "                self._check_conflicting_arguments(self.calc_Tpc_corrected, 'Tpc_corrected')\n",
    "            self.Tpc_corrected = Tpc_corrected\n",
    "\n",
    "    def _initialize_Ppc_corrected(self, Ppc_corrected, sg=None, Tpc=None, Ppc=None, e_correction=None,\n",
    "                                  Tpc_corrected=None, H2S=None, CO2=None, ignore_conflict=False):\n",
    "        if Ppc_corrected is None:\n",
    "            self.calc_Ppc_corrected(sg=sg, Tpc=Tpc, Ppc=Ppc, e_correction=e_correction, Tpc_corrected=Tpc_corrected, H2S=H2S, CO2=CO2, ignore_conflict=ignore_conflict)\n",
    "        else:\n",
    "            if ignore_conflict is False:\n",
    "                self._check_conflicting_arguments(self.calc_Ppc_corrected, 'Ppc_corrected')\n",
    "            self.Ppc_corrected = Ppc_corrected\n",
    "\n",
    "    def _initialize_Pr(self, Pr, P=None, Ppc_corrected=None, sg=None, Tpc=None, Ppc=None, e_correction=None, Tpc_corrected=None, H2S=None, CO2=None, ignore_conflict=False):\n",
    "        if Pr is None:\n",
    "            self.calc_Pr(P=P, Ppc_corrected=Ppc_corrected, sg=sg, Tpc=Tpc, Ppc=Ppc, e_correction=e_correction, Tpc_corrected=Tpc_corrected, H2S=H2S, CO2=CO2, ignore_conflict=ignore_conflict)\n",
    "        else:\n",
    "            if ignore_conflict is False:\n",
    "                self._check_conflicting_arguments(self.calc_Pr, 'Pr')\n",
    "            self.Pr = Pr\n",
    "\n",
    "    def _initialize_Tr(self, Tr, T, Tpc_corrected=None, sg=None, Tpc=None, e_correction=None, H2S=None, CO2=None, ignore_conflict=False):\n",
    "        if Tr is None:\n",
    "            self.calc_Tr(T=T, Tpc_corrected=Tpc_corrected, sg=sg, Tpc=Tpc, e_correction=e_correction, H2S=H2S, CO2=CO2, ignore_conflict=ignore_conflict)\n",
    "        else:\n",
    "            if ignore_conflict is False:\n",
    "                self._check_conflicting_arguments(self.calc_Tr, 'Tr')\n",
    "            self.Tr = Tr\n",
    "\n",
    "    def _check_missing_P(self, P):\n",
    "        if P is None:\n",
    "            raise TypeError(\"Missing a required argument, P (gas pressure, psia)\")\n",
    "        self.P = P\n",
    "\n",
    "    def _check_missing_T(self, _T):\n",
    "        if _T is None:\n",
    "            raise TypeError(\"Missing a required argument, T (gas temperature, °F)\")\n",
    "        self._T = _T\n",
    "\n",
    "    def _check_invalid_mode(self, mode):\n",
    "        if mode != 'sutton' and mode != 'piper':\n",
    "            raise TypeError(\"Invalid optional argument, mode (calculation method), input either 'sutton', 'piper', or None (default='sutton')\")\n",
    "        self.mode = mode\n",
    "\n",
    "    def quickstart(self):\n",
    "\n",
    "        xmax = 8\n",
    "        Prs = np.linspace(0, xmax, xmax * 10 + 1)\n",
    "        Prs = np.array([round(Pr, 1) for Pr in Prs])\n",
    "\n",
    "        Trs = np.array([1.05, 1.1, 1.2, 1.3, 1.4, 1.5, 1.6, 1.7, 1.8, 1.9, 2.0, 2.2, 2.4, 2.6, 2.8, 3.0])\n",
    "\n",
    "        results = {Tr: {\n",
    "            'Pr': np.array([]),\n",
    "            'Z': np.array([])\n",
    "        } for Tr in Trs}\n",
    "\n",
    "        for Tr in Trs:\n",
    "            for Pr in Prs:\n",
    "                z_obj = sutton()\n",
    "                z = z_obj.calc_Z(Tr=Tr, Pr=Pr, **{'maxiter': 1000})\n",
    "                results[Tr]['Z'] = np.append(results[Tr]['Z'], [z], axis=0)\n",
    "                results[Tr]['Pr'] = np.append(results[Tr]['Pr'], [Pr], axis=0)\n",
    "\n",
    "        label_fontsize = 12\n",
    "\n",
    "        fig, ax = plt.subplots(figsize=(8, 5))\n",
    "        for Tr in Trs:\n",
    "\n",
    "            Zs = results[Tr]['Z']\n",
    "            idx_min = np.where(Zs == min(Zs))\n",
    "\n",
    "            p = ax.plot(Prs, Zs)\n",
    "            if Tr == 1.05:\n",
    "                t = ax.text(Prs[idx_min] - 0.5, min(Zs) - 0.005, '$T_{r}$ = 1.2', color=p[0].get_color())\n",
    "                t.set_bbox(dict(facecolor='white', alpha=0.9, edgecolor='white', pad=1))\n",
    "            else:\n",
    "                t = ax.text(Prs[idx_min] - 0.2, min(Zs) - 0.005, Tr, color=p[0].get_color())\n",
    "                t.set_bbox(dict(facecolor='white', alpha=0.9, edgecolor='white', pad=1))\n",
    "\n",
    "        ax.set_xlim(0, xmax)\n",
    "        ax.minorticks_on()\n",
    "        ax.grid(alpha=0.5)\n",
    "        ax.grid(b=True, which='minor', alpha=0.1)\n",
    "        ax.spines.top.set_visible(False)\n",
    "        ax.spines.right.set_visible(False)\n",
    "\n",
    "        ax.set_ylabel('Compressibility Factor, $Z$', fontsize=label_fontsize)\n",
    "        ax.set_xlabel('Pseudo-Reduced Pressure, $P_{r}$', fontsize=label_fontsize)\n",
    "        ax.text(0.57, 0.08, '$T_{r}$ = Pseudo-Reduced Temperature', fontsize=11, transform=ax.transAxes,\n",
    "                bbox=dict(facecolor='white'))\n",
    "\n",
    "        def setbold(txt):\n",
    "            return ' '.join([r\"$\\bf{\" + item + \"}$\" for item in txt.split(' ')])\n",
    "\n",
    "        ax.set_title(setbold('Real Gas Law Compressibility Factor - Z') + \", computed with GasCompressiblityFactor-py \",\n",
    "                     fontsize=12, pad=10, x=0.445, y=1.06)\n",
    "        ax.annotate('', xy=(-0.09, 1.05), xycoords='axes fraction', xytext=(1.05, 1.05),\n",
    "                    arrowprops=dict(arrowstyle=\"-\", color='k'))\n",
    "\n",
    "        fig.tight_layout()\n",
    "\n",
    "        return results, fig, ax\n",
    "\n",
    "\n"
   ]
  },
  {
   "cell_type": "code",
   "execution_count": 203,
   "id": "d8913e7c",
   "metadata": {},
   "outputs": [
    {
     "data": {
      "text/plain": [
       "300"
      ]
     },
     "execution_count": 203,
     "metadata": {},
     "output_type": "execute_result"
    }
   ],
   "source": [
    "sutton().calc_Ppc_corrected(Ppc=300)"
   ]
  },
  {
   "cell_type": "code",
   "execution_count": 204,
   "id": "334758a2",
   "metadata": {},
   "outputs": [
    {
     "data": {
      "text/plain": [
       "300"
      ]
     },
     "execution_count": 204,
     "metadata": {},
     "output_type": "execute_result"
    }
   ],
   "source": [
    "sutton().calc_Tpc_corrected(Tpc=300)"
   ]
  },
  {
   "cell_type": "code",
   "execution_count": 194,
   "id": "588420d9",
   "metadata": {},
   "outputs": [
    {
     "data": {
      "text/plain": [
       "377.59"
      ]
     },
     "execution_count": 194,
     "metadata": {},
     "output_type": "execute_result"
    }
   ],
   "source": [
    "sutton().calc_Tpc(sg=0.7)"
   ]
  },
  {
   "cell_type": "code",
   "execution_count": 206,
   "id": "45af6258",
   "metadata": {},
   "outputs": [
    {
     "data": {
      "text/plain": [
       "0.7827102198079334"
      ]
     },
     "execution_count": 206,
     "metadata": {},
     "output_type": "execute_result"
    }
   ],
   "source": [
    "sutton().calc_Z(Pr=3.1995, T=75, Tpc=373.6, e_correction=21.278, ignore_conflict=True)"
   ]
  },
  {
   "cell_type": "code",
   "execution_count": 215,
   "id": "e5522bb8",
   "metadata": {},
   "outputs": [
    {
     "name": "stdout",
     "output_type": "stream",
     "text": [
      "---------\n",
      "534.6700000000001\n",
      "352.322\n",
      "-----------\n",
      "None\n",
      "21.278\n",
      "None\n",
      "373.6\n",
      "352.322\n",
      "0.7827102198079334\n",
      "3.1995\n",
      "1.5175606405504058\n",
      "534.6700000000001\n"
     ]
    }
   ],
   "source": [
    "cc = sutton()\n",
    "\n",
    "cc.calc_Z(Pr=3.1995, T=75, Tpc=377.59, e_correction=21.278, ignore_conflict=True)\n",
    "print(cc.Ppc)\n",
    "print(cc.e_correction)\n",
    "print(cc.Ppc_corrected)\n",
    "print(cc.Tpc)\n",
    "print(cc.Tpc_corrected)\n",
    "print(cc.Z)\n",
    "print(cc.Pr)\n",
    "print(cc.Tr)\n",
    "print(cc.T_f)\n",
    "print(cc.T)"
   ]
  },
  {
   "cell_type": "code",
   "execution_count": 213,
   "id": "97ed731f",
   "metadata": {},
   "outputs": [
    {
     "data": {
      "text/plain": [
       "352.31300000000005"
      ]
     },
     "execution_count": 213,
     "metadata": {},
     "output_type": "execute_result"
    }
   ],
   "source": [
    "373.6-21.287"
   ]
  },
  {
   "cell_type": "code",
   "execution_count": 216,
   "id": "14e650c7",
   "metadata": {},
   "outputs": [
    {
     "data": {
      "text/plain": [
       "1.5175606405504054"
      ]
     },
     "execution_count": 216,
     "metadata": {},
     "output_type": "execute_result"
    }
   ],
   "source": [
    "534.67/352.322"
   ]
  },
  {
   "cell_type": "code",
   "execution_count": null,
   "id": "b0cc258b",
   "metadata": {},
   "outputs": [],
   "source": []
  },
  {
   "cell_type": "code",
   "execution_count": null,
   "id": "12464195",
   "metadata": {},
   "outputs": [],
   "source": []
  },
  {
   "cell_type": "code",
   "execution_count": null,
   "id": "70098871",
   "metadata": {},
   "outputs": [],
   "source": []
  },
  {
   "cell_type": "code",
   "execution_count": 197,
   "id": "bb6da2e5",
   "metadata": {},
   "outputs": [],
   "source": [
    "Ppc=663.29\n",
    "Tpc_corrected=356.31\n",
    "sg=0.7\n",
    "Tpc=377.59\n",
    "B=0\n",
    "e_correction=21.278"
   ]
  },
  {
   "cell_type": "code",
   "execution_count": 198,
   "id": "aceb021d",
   "metadata": {},
   "outputs": [
    {
     "data": {
      "text/plain": [
       "625.9086837575147"
      ]
     },
     "execution_count": 198,
     "metadata": {},
     "output_type": "execute_result"
    }
   ],
   "source": [
    "(Ppc * Tpc_corrected) / (Tpc - B * (1 - B) * e_correction)"
   ]
  },
  {
   "cell_type": "code",
   "execution_count": null,
   "id": "20885c22",
   "metadata": {},
   "outputs": [],
   "source": []
  },
  {
   "cell_type": "code",
   "execution_count": null,
   "id": "ff54bc7d",
   "metadata": {},
   "outputs": [],
   "source": []
  },
  {
   "cell_type": "code",
   "execution_count": null,
   "id": "21e84116",
   "metadata": {},
   "outputs": [],
   "source": []
  },
  {
   "cell_type": "code",
   "execution_count": null,
   "id": "584b5f96",
   "metadata": {},
   "outputs": [],
   "source": []
  },
  {
   "cell_type": "code",
   "execution_count": null,
   "id": "6be12fbb",
   "metadata": {},
   "outputs": [],
   "source": []
  },
  {
   "cell_type": "code",
   "execution_count": null,
   "id": "f7896cd6",
   "metadata": {},
   "outputs": [],
   "source": []
  },
  {
   "cell_type": "code",
   "execution_count": null,
   "id": "8504a696",
   "metadata": {},
   "outputs": [],
   "source": []
  },
  {
   "cell_type": "code",
   "execution_count": null,
   "id": "be4420ab",
   "metadata": {},
   "outputs": [],
   "source": []
  },
  {
   "cell_type": "code",
   "execution_count": null,
   "id": "6ae1fc9e",
   "metadata": {},
   "outputs": [],
   "source": []
  },
  {
   "cell_type": "code",
   "execution_count": null,
   "id": "05916f1e",
   "metadata": {},
   "outputs": [],
   "source": []
  },
  {
   "cell_type": "code",
   "execution_count": null,
   "id": "77a034ac",
   "metadata": {},
   "outputs": [],
   "source": []
  },
  {
   "cell_type": "code",
   "execution_count": null,
   "id": "1cfbb54b",
   "metadata": {},
   "outputs": [],
   "source": []
  },
  {
   "cell_type": "code",
   "execution_count": null,
   "id": "5cd58712",
   "metadata": {},
   "outputs": [],
   "source": []
  },
  {
   "cell_type": "code",
   "execution_count": 34,
   "id": "87745c08",
   "metadata": {},
   "outputs": [
    {
     "data": {
      "text/plain": [
       "{'b': None, 'a': None}"
      ]
     },
     "execution_count": 34,
     "metadata": {},
     "output_type": "execute_result"
    }
   ],
   "source": [
    "aa = None\n",
    "def temp(a=None, b=None):\n",
    "    spec = inspect.getfullargspec(temp)\n",
    "    keys = reversed(spec.args)\n",
    "    values = reversed(spec.defaults)\n",
    "    return {k: v for k, v in zip(keys, values)}\n",
    "\n",
    "    \n",
    "sig = temp(b=2)\n",
    "sig"
   ]
  },
  {
   "cell_type": "code",
   "execution_count": 71,
   "id": "abad0dc7",
   "metadata": {},
   "outputs": [
    {
     "name": "stdout",
     "output_type": "stream",
     "text": [
      "<class 'dict'>\n"
     ]
    }
   ],
   "source": [
    "print(type(sig))"
   ]
  },
  {
   "cell_type": "code",
   "execution_count": null,
   "id": "6362f374",
   "metadata": {},
   "outputs": [],
   "source": []
  },
  {
   "cell_type": "code",
   "execution_count": 58,
   "id": "0fb7cf0f",
   "metadata": {},
   "outputs": [
    {
     "data": {
      "text/plain": [
       "{'a', 'b'}"
      ]
     },
     "execution_count": 58,
     "metadata": {},
     "output_type": "execute_result"
    }
   ],
   "source": [
    "{a for a in sig if a not in ['keys', 'values']}"
   ]
  },
  {
   "cell_type": "code",
   "execution_count": 60,
   "id": "c9fcb1c4",
   "metadata": {},
   "outputs": [
    {
     "data": {
      "text/plain": [
       "dict_values([1, 2, {}, (None, None)])"
      ]
     },
     "execution_count": 60,
     "metadata": {},
     "output_type": "execute_result"
    }
   ],
   "source": [
    "sig.keys()\n",
    "sig.values()"
   ]
  },
  {
   "cell_type": "code",
   "execution_count": 63,
   "id": "c0b517cd",
   "metadata": {},
   "outputs": [
    {
     "data": {
      "text/plain": [
       "{'a': 1, 'b': 2, 'keys': {}, 'values': (None, None)}"
      ]
     },
     "execution_count": 63,
     "metadata": {},
     "output_type": "execute_result"
    }
   ],
   "source": [
    "sig"
   ]
  },
  {
   "cell_type": "code",
   "execution_count": 66,
   "id": "0b907940",
   "metadata": {},
   "outputs": [
    {
     "data": {
      "text/plain": [
       "{'a': 1, 'b': 2}"
      ]
     },
     "execution_count": 66,
     "metadata": {},
     "output_type": "execute_result"
    }
   ],
   "source": [
    "{key: value for key, value in sig.items() if key not in ['keys', 'values']}"
   ]
  },
  {
   "cell_type": "code",
   "execution_count": 56,
   "id": "fa43dd1b",
   "metadata": {},
   "outputs": [
    {
     "data": {
      "text/plain": [
       "(None, None)"
      ]
     },
     "execution_count": 56,
     "metadata": {},
     "output_type": "execute_result"
    }
   ],
   "source": [
    "sig['values']"
   ]
  },
  {
   "cell_type": "code",
   "execution_count": null,
   "id": "e84a34a5",
   "metadata": {},
   "outputs": [],
   "source": []
  },
  {
   "cell_type": "code",
   "execution_count": null,
   "id": "b9c350bc",
   "metadata": {},
   "outputs": [],
   "source": []
  },
  {
   "cell_type": "code",
   "execution_count": 4,
   "id": "954268fc",
   "metadata": {},
   "outputs": [
    {
     "data": {
      "text/plain": [
       "278.7221939707813"
      ]
     },
     "execution_count": 4,
     "metadata": {},
     "output_type": "execute_result"
    }
   ],
   "source": [
    "a = sutton()\n",
    "a.calc_Tpc_corrected(sg=0.7, Tpc=300, H2S=0.07, CO2=0.1)"
   ]
  },
  {
   "cell_type": "code",
   "execution_count": null,
   "id": "1d4bd925",
   "metadata": {},
   "outputs": [],
   "source": []
  },
  {
   "cell_type": "code",
   "execution_count": null,
   "id": "d27c0f17",
   "metadata": {},
   "outputs": [],
   "source": []
  },
  {
   "cell_type": "code",
   "execution_count": null,
   "id": "20417bd7",
   "metadata": {},
   "outputs": [],
   "source": []
  },
  {
   "cell_type": "code",
   "execution_count": 228,
   "id": "f63f807b",
   "metadata": {},
   "outputs": [],
   "source": [
    "from utilities import calc_Fahrenheit_to_Rankine"
   ]
  },
  {
   "cell_type": "code",
   "execution_count": 232,
   "id": "13d3e2e0",
   "metadata": {
    "scrolled": true
   },
   "outputs": [
    {
     "name": "stderr",
     "output_type": "stream",
     "text": [
      "C:\\Users\\EricKim\\AppData\\Local\\Temp\\ipykernel_16228\\2819131601.py:1: UserWarning: e_correction factor computed from H2S = None does not agree with the input e_correction factor within 10% tolerance. The result is likely to have minor error.\n",
      "  sutton().calc_Ppc_corrected(Ppc=663.29, e_correction=21.278, Tpc_corrected=356.31, Tpc=377.59, H2S=0.07, CO2=0.1)\n"
     ]
    },
    {
     "data": {
      "text/plain": [
       "628.2132990273668"
      ]
     },
     "execution_count": 232,
     "metadata": {},
     "output_type": "execute_result"
    }
   ],
   "source": [
    "sutton().calc_Ppc_corrected(Ppc=663.29, e_correction=21.278, Tpc_corrected=356.31, Tpc=377.59, H2S=0.07, CO2=0.1)"
   ]
  },
  {
   "cell_type": "code",
   "execution_count": 230,
   "id": "b52fc282",
   "metadata": {},
   "outputs": [
    {
     "data": {
      "text/plain": [
       "20.34162071377186"
      ]
     },
     "execution_count": 230,
     "metadata": {},
     "output_type": "execute_result"
    }
   ],
   "source": [
    "sutton().calc_e_correction(H2S=0.06, CO2=0.1)"
   ]
  },
  {
   "cell_type": "code",
   "execution_count": 233,
   "id": "9cf5ba6e",
   "metadata": {},
   "outputs": [
    {
     "data": {
      "text/plain": [
       "625.9086837575147"
      ]
     },
     "execution_count": 233,
     "metadata": {},
     "output_type": "execute_result"
    }
   ],
   "source": [
    "sutton().calc_Ppc_corrected(Ppc=663.29, Tpc_corrected=356.31, sg=0.7)"
   ]
  },
  {
   "cell_type": "code",
   "execution_count": null,
   "id": "173a6d9b",
   "metadata": {},
   "outputs": [],
   "source": []
  },
  {
   "cell_type": "code",
   "execution_count": null,
   "id": "a05662bd",
   "metadata": {},
   "outputs": [],
   "source": []
  },
  {
   "cell_type": "code",
   "execution_count": null,
   "id": "11703e1e",
   "metadata": {},
   "outputs": [],
   "source": []
  },
  {
   "cell_type": "code",
   "execution_count": 200,
   "id": "b7df46d8",
   "metadata": {},
   "outputs": [
    {
     "name": "stderr",
     "output_type": "stream",
     "text": [
      "C:\\Users\\EricKim\\AppData\\Local\\Temp\\ipykernel_16228\\663912657.py:16: warning1: 'message'\n",
      "  warnings.warn('message',warning1)\n"
     ]
    }
   ],
   "source": [
    "import warnings\n",
    "\n",
    "\n",
    "class customwarning(Warning):\n",
    "    pass\n",
    "\n",
    "\n",
    "class warning1(customwarning):\n",
    "    def __init__(self, message):\n",
    "        self.message = message\n",
    "\n",
    "    def __str__(self):\n",
    "        return repr(self.message)\n",
    "\n",
    "\n",
    "warnings.warn('message',warning1)"
   ]
  },
  {
   "cell_type": "code",
   "execution_count": null,
   "id": "827db540",
   "metadata": {},
   "outputs": [],
   "source": []
  },
  {
   "cell_type": "code",
   "execution_count": null,
   "id": "71f42361",
   "metadata": {},
   "outputs": [],
   "source": []
  },
  {
   "cell_type": "code",
   "execution_count": null,
   "id": "efdb753d",
   "metadata": {},
   "outputs": [],
   "source": []
  },
  {
   "cell_type": "code",
   "execution_count": null,
   "id": "b9fd5fbc",
   "metadata": {},
   "outputs": [],
   "source": []
  },
  {
   "cell_type": "code",
   "execution_count": null,
   "id": "9b7828b8",
   "metadata": {},
   "outputs": [],
   "source": []
  },
  {
   "cell_type": "code",
   "execution_count": null,
   "id": "b59202fe",
   "metadata": {},
   "outputs": [],
   "source": []
  },
  {
   "cell_type": "code",
   "execution_count": null,
   "id": "f426b6ad",
   "metadata": {},
   "outputs": [],
   "source": []
  },
  {
   "cell_type": "code",
   "execution_count": 178,
   "id": "4931b0aa",
   "metadata": {},
   "outputs": [
    {
     "ename": "TypeError",
     "evalue": "not enough arguments for format string",
     "output_type": "error",
     "traceback": [
      "\u001b[1;31m---------------------------------------------------------------------------\u001b[0m",
      "\u001b[1;31mTypeError\u001b[0m                                 Traceback (most recent call last)",
      "\u001b[1;32m~\\AppData\\Local\\Temp\\ipykernel_16228\\3428000352.py\u001b[0m in \u001b[0;36m<module>\u001b[1;34m\u001b[0m\n\u001b[1;32m----> 1\u001b[1;33m \u001b[0msutton\u001b[0m\u001b[1;33m(\u001b[0m\u001b[1;33m)\u001b[0m\u001b[1;33m.\u001b[0m\u001b[0mcalc_Ppc_corrected\u001b[0m\u001b[1;33m(\u001b[0m\u001b[0mPpc\u001b[0m\u001b[1;33m=\u001b[0m\u001b[1;36m663.29\u001b[0m\u001b[1;33m,\u001b[0m \u001b[0me_correction\u001b[0m\u001b[1;33m=\u001b[0m\u001b[1;36m21.278\u001b[0m\u001b[1;33m,\u001b[0m \u001b[0mTpc_corrected\u001b[0m\u001b[1;33m=\u001b[0m\u001b[1;36m356.31\u001b[0m\u001b[1;33m,\u001b[0m \u001b[0mTpc\u001b[0m\u001b[1;33m=\u001b[0m\u001b[1;36m377.59\u001b[0m\u001b[1;33m)\u001b[0m\u001b[1;33m\u001b[0m\u001b[1;33m\u001b[0m\u001b[0m\n\u001b[0m",
      "\u001b[1;32m~\\AppData\\Local\\Temp\\ipykernel_16228\\3113611712.py\u001b[0m in \u001b[0;36mcalc_Ppc_corrected\u001b[1;34m(self, sg, Tpc, Ppc, e_correction, Tpc_corrected, H2S, CO2)\u001b[0m\n\u001b[0;32m     96\u001b[0m                 \u001b[1;32mpass\u001b[0m\u001b[1;33m\u001b[0m\u001b[1;33m\u001b[0m\u001b[0m\n\u001b[0;32m     97\u001b[0m             \u001b[1;32melse\u001b[0m\u001b[1;33m:\u001b[0m\u001b[1;33m\u001b[0m\u001b[1;33m\u001b[0m\u001b[0m\n\u001b[1;32m---> 98\u001b[1;33m                 warnings.warn(\"e_correction factor computed from H2S = %s does not agree with the provided \"\n\u001b[0m\u001b[0;32m     99\u001b[0m                               \"e_correction factor within 10% tolerance. The result is likely to have minor error.\" % str(None) )\n\u001b[0;32m    100\u001b[0m \u001b[1;33m\u001b[0m\u001b[0m\n",
      "\u001b[1;31mTypeError\u001b[0m: not enough arguments for format string"
     ]
    }
   ],
   "source": [
    "sutton().calc_Ppc_corrected(Ppc=663.29, e_correction=21.278, Tpc_corrected=356.31, Tpc=377.59)"
   ]
  },
  {
   "cell_type": "code",
   "execution_count": 179,
   "id": "4eff2a9f",
   "metadata": {},
   "outputs": [
    {
     "ename": "TypeError",
     "evalue": "not enough arguments for format string",
     "output_type": "error",
     "traceback": [
      "\u001b[1;31m---------------------------------------------------------------------------\u001b[0m",
      "\u001b[1;31mTypeError\u001b[0m                                 Traceback (most recent call last)",
      "\u001b[1;32m~\\AppData\\Local\\Temp\\ipykernel_16228\\2674746062.py\u001b[0m in \u001b[0;36m<module>\u001b[1;34m\u001b[0m\n\u001b[0;32m      1\u001b[0m \u001b[0ma\u001b[0m \u001b[1;33m=\u001b[0m \u001b[0msutton\u001b[0m\u001b[1;33m(\u001b[0m\u001b[1;33m)\u001b[0m\u001b[1;33m\u001b[0m\u001b[1;33m\u001b[0m\u001b[0m\n\u001b[1;32m----> 2\u001b[1;33m \u001b[0ma\u001b[0m\u001b[1;33m.\u001b[0m\u001b[0mcalc_Ppc_corrected\u001b[0m\u001b[1;33m(\u001b[0m\u001b[0mPpc\u001b[0m\u001b[1;33m=\u001b[0m\u001b[1;36m663.29\u001b[0m\u001b[1;33m,\u001b[0m \u001b[0me_correction\u001b[0m\u001b[1;33m=\u001b[0m\u001b[1;36m21.278\u001b[0m\u001b[1;33m,\u001b[0m \u001b[0mTpc_corrected\u001b[0m\u001b[1;33m=\u001b[0m\u001b[1;36m356.31\u001b[0m\u001b[1;33m,\u001b[0m \u001b[0msg\u001b[0m\u001b[1;33m=\u001b[0m\u001b[1;36m0.7\u001b[0m\u001b[1;33m)\u001b[0m\u001b[1;33m\u001b[0m\u001b[1;33m\u001b[0m\u001b[0m\n\u001b[0m\u001b[0;32m      3\u001b[0m \u001b[1;33m\u001b[0m\u001b[0m\n\u001b[0;32m      4\u001b[0m \u001b[0mprint\u001b[0m\u001b[1;33m(\u001b[0m\u001b[0ma\u001b[0m\u001b[1;33m.\u001b[0m\u001b[0mPpc\u001b[0m\u001b[1;33m)\u001b[0m\u001b[1;33m\u001b[0m\u001b[1;33m\u001b[0m\u001b[0m\n\u001b[0;32m      5\u001b[0m \u001b[0mprint\u001b[0m\u001b[1;33m(\u001b[0m\u001b[0ma\u001b[0m\u001b[1;33m.\u001b[0m\u001b[0mTpc\u001b[0m\u001b[1;33m)\u001b[0m\u001b[1;33m\u001b[0m\u001b[1;33m\u001b[0m\u001b[0m\n",
      "\u001b[1;32m~\\AppData\\Local\\Temp\\ipykernel_16228\\3113611712.py\u001b[0m in \u001b[0;36mcalc_Ppc_corrected\u001b[1;34m(self, sg, Tpc, Ppc, e_correction, Tpc_corrected, H2S, CO2)\u001b[0m\n\u001b[0;32m     96\u001b[0m                 \u001b[1;32mpass\u001b[0m\u001b[1;33m\u001b[0m\u001b[1;33m\u001b[0m\u001b[0m\n\u001b[0;32m     97\u001b[0m             \u001b[1;32melse\u001b[0m\u001b[1;33m:\u001b[0m\u001b[1;33m\u001b[0m\u001b[1;33m\u001b[0m\u001b[0m\n\u001b[1;32m---> 98\u001b[1;33m                 warnings.warn(\"e_correction factor computed from H2S = %s does not agree with the provided \"\n\u001b[0m\u001b[0;32m     99\u001b[0m                               \"e_correction factor within 10% tolerance. The result is likely to have minor error.\" % str(None) )\n\u001b[0;32m    100\u001b[0m \u001b[1;33m\u001b[0m\u001b[0m\n",
      "\u001b[1;31mTypeError\u001b[0m: not enough arguments for format string"
     ]
    }
   ],
   "source": [
    "a = sutton()\n",
    "a.calc_Ppc_corrected(Ppc=663.29, e_correction=21.278, Tpc_corrected=356.31, sg=0.7)\n",
    "\n",
    "print(a.Ppc)\n",
    "print(a.Tpc)\n",
    "print(a.e_correction)\n",
    "print(a.Tpc_corrected)\n",
    "print(a.Ppc_corrected)"
   ]
  },
  {
   "cell_type": "code",
   "execution_count": 196,
   "id": "96997039",
   "metadata": {},
   "outputs": [
    {
     "ename": "ValueError",
     "evalue": "unsupported format character 't' (0x74) at index 108",
     "output_type": "error",
     "traceback": [
      "\u001b[1;31m---------------------------------------------------------------------------\u001b[0m",
      "\u001b[1;31mValueError\u001b[0m                                Traceback (most recent call last)",
      "\u001b[1;32m~\\AppData\\Local\\Temp\\ipykernel_16228\\1904961174.py\u001b[0m in \u001b[0;36m<module>\u001b[1;34m\u001b[0m\n\u001b[1;32m----> 1\u001b[1;33m \u001b[0mwarnings\u001b[0m\u001b[1;33m.\u001b[0m\u001b[0mwarn\u001b[0m\u001b[1;33m(\u001b[0m\u001b[1;34m\"e_correction factor computed from H2S = %%s does not agree with the provided e_correction factor within 10% tolerance. The result is likely to have minor error.\"\u001b[0m \u001b[1;33m%\u001b[0m \u001b[0mstr\u001b[0m\u001b[1;33m(\u001b[0m\u001b[1;32mNone\u001b[0m\u001b[1;33m)\u001b[0m \u001b[1;33m)\u001b[0m\u001b[1;33m\u001b[0m\u001b[1;33m\u001b[0m\u001b[0m\n\u001b[0m",
      "\u001b[1;31mValueError\u001b[0m: unsupported format character 't' (0x74) at index 108"
     ]
    }
   ],
   "source": [
    "warnings.warn(\"e_correction factor computed from H2S = %%s does not agree with the provided e_correction factor within 10% tolerance. The result is likely to have minor error.\" % str(None) )"
   ]
  },
  {
   "cell_type": "code",
   "execution_count": 181,
   "id": "db1311f3",
   "metadata": {},
   "outputs": [
    {
     "ename": "TypeError",
     "evalue": "ufunc 'isfinite' not supported for the input types, and the inputs could not be safely coerced to any supported types according to the casting rule ''safe''",
     "output_type": "error",
     "traceback": [
      "\u001b[1;31m---------------------------------------------------------------------------\u001b[0m",
      "\u001b[1;31mTypeError\u001b[0m                                 Traceback (most recent call last)",
      "\u001b[1;32m~\\AppData\\Local\\Temp\\ipykernel_16228\\3949630673.py\u001b[0m in \u001b[0;36m<module>\u001b[1;34m\u001b[0m\n\u001b[1;32m----> 1\u001b[1;33m \u001b[0mnp\u001b[0m\u001b[1;33m.\u001b[0m\u001b[0misclose\u001b[0m\u001b[1;33m(\u001b[0m\u001b[1;36m1.05\u001b[0m\u001b[1;33m,\u001b[0m \u001b[1;32mNone\u001b[0m\u001b[1;33m,\u001b[0m \u001b[0mrtol\u001b[0m\u001b[1;33m=\u001b[0m\u001b[1;36m1e-01\u001b[0m\u001b[1;33m,\u001b[0m \u001b[0mequal_nan\u001b[0m\u001b[1;33m=\u001b[0m\u001b[1;32mTrue\u001b[0m\u001b[1;33m)\u001b[0m\u001b[1;33m\u001b[0m\u001b[1;33m\u001b[0m\u001b[0m\n\u001b[0m",
      "\u001b[1;32m<__array_function__ internals>\u001b[0m in \u001b[0;36misclose\u001b[1;34m(*args, **kwargs)\u001b[0m\n",
      "\u001b[1;32mC:\\ProgramData\\Anaconda3\\lib\\site-packages\\numpy\\core\\numeric.py\u001b[0m in \u001b[0;36misclose\u001b[1;34m(a, b, rtol, atol, equal_nan)\u001b[0m\n\u001b[0;32m   2354\u001b[0m \u001b[1;33m\u001b[0m\u001b[0m\n\u001b[0;32m   2355\u001b[0m     \u001b[0mxfin\u001b[0m \u001b[1;33m=\u001b[0m \u001b[0misfinite\u001b[0m\u001b[1;33m(\u001b[0m\u001b[0mx\u001b[0m\u001b[1;33m)\u001b[0m\u001b[1;33m\u001b[0m\u001b[1;33m\u001b[0m\u001b[0m\n\u001b[1;32m-> 2356\u001b[1;33m     \u001b[0myfin\u001b[0m \u001b[1;33m=\u001b[0m \u001b[0misfinite\u001b[0m\u001b[1;33m(\u001b[0m\u001b[0my\u001b[0m\u001b[1;33m)\u001b[0m\u001b[1;33m\u001b[0m\u001b[1;33m\u001b[0m\u001b[0m\n\u001b[0m\u001b[0;32m   2357\u001b[0m     \u001b[1;32mif\u001b[0m \u001b[0mall\u001b[0m\u001b[1;33m(\u001b[0m\u001b[0mxfin\u001b[0m\u001b[1;33m)\u001b[0m \u001b[1;32mand\u001b[0m \u001b[0mall\u001b[0m\u001b[1;33m(\u001b[0m\u001b[0myfin\u001b[0m\u001b[1;33m)\u001b[0m\u001b[1;33m:\u001b[0m\u001b[1;33m\u001b[0m\u001b[1;33m\u001b[0m\u001b[0m\n\u001b[0;32m   2358\u001b[0m         \u001b[1;32mreturn\u001b[0m \u001b[0mwithin_tol\u001b[0m\u001b[1;33m(\u001b[0m\u001b[0mx\u001b[0m\u001b[1;33m,\u001b[0m \u001b[0my\u001b[0m\u001b[1;33m,\u001b[0m \u001b[0matol\u001b[0m\u001b[1;33m,\u001b[0m \u001b[0mrtol\u001b[0m\u001b[1;33m)\u001b[0m\u001b[1;33m\u001b[0m\u001b[1;33m\u001b[0m\u001b[0m\n",
      "\u001b[1;31mTypeError\u001b[0m: ufunc 'isfinite' not supported for the input types, and the inputs could not be safely coerced to any supported types according to the casting rule ''safe''"
     ]
    }
   ],
   "source": [
    "np.isclose(1.05, None, rtol=1e-01, equal_nan=True)"
   ]
  },
  {
   "cell_type": "code",
   "execution_count": null,
   "id": "0ca684c3",
   "metadata": {},
   "outputs": [],
   "source": []
  },
  {
   "cell_type": "code",
   "execution_count": 148,
   "id": "0b4a286b",
   "metadata": {},
   "outputs": [
    {
     "name": "stdout",
     "output_type": "stream",
     "text": [
      "663.29\n",
      "377.59\n",
      "21.278\n",
      "356.31\n",
      "625.9086837575147\n"
     ]
    }
   ],
   "source": [
    "a = sutton()\n",
    "a.calc_Ppc_corrected(Ppc=663.29, e_correction=21.278, Tpc_corrected=356.31, Tpc=377.59)\n",
    "\n",
    "print(a.Ppc)\n",
    "print(a.Tpc)\n",
    "print(a.e_correction)\n",
    "print(a.Tpc_corrected)\n",
    "print(a.Ppc_corrected)"
   ]
  },
  {
   "cell_type": "code",
   "execution_count": 149,
   "id": "b35e8aee",
   "metadata": {},
   "outputs": [
    {
     "name": "stdout",
     "output_type": "stream",
     "text": [
      "663.2869999999999\n",
      "377.59\n",
      "21.27\n",
      "356.32\n",
      "628.2272189965797\n"
     ]
    }
   ],
   "source": [
    "a = sutton()\n",
    "a.calc_Ppc_corrected(sg=0.7, e_correction=21.27, H2S=0.07)\n",
    "\n",
    "print(a.Ppc)\n",
    "print(a.Tpc)\n",
    "print(a.e_correction)\n",
    "print(a.Tpc_corrected)\n",
    "print(a.Ppc_corrected)"
   ]
  },
  {
   "cell_type": "code",
   "execution_count": null,
   "id": "6161a656",
   "metadata": {},
   "outputs": [],
   "source": []
  },
  {
   "cell_type": "code",
   "execution_count": null,
   "id": "a88ae358",
   "metadata": {},
   "outputs": [],
   "source": []
  },
  {
   "cell_type": "code",
   "execution_count": null,
   "id": "1c10b01f",
   "metadata": {},
   "outputs": [],
   "source": []
  },
  {
   "cell_type": "code",
   "execution_count": null,
   "id": "9c091c21",
   "metadata": {},
   "outputs": [],
   "source": []
  },
  {
   "cell_type": "code",
   "execution_count": null,
   "id": "99153d8e",
   "metadata": {},
   "outputs": [],
   "source": []
  },
  {
   "cell_type": "code",
   "execution_count": 93,
   "id": "a90bbfb8",
   "metadata": {},
   "outputs": [
    {
     "ename": "TypeError",
     "evalue": "calc_Tpc() got an unexpected keyword argument 'H2S'",
     "output_type": "error",
     "traceback": [
      "\u001b[1;31m---------------------------------------------------------------------------\u001b[0m",
      "\u001b[1;31mTypeError\u001b[0m                                 Traceback (most recent call last)",
      "\u001b[1;32m~\\AppData\\Local\\Temp\\ipykernel_16228\\2015315914.py\u001b[0m in \u001b[0;36m<module>\u001b[1;34m\u001b[0m\n\u001b[0;32m      1\u001b[0m \u001b[0ma\u001b[0m \u001b[1;33m=\u001b[0m \u001b[0msutton\u001b[0m\u001b[1;33m(\u001b[0m\u001b[1;33m)\u001b[0m\u001b[1;33m\u001b[0m\u001b[1;33m\u001b[0m\u001b[0m\n\u001b[0;32m      2\u001b[0m \u001b[0ma\u001b[0m\u001b[1;33m.\u001b[0m\u001b[0mcalc_e_correction\u001b[0m\u001b[1;33m(\u001b[0m\u001b[0mH2S\u001b[0m\u001b[1;33m=\u001b[0m\u001b[1;36m0.07\u001b[0m\u001b[1;33m,\u001b[0m \u001b[0mCO2\u001b[0m\u001b[1;33m=\u001b[0m\u001b[1;36m0.1\u001b[0m\u001b[1;33m)\u001b[0m\u001b[1;33m\u001b[0m\u001b[1;33m\u001b[0m\u001b[0m\n\u001b[1;32m----> 3\u001b[1;33m \u001b[0ma\u001b[0m\u001b[1;33m.\u001b[0m\u001b[0mcalc_Z\u001b[0m\u001b[1;33m(\u001b[0m\u001b[0mP\u001b[0m\u001b[1;33m=\u001b[0m\u001b[1;36m2010\u001b[0m\u001b[1;33m,\u001b[0m \u001b[0mT\u001b[0m\u001b[1;33m=\u001b[0m\u001b[1;36m75\u001b[0m\u001b[1;33m,\u001b[0m \u001b[0msg\u001b[0m\u001b[1;33m=\u001b[0m\u001b[1;36m0.7\u001b[0m\u001b[1;33m,\u001b[0m \u001b[0mH2S\u001b[0m\u001b[1;33m=\u001b[0m\u001b[1;36m0.07\u001b[0m\u001b[1;33m,\u001b[0m \u001b[0mCO2\u001b[0m\u001b[1;33m=\u001b[0m\u001b[1;36m0.1\u001b[0m\u001b[1;33m)\u001b[0m\u001b[1;33m\u001b[0m\u001b[1;33m\u001b[0m\u001b[0m\n\u001b[0m",
      "\u001b[1;32m~\\AppData\\Local\\Temp\\ipykernel_16228\\2830035274.py\u001b[0m in \u001b[0;36mcalc_Z\u001b[1;34m(self, guess, sg, P, T, Tpc, Ppc, Tpc_corrected, Ppc_corrected, A, B, H2S, CO2, N2, Tr, Pr, e_correction, **kwargs)\u001b[0m\n\u001b[0;32m    186\u001b[0m                A=None, B=None, H2S=None, CO2=None, N2=None, Tr=None, Pr=None, e_correction=None, **kwargs):\n\u001b[0;32m    187\u001b[0m         \u001b[0mself\u001b[0m\u001b[1;33m.\u001b[0m\u001b[0m_store_first_caller_name\u001b[0m\u001b[1;33m(\u001b[0m\u001b[0minspect\u001b[0m\u001b[1;33m.\u001b[0m\u001b[0mstack\u001b[0m\u001b[1;33m(\u001b[0m\u001b[1;33m)\u001b[0m\u001b[1;33m[\u001b[0m\u001b[1;36m0\u001b[0m\u001b[1;33m]\u001b[0m\u001b[1;33m[\u001b[0m\u001b[1;36m3\u001b[0m\u001b[1;33m]\u001b[0m\u001b[1;33m)\u001b[0m\u001b[1;33m\u001b[0m\u001b[1;33m\u001b[0m\u001b[0m\n\u001b[1;32m--> 188\u001b[1;33m         \u001b[0mself\u001b[0m\u001b[1;33m.\u001b[0m\u001b[0m_initialize_Pr\u001b[0m\u001b[1;33m(\u001b[0m\u001b[0mPr\u001b[0m\u001b[1;33m,\u001b[0m \u001b[0mP\u001b[0m\u001b[1;33m=\u001b[0m\u001b[0mP\u001b[0m\u001b[1;33m,\u001b[0m \u001b[0mPpc_corrected\u001b[0m\u001b[1;33m=\u001b[0m\u001b[0mPpc_corrected\u001b[0m\u001b[1;33m,\u001b[0m \u001b[0msg\u001b[0m\u001b[1;33m=\u001b[0m\u001b[0msg\u001b[0m\u001b[1;33m,\u001b[0m \u001b[0mTpc\u001b[0m\u001b[1;33m=\u001b[0m\u001b[0mTpc\u001b[0m\u001b[1;33m,\u001b[0m \u001b[0mPpc\u001b[0m\u001b[1;33m=\u001b[0m\u001b[0mPpc\u001b[0m\u001b[1;33m,\u001b[0m \u001b[0me_correction\u001b[0m\u001b[1;33m=\u001b[0m\u001b[0me_correction\u001b[0m\u001b[1;33m,\u001b[0m \u001b[0mTpc_corrected\u001b[0m\u001b[1;33m=\u001b[0m\u001b[0mTpc_corrected\u001b[0m\u001b[1;33m,\u001b[0m \u001b[0mA\u001b[0m\u001b[1;33m=\u001b[0m\u001b[0mA\u001b[0m\u001b[1;33m,\u001b[0m \u001b[0mB\u001b[0m\u001b[1;33m=\u001b[0m\u001b[0mB\u001b[0m\u001b[1;33m,\u001b[0m \u001b[0mH2S\u001b[0m\u001b[1;33m=\u001b[0m\u001b[0mH2S\u001b[0m\u001b[1;33m,\u001b[0m \u001b[0mCO2\u001b[0m\u001b[1;33m=\u001b[0m\u001b[0mCO2\u001b[0m\u001b[1;33m)\u001b[0m\u001b[1;33m\u001b[0m\u001b[1;33m\u001b[0m\u001b[0m\n\u001b[0m\u001b[0;32m    189\u001b[0m         \u001b[0mself\u001b[0m\u001b[1;33m.\u001b[0m\u001b[0m_initialize_Tr\u001b[0m\u001b[1;33m(\u001b[0m\u001b[0mTr\u001b[0m\u001b[1;33m,\u001b[0m \u001b[0mT\u001b[0m\u001b[1;33m,\u001b[0m \u001b[0mTpc_corrected\u001b[0m\u001b[1;33m=\u001b[0m\u001b[0mTpc_corrected\u001b[0m\u001b[1;33m,\u001b[0m \u001b[0msg\u001b[0m\u001b[1;33m=\u001b[0m\u001b[0msg\u001b[0m\u001b[1;33m,\u001b[0m \u001b[0mTpc\u001b[0m\u001b[1;33m=\u001b[0m\u001b[0mTpc\u001b[0m\u001b[1;33m,\u001b[0m \u001b[0me_correction\u001b[0m\u001b[1;33m=\u001b[0m\u001b[0me_correction\u001b[0m\u001b[1;33m,\u001b[0m \u001b[0mA\u001b[0m\u001b[1;33m=\u001b[0m\u001b[0mA\u001b[0m\u001b[1;33m,\u001b[0m \u001b[0mB\u001b[0m\u001b[1;33m=\u001b[0m\u001b[0mB\u001b[0m\u001b[1;33m,\u001b[0m \u001b[0mH2S\u001b[0m\u001b[1;33m=\u001b[0m\u001b[0mH2S\u001b[0m\u001b[1;33m,\u001b[0m \u001b[0mCO2\u001b[0m\u001b[1;33m=\u001b[0m\u001b[0mCO2\u001b[0m\u001b[1;33m)\u001b[0m\u001b[1;33m\u001b[0m\u001b[1;33m\u001b[0m\u001b[0m\n\u001b[0;32m    190\u001b[0m         \u001b[0mself\u001b[0m\u001b[1;33m.\u001b[0m\u001b[0mZ\u001b[0m \u001b[1;33m=\u001b[0m \u001b[0moptimize\u001b[0m\u001b[1;33m.\u001b[0m\u001b[0mnewton\u001b[0m\u001b[1;33m(\u001b[0m\u001b[0mself\u001b[0m\u001b[1;33m.\u001b[0m\u001b[0m_calc_Z\u001b[0m\u001b[1;33m,\u001b[0m \u001b[0mguess\u001b[0m\u001b[1;33m,\u001b[0m \u001b[1;33m**\u001b[0m\u001b[0mkwargs\u001b[0m\u001b[1;33m)\u001b[0m\u001b[1;33m\u001b[0m\u001b[1;33m\u001b[0m\u001b[0m\n",
      "\u001b[1;32m~\\AppData\\Local\\Temp\\ipykernel_16228\\2830035274.py\u001b[0m in \u001b[0;36m_initialize_Pr\u001b[1;34m(self, Pr, P, Ppc_corrected, sg, Tpc, Ppc, e_correction, Tpc_corrected, A, B, H2S, CO2, N2)\u001b[0m\n\u001b[0;32m    281\u001b[0m                        A=None, B=None, H2S=None, CO2=None, N2=None):\n\u001b[0;32m    282\u001b[0m         \u001b[1;32mif\u001b[0m \u001b[0mPr\u001b[0m \u001b[1;32mis\u001b[0m \u001b[1;32mNone\u001b[0m\u001b[1;33m:\u001b[0m\u001b[1;33m\u001b[0m\u001b[1;33m\u001b[0m\u001b[0m\n\u001b[1;32m--> 283\u001b[1;33m             \u001b[0mself\u001b[0m\u001b[1;33m.\u001b[0m\u001b[0mcalc_Pr\u001b[0m\u001b[1;33m(\u001b[0m\u001b[0mP\u001b[0m\u001b[1;33m,\u001b[0m \u001b[0mPpc_corrected\u001b[0m\u001b[1;33m,\u001b[0m \u001b[0msg\u001b[0m\u001b[1;33m,\u001b[0m \u001b[0mTpc\u001b[0m\u001b[1;33m,\u001b[0m \u001b[0mPpc\u001b[0m\u001b[1;33m,\u001b[0m \u001b[0me_correction\u001b[0m\u001b[1;33m,\u001b[0m \u001b[0mTpc_corrected\u001b[0m\u001b[1;33m,\u001b[0m \u001b[0mA\u001b[0m\u001b[1;33m,\u001b[0m \u001b[0mB\u001b[0m\u001b[1;33m,\u001b[0m \u001b[0mH2S\u001b[0m\u001b[1;33m,\u001b[0m \u001b[0mCO2\u001b[0m\u001b[1;33m)\u001b[0m\u001b[1;33m\u001b[0m\u001b[1;33m\u001b[0m\u001b[0m\n\u001b[0m\u001b[0;32m    284\u001b[0m         \u001b[1;32melse\u001b[0m\u001b[1;33m:\u001b[0m\u001b[1;33m\u001b[0m\u001b[1;33m\u001b[0m\u001b[0m\n\u001b[0;32m    285\u001b[0m             \u001b[0mself\u001b[0m\u001b[1;33m.\u001b[0m\u001b[0mPr\u001b[0m \u001b[1;33m=\u001b[0m \u001b[0mPr\u001b[0m\u001b[1;33m\u001b[0m\u001b[1;33m\u001b[0m\u001b[0m\n",
      "\u001b[1;32m~\\AppData\\Local\\Temp\\ipykernel_16228\\2830035274.py\u001b[0m in \u001b[0;36mcalc_Pr\u001b[1;34m(self, P, Ppc_corrected, sg, Tpc, Ppc, e_correction, Tpc_corrected, A, B, H2S, CO2, N2, J, K)\u001b[0m\n\u001b[0;32m    136\u001b[0m         \u001b[1;32mif\u001b[0m \u001b[0mself\u001b[0m\u001b[1;33m.\u001b[0m\u001b[0mmode\u001b[0m \u001b[1;33m==\u001b[0m \u001b[1;34m'sutton'\u001b[0m\u001b[1;33m:\u001b[0m\u001b[1;33m\u001b[0m\u001b[1;33m\u001b[0m\u001b[0m\n\u001b[0;32m    137\u001b[0m             \u001b[0mself\u001b[0m\u001b[1;33m.\u001b[0m\u001b[0m_redundant_argument_check_Ppc_corrected\u001b[0m\u001b[1;33m(\u001b[0m\u001b[0msg\u001b[0m\u001b[1;33m=\u001b[0m\u001b[0msg\u001b[0m\u001b[1;33m,\u001b[0m \u001b[0mPpc\u001b[0m\u001b[1;33m=\u001b[0m\u001b[0mPpc\u001b[0m\u001b[1;33m,\u001b[0m \u001b[0mTpc_corrected\u001b[0m\u001b[1;33m=\u001b[0m\u001b[0mTpc_corrected\u001b[0m\u001b[1;33m,\u001b[0m \u001b[0mTpc\u001b[0m\u001b[1;33m=\u001b[0m\u001b[0mTpc\u001b[0m\u001b[1;33m,\u001b[0m \u001b[0mH2S\u001b[0m\u001b[1;33m=\u001b[0m\u001b[0mH2S\u001b[0m\u001b[1;33m,\u001b[0m \u001b[0mCO2\u001b[0m\u001b[1;33m=\u001b[0m\u001b[0mCO2\u001b[0m\u001b[1;33m,\u001b[0m \u001b[0mA\u001b[0m\u001b[1;33m=\u001b[0m\u001b[1;32mNone\u001b[0m\u001b[1;33m,\u001b[0m \u001b[0mB\u001b[0m\u001b[1;33m=\u001b[0m\u001b[1;32mNone\u001b[0m\u001b[1;33m,\u001b[0m \u001b[0me_correction\u001b[0m\u001b[1;33m=\u001b[0m\u001b[0me_correction\u001b[0m\u001b[1;33m)\u001b[0m\u001b[1;33m\u001b[0m\u001b[1;33m\u001b[0m\u001b[0m\n\u001b[1;32m--> 138\u001b[1;33m             \u001b[0mself\u001b[0m\u001b[1;33m.\u001b[0m\u001b[0m_initialize_Ppc_corrected\u001b[0m\u001b[1;33m(\u001b[0m\u001b[0mPpc_corrected\u001b[0m\u001b[1;33m,\u001b[0m \u001b[0msg\u001b[0m\u001b[1;33m=\u001b[0m\u001b[0msg\u001b[0m\u001b[1;33m,\u001b[0m \u001b[0mTpc\u001b[0m\u001b[1;33m=\u001b[0m\u001b[0mTpc\u001b[0m\u001b[1;33m,\u001b[0m \u001b[0mPpc\u001b[0m\u001b[1;33m=\u001b[0m\u001b[0mPpc\u001b[0m\u001b[1;33m,\u001b[0m \u001b[0me_correction\u001b[0m\u001b[1;33m=\u001b[0m\u001b[0me_correction\u001b[0m\u001b[1;33m,\u001b[0m \u001b[0mTpc_corrected\u001b[0m\u001b[1;33m=\u001b[0m\u001b[0mTpc_corrected\u001b[0m\u001b[1;33m,\u001b[0m \u001b[0mA\u001b[0m\u001b[1;33m=\u001b[0m\u001b[0mA\u001b[0m\u001b[1;33m,\u001b[0m \u001b[0mB\u001b[0m\u001b[1;33m=\u001b[0m\u001b[0mB\u001b[0m\u001b[1;33m,\u001b[0m \u001b[0mH2S\u001b[0m\u001b[1;33m=\u001b[0m\u001b[0mH2S\u001b[0m\u001b[1;33m,\u001b[0m \u001b[0mCO2\u001b[0m\u001b[1;33m=\u001b[0m\u001b[0mCO2\u001b[0m\u001b[1;33m)\u001b[0m\u001b[1;33m\u001b[0m\u001b[1;33m\u001b[0m\u001b[0m\n\u001b[0m\u001b[0;32m    139\u001b[0m             \u001b[0mself\u001b[0m\u001b[1;33m.\u001b[0m\u001b[0mPr\u001b[0m \u001b[1;33m=\u001b[0m \u001b[0mself\u001b[0m\u001b[1;33m.\u001b[0m\u001b[0mP\u001b[0m \u001b[1;33m/\u001b[0m \u001b[0mself\u001b[0m\u001b[1;33m.\u001b[0m\u001b[0mPpc_corrected\u001b[0m\u001b[1;33m\u001b[0m\u001b[1;33m\u001b[0m\u001b[0m\n\u001b[0;32m    140\u001b[0m         \u001b[1;32melse\u001b[0m\u001b[1;33m:\u001b[0m  \u001b[1;31m# mode == 'piper'\u001b[0m\u001b[1;33m\u001b[0m\u001b[1;33m\u001b[0m\u001b[0m\n",
      "\u001b[1;32m~\\AppData\\Local\\Temp\\ipykernel_16228\\2830035274.py\u001b[0m in \u001b[0;36m_initialize_Ppc_corrected\u001b[1;34m(self, Ppc_corrected, sg, Tpc, Ppc, e_correction, Tpc_corrected, A, B, H2S, CO2)\u001b[0m\n\u001b[0;32m    262\u001b[0m                                   Tpc_corrected=None, A=None, B=None, H2S=None, CO2=None):\n\u001b[0;32m    263\u001b[0m         \u001b[1;32mif\u001b[0m \u001b[0mPpc_corrected\u001b[0m \u001b[1;32mis\u001b[0m \u001b[1;32mNone\u001b[0m\u001b[1;33m:\u001b[0m\u001b[1;33m\u001b[0m\u001b[1;33m\u001b[0m\u001b[0m\n\u001b[1;32m--> 264\u001b[1;33m             \u001b[0mself\u001b[0m\u001b[1;33m.\u001b[0m\u001b[0mcalc_Ppc_corrected\u001b[0m\u001b[1;33m(\u001b[0m\u001b[0msg\u001b[0m\u001b[1;33m,\u001b[0m \u001b[0mTpc\u001b[0m\u001b[1;33m,\u001b[0m \u001b[0mPpc\u001b[0m\u001b[1;33m,\u001b[0m \u001b[0me_correction\u001b[0m\u001b[1;33m,\u001b[0m \u001b[0mTpc_corrected\u001b[0m\u001b[1;33m,\u001b[0m \u001b[0mA\u001b[0m\u001b[1;33m,\u001b[0m \u001b[0mB\u001b[0m\u001b[1;33m,\u001b[0m \u001b[0mH2S\u001b[0m\u001b[1;33m,\u001b[0m \u001b[0mCO2\u001b[0m\u001b[1;33m)\u001b[0m\u001b[1;33m\u001b[0m\u001b[1;33m\u001b[0m\u001b[0m\n\u001b[0m\u001b[0;32m    265\u001b[0m         \u001b[1;32melse\u001b[0m\u001b[1;33m:\u001b[0m\u001b[1;33m\u001b[0m\u001b[1;33m\u001b[0m\u001b[0m\n\u001b[0;32m    266\u001b[0m             \u001b[0mself\u001b[0m\u001b[1;33m.\u001b[0m\u001b[0mPpc_corrected\u001b[0m \u001b[1;33m=\u001b[0m \u001b[0mPpc_corrected\u001b[0m\u001b[1;33m\u001b[0m\u001b[1;33m\u001b[0m\u001b[0m\n",
      "\u001b[1;32m~\\AppData\\Local\\Temp\\ipykernel_16228\\2830035274.py\u001b[0m in \u001b[0;36mcalc_Ppc_corrected\u001b[1;34m(self, sg, Tpc, Ppc, e_correction, Tpc_corrected, A, B, H2S, CO2)\u001b[0m\n\u001b[0;32m    111\u001b[0m         \u001b[0mself\u001b[0m\u001b[1;33m.\u001b[0m\u001b[0m_initialize_e_correction\u001b[0m\u001b[1;33m(\u001b[0m\u001b[0me_correction\u001b[0m\u001b[1;33m,\u001b[0m \u001b[0mA\u001b[0m\u001b[1;33m=\u001b[0m\u001b[0mA\u001b[0m\u001b[1;33m,\u001b[0m \u001b[0mB\u001b[0m\u001b[1;33m=\u001b[0m\u001b[0mB\u001b[0m\u001b[1;33m,\u001b[0m \u001b[0mH2S\u001b[0m\u001b[1;33m=\u001b[0m\u001b[0mH2S\u001b[0m\u001b[1;33m,\u001b[0m \u001b[0mCO2\u001b[0m\u001b[1;33m=\u001b[0m\u001b[0mCO2\u001b[0m\u001b[1;33m)\u001b[0m\u001b[1;33m\u001b[0m\u001b[1;33m\u001b[0m\u001b[0m\n\u001b[0;32m    112\u001b[0m         \u001b[1;32mif\u001b[0m \u001b[0mTpc_corrected\u001b[0m \u001b[1;32mis\u001b[0m \u001b[1;32mNone\u001b[0m\u001b[1;33m:\u001b[0m\u001b[1;33m\u001b[0m\u001b[1;33m\u001b[0m\u001b[0m\n\u001b[1;32m--> 113\u001b[1;33m             \u001b[0mself\u001b[0m\u001b[1;33m.\u001b[0m\u001b[0m_initialize_Tpc\u001b[0m\u001b[1;33m(\u001b[0m\u001b[0mTpc\u001b[0m\u001b[1;33m,\u001b[0m \u001b[0msg\u001b[0m\u001b[1;33m=\u001b[0m\u001b[0msg\u001b[0m\u001b[1;33m)\u001b[0m\u001b[1;33m\u001b[0m\u001b[1;33m\u001b[0m\u001b[0m\n\u001b[0m\u001b[0;32m    114\u001b[0m             \u001b[0mself\u001b[0m\u001b[1;33m.\u001b[0m\u001b[0m_initialize_Tpc_corrected\u001b[0m\u001b[1;33m(\u001b[0m\u001b[0mTpc_corrected\u001b[0m\u001b[1;33m,\u001b[0m \u001b[0msg\u001b[0m\u001b[1;33m=\u001b[0m\u001b[0msg\u001b[0m\u001b[1;33m,\u001b[0m \u001b[0mTpc\u001b[0m\u001b[1;33m=\u001b[0m\u001b[0mTpc\u001b[0m\u001b[1;33m,\u001b[0m \u001b[0me_correction\u001b[0m\u001b[1;33m=\u001b[0m\u001b[0me_correction\u001b[0m\u001b[1;33m,\u001b[0m \u001b[0mA\u001b[0m\u001b[1;33m=\u001b[0m\u001b[0mA\u001b[0m\u001b[1;33m,\u001b[0m \u001b[0mB\u001b[0m\u001b[1;33m=\u001b[0m\u001b[0mB\u001b[0m\u001b[1;33m,\u001b[0m \u001b[0mH2S\u001b[0m\u001b[1;33m=\u001b[0m\u001b[0mH2S\u001b[0m\u001b[1;33m,\u001b[0m \u001b[0mCO2\u001b[0m\u001b[1;33m=\u001b[0m\u001b[0mCO2\u001b[0m\u001b[1;33m)\u001b[0m\u001b[1;33m\u001b[0m\u001b[1;33m\u001b[0m\u001b[0m\n\u001b[0;32m    115\u001b[0m         \u001b[0mself\u001b[0m\u001b[1;33m.\u001b[0m\u001b[0mPpc_corrected\u001b[0m \u001b[1;33m=\u001b[0m \u001b[1;33m(\u001b[0m\u001b[0mself\u001b[0m\u001b[1;33m.\u001b[0m\u001b[0mPpc\u001b[0m \u001b[1;33m*\u001b[0m \u001b[0mself\u001b[0m\u001b[1;33m.\u001b[0m\u001b[0mTpc_corrected\u001b[0m\u001b[1;33m)\u001b[0m \u001b[1;33m/\u001b[0m \u001b[1;33m(\u001b[0m\u001b[0mself\u001b[0m\u001b[1;33m.\u001b[0m\u001b[0mTpc\u001b[0m \u001b[1;33m-\u001b[0m \u001b[0mself\u001b[0m\u001b[1;33m.\u001b[0m\u001b[0mB\u001b[0m \u001b[1;33m*\u001b[0m \u001b[1;33m(\u001b[0m\u001b[1;36m1\u001b[0m \u001b[1;33m-\u001b[0m \u001b[0mself\u001b[0m\u001b[1;33m.\u001b[0m\u001b[0mB\u001b[0m\u001b[1;33m)\u001b[0m \u001b[1;33m*\u001b[0m \u001b[0mself\u001b[0m\u001b[1;33m.\u001b[0m\u001b[0me_correction\u001b[0m\u001b[1;33m)\u001b[0m\u001b[1;33m\u001b[0m\u001b[1;33m\u001b[0m\u001b[0m\n",
      "\u001b[1;32m~\\AppData\\Local\\Temp\\ipykernel_16228\\2830035274.py\u001b[0m in \u001b[0;36m_initialize_Tpc\u001b[1;34m(self, Tpc, sg, H2S, CO2, N2, J, K)\u001b[0m\n\u001b[0;32m    236\u001b[0m     \u001b[1;32mdef\u001b[0m \u001b[0m_initialize_Tpc\u001b[0m\u001b[1;33m(\u001b[0m\u001b[0mself\u001b[0m\u001b[1;33m,\u001b[0m \u001b[0mTpc\u001b[0m\u001b[1;33m,\u001b[0m \u001b[0msg\u001b[0m\u001b[1;33m=\u001b[0m\u001b[1;32mNone\u001b[0m\u001b[1;33m,\u001b[0m \u001b[0mH2S\u001b[0m\u001b[1;33m=\u001b[0m\u001b[1;32mNone\u001b[0m\u001b[1;33m,\u001b[0m \u001b[0mCO2\u001b[0m\u001b[1;33m=\u001b[0m\u001b[1;32mNone\u001b[0m\u001b[1;33m,\u001b[0m \u001b[0mN2\u001b[0m\u001b[1;33m=\u001b[0m\u001b[1;32mNone\u001b[0m\u001b[1;33m,\u001b[0m \u001b[0mJ\u001b[0m\u001b[1;33m=\u001b[0m\u001b[1;32mNone\u001b[0m\u001b[1;33m,\u001b[0m \u001b[0mK\u001b[0m\u001b[1;33m=\u001b[0m\u001b[1;32mNone\u001b[0m\u001b[1;33m)\u001b[0m\u001b[1;33m:\u001b[0m\u001b[1;33m\u001b[0m\u001b[1;33m\u001b[0m\u001b[0m\n\u001b[0;32m    237\u001b[0m         \u001b[1;32mif\u001b[0m \u001b[0mTpc\u001b[0m \u001b[1;32mis\u001b[0m \u001b[1;32mNone\u001b[0m\u001b[1;33m:\u001b[0m\u001b[1;33m\u001b[0m\u001b[1;33m\u001b[0m\u001b[0m\n\u001b[1;32m--> 238\u001b[1;33m             \u001b[0mself\u001b[0m\u001b[1;33m.\u001b[0m\u001b[0mcalc_Tpc\u001b[0m\u001b[1;33m(\u001b[0m\u001b[0msg\u001b[0m\u001b[1;33m=\u001b[0m\u001b[0msg\u001b[0m\u001b[1;33m,\u001b[0m \u001b[0mH2S\u001b[0m\u001b[1;33m=\u001b[0m\u001b[0mH2S\u001b[0m\u001b[1;33m,\u001b[0m \u001b[0mCO2\u001b[0m\u001b[1;33m=\u001b[0m\u001b[0mCO2\u001b[0m\u001b[1;33m,\u001b[0m \u001b[0mN2\u001b[0m\u001b[1;33m=\u001b[0m\u001b[0mN2\u001b[0m\u001b[1;33m,\u001b[0m \u001b[0mJ\u001b[0m\u001b[1;33m=\u001b[0m\u001b[0mJ\u001b[0m\u001b[1;33m,\u001b[0m \u001b[0mK\u001b[0m\u001b[1;33m=\u001b[0m\u001b[0mK\u001b[0m\u001b[1;33m)\u001b[0m\u001b[1;33m\u001b[0m\u001b[1;33m\u001b[0m\u001b[0m\n\u001b[0m\u001b[0;32m    239\u001b[0m         \u001b[1;32melse\u001b[0m\u001b[1;33m:\u001b[0m\u001b[1;33m\u001b[0m\u001b[1;33m\u001b[0m\u001b[0m\n\u001b[0;32m    240\u001b[0m             \u001b[0mself\u001b[0m\u001b[1;33m.\u001b[0m\u001b[0mTpc\u001b[0m \u001b[1;33m=\u001b[0m \u001b[0mTpc\u001b[0m\u001b[1;33m\u001b[0m\u001b[1;33m\u001b[0m\u001b[0m\n",
      "\u001b[1;31mTypeError\u001b[0m: calc_Tpc() got an unexpected keyword argument 'H2S'"
     ]
    }
   ],
   "source": [
    "a = sutton()\n",
    "a.calc_e_correction(H2S=0.07, CO2=0.1)\n",
    "a.calc_Z(P=2010, T=75, sg=0.7, H2S=0.07, CO2=0.1)"
   ]
  },
  {
   "cell_type": "code",
   "execution_count": 87,
   "id": "c199b5e3",
   "metadata": {},
   "outputs": [
    {
     "data": {
      "text/plain": [
       "'calc_e_correction'"
      ]
     },
     "execution_count": 87,
     "metadata": {},
     "output_type": "execute_result"
    }
   ],
   "source": [
    "a._calc_from"
   ]
  },
  {
   "cell_type": "code",
   "execution_count": 91,
   "id": "0bd4f076",
   "metadata": {},
   "outputs": [
    {
     "ename": "TypeError",
     "evalue": "Missing a required argument, sg (specific gravity, dimensionless)",
     "output_type": "error",
     "traceback": [
      "\u001b[1;31m---------------------------------------------------------------------------\u001b[0m",
      "\u001b[1;31mTypeError\u001b[0m                                 Traceback (most recent call last)",
      "\u001b[1;32m~\\AppData\\Local\\Temp\\ipykernel_16228\\3010113131.py\u001b[0m in \u001b[0;36m<module>\u001b[1;34m\u001b[0m\n\u001b[0;32m      1\u001b[0m \u001b[0ma\u001b[0m \u001b[1;33m=\u001b[0m \u001b[0mzfactor\u001b[0m\u001b[1;33m(\u001b[0m\u001b[1;33m)\u001b[0m\u001b[1;33m\u001b[0m\u001b[1;33m\u001b[0m\u001b[0m\n\u001b[1;32m----> 2\u001b[1;33m \u001b[0ma\u001b[0m\u001b[1;33m.\u001b[0m\u001b[0mcalc_Tpc\u001b[0m\u001b[1;33m(\u001b[0m\u001b[1;33m)\u001b[0m\u001b[1;33m\u001b[0m\u001b[1;33m\u001b[0m\u001b[0m\n\u001b[0m",
      "\u001b[1;32m~\\AppData\\Local\\Temp\\ipykernel_16228\\3796771148.py\u001b[0m in \u001b[0;36mcalc_Tpc\u001b[1;34m(self, sg, H2S, CO2, N2, J, K)\u001b[0m\n\u001b[0;32m     48\u001b[0m         \u001b[0mself\u001b[0m\u001b[1;33m.\u001b[0m\u001b[0m_store_first_caller_name\u001b[0m\u001b[1;33m(\u001b[0m\u001b[0minspect\u001b[0m\u001b[1;33m.\u001b[0m\u001b[0mstack\u001b[0m\u001b[1;33m(\u001b[0m\u001b[1;33m)\u001b[0m\u001b[1;33m[\u001b[0m\u001b[1;36m0\u001b[0m\u001b[1;33m]\u001b[0m\u001b[1;33m[\u001b[0m\u001b[1;36m3\u001b[0m\u001b[1;33m]\u001b[0m\u001b[1;33m)\u001b[0m\u001b[1;33m\u001b[0m\u001b[1;33m\u001b[0m\u001b[0m\n\u001b[0;32m     49\u001b[0m         \u001b[1;32mif\u001b[0m \u001b[0mself\u001b[0m\u001b[1;33m.\u001b[0m\u001b[0mmode\u001b[0m \u001b[1;33m==\u001b[0m \u001b[1;34m'sutton'\u001b[0m\u001b[1;33m:\u001b[0m\u001b[1;33m\u001b[0m\u001b[1;33m\u001b[0m\u001b[0m\n\u001b[1;32m---> 50\u001b[1;33m             \u001b[0mself\u001b[0m\u001b[1;33m.\u001b[0m\u001b[0m_initialize_sg\u001b[0m\u001b[1;33m(\u001b[0m\u001b[0msg\u001b[0m\u001b[1;33m,\u001b[0m \u001b[0mcalc_from\u001b[0m\u001b[1;33m=\u001b[0m\u001b[1;34m'Tpc'\u001b[0m\u001b[1;33m)\u001b[0m\u001b[1;33m\u001b[0m\u001b[1;33m\u001b[0m\u001b[0m\n\u001b[0m\u001b[0;32m     51\u001b[0m             \u001b[0mself\u001b[0m\u001b[1;33m.\u001b[0m\u001b[0mTpc\u001b[0m \u001b[1;33m=\u001b[0m \u001b[1;36m169.2\u001b[0m \u001b[1;33m+\u001b[0m \u001b[1;36m349.5\u001b[0m \u001b[1;33m*\u001b[0m \u001b[0mself\u001b[0m\u001b[1;33m.\u001b[0m\u001b[0msg\u001b[0m \u001b[1;33m-\u001b[0m \u001b[1;36m74.0\u001b[0m \u001b[1;33m*\u001b[0m \u001b[0mself\u001b[0m\u001b[1;33m.\u001b[0m\u001b[0msg\u001b[0m \u001b[1;33m**\u001b[0m \u001b[1;36m2\u001b[0m\u001b[1;33m\u001b[0m\u001b[1;33m\u001b[0m\u001b[0m\n\u001b[0;32m     52\u001b[0m         \u001b[1;32melse\u001b[0m\u001b[1;33m:\u001b[0m  \u001b[1;31m# mode == 'piper'\u001b[0m\u001b[1;33m\u001b[0m\u001b[1;33m\u001b[0m\u001b[0m\n",
      "\u001b[1;32m~\\AppData\\Local\\Temp\\ipykernel_16228\\3796771148.py\u001b[0m in \u001b[0;36m_initialize_sg\u001b[1;34m(self, sg, calc_from)\u001b[0m\n\u001b[0;32m    204\u001b[0m         \u001b[1;32mif\u001b[0m \u001b[0msg\u001b[0m \u001b[1;32mis\u001b[0m \u001b[1;32mNone\u001b[0m\u001b[1;33m:\u001b[0m\u001b[1;33m\u001b[0m\u001b[1;33m\u001b[0m\u001b[0m\n\u001b[0;32m    205\u001b[0m             \u001b[1;32mif\u001b[0m \u001b[0mcalc_from\u001b[0m \u001b[1;33m==\u001b[0m \u001b[1;34m'Ppc'\u001b[0m \u001b[1;32mor\u001b[0m \u001b[0mcalc_from\u001b[0m \u001b[1;33m==\u001b[0m \u001b[1;34m'Tpc'\u001b[0m\u001b[1;33m:\u001b[0m\u001b[1;33m\u001b[0m\u001b[1;33m\u001b[0m\u001b[0m\n\u001b[1;32m--> 206\u001b[1;33m                 \u001b[1;32mraise\u001b[0m \u001b[0mTypeError\u001b[0m\u001b[1;33m(\u001b[0m\u001b[1;34m\"Missing a required argument, sg (specific gravity, dimensionless)\"\u001b[0m\u001b[1;33m)\u001b[0m\u001b[1;33m\u001b[0m\u001b[1;33m\u001b[0m\u001b[0m\n\u001b[0m\u001b[0;32m    207\u001b[0m             \u001b[1;32melif\u001b[0m \u001b[0mcalc_from\u001b[0m \u001b[1;33m==\u001b[0m \u001b[1;34m'J'\u001b[0m \u001b[1;32mor\u001b[0m \u001b[0mcalc_from\u001b[0m \u001b[1;33m==\u001b[0m \u001b[1;34m'K'\u001b[0m\u001b[1;33m:\u001b[0m\u001b[1;33m\u001b[0m\u001b[1;33m\u001b[0m\u001b[0m\n\u001b[0;32m    208\u001b[0m                 raise TypeError(\"Missing a required argument, sg (specific gravity, dimensionless), or J \"\n",
      "\u001b[1;31mTypeError\u001b[0m: Missing a required argument, sg (specific gravity, dimensionless)"
     ]
    }
   ],
   "source": [
    "a = zfactor()\n",
    "a.calc_Tpc()"
   ]
  },
  {
   "cell_type": "code",
   "execution_count": null,
   "id": "a01189ea",
   "metadata": {},
   "outputs": [],
   "source": []
  },
  {
   "cell_type": "code",
   "execution_count": null,
   "id": "a0dc33a0",
   "metadata": {},
   "outputs": [],
   "source": []
  },
  {
   "cell_type": "code",
   "execution_count": null,
   "id": "cd860754",
   "metadata": {},
   "outputs": [],
   "source": []
  },
  {
   "cell_type": "code",
   "execution_count": null,
   "id": "43d23d41",
   "metadata": {},
   "outputs": [],
   "source": []
  },
  {
   "cell_type": "code",
   "execution_count": null,
   "id": "a5135ca8",
   "metadata": {},
   "outputs": [],
   "source": []
  },
  {
   "cell_type": "code",
   "execution_count": null,
   "id": "6c701f66",
   "metadata": {},
   "outputs": [],
   "source": []
  },
  {
   "cell_type": "code",
   "execution_count": null,
   "id": "6bf82dfb",
   "metadata": {},
   "outputs": [],
   "source": []
  }
 ],
 "metadata": {
  "kernelspec": {
   "display_name": "Python 3 (ipykernel)",
   "language": "python",
   "name": "python3"
  },
  "language_info": {
   "codemirror_mode": {
    "name": "ipython",
    "version": 3
   },
   "file_extension": ".py",
   "mimetype": "text/x-python",
   "name": "python",
   "nbconvert_exporter": "python",
   "pygments_lexer": "ipython3",
   "version": "3.9.13"
  }
 },
 "nbformat": 4,
 "nbformat_minor": 5
}
