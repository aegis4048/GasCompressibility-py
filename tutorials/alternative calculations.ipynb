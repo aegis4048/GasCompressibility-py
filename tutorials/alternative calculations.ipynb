{
 "cells": [
  {
   "cell_type": "code",
   "execution_count": 3,
   "id": "4e57443c",
   "metadata": {},
   "outputs": [],
   "source": [
    "import numpy as np\n",
    "from scipy import optimize\n",
    "import matplotlib.pyplot as plt\n",
    "import inspect\n",
    "\n",
    "\n",
    "try:\n",
    "    from gascompressibility.utilities.utilities import calc_Fahrenheit_to_Rankine\n",
    "except:\n",
    "    pass\n",
    "\n",
    "\n",
    "\n",
    "\n",
    "class sutton:\n",
    "    def __init__(self):\n",
    "        self.mode = 'sutton'\n",
    "        self._check_invalid_mode(self.mode)  # prevent user modification of self.mode\n",
    "\n",
    "        self.sg = None\n",
    "        self.T_f = None\n",
    "        self.T = None\n",
    "        self.P = None\n",
    "        self.H2S = None\n",
    "        self.CO2 = None\n",
    "\n",
    "        self.Tpc = None\n",
    "        self.Ppc = None\n",
    "        self.A = None\n",
    "        self.B = None\n",
    "        self.e_correction = None\n",
    "        self.Tpc_corrected = None\n",
    "        self.Ppc_corrected = None\n",
    "        self.Tr = None\n",
    "        self.Pr = None\n",
    "\n",
    "        self.Z = None\n",
    "\n",
    "        self._first_caller_name = None\n",
    "        self._first_caller_keys = {}\n",
    "        self._first_caller_kwargs = {}\n",
    "        self._first_caller_is_saved = False\n",
    "\n",
    "    def __str__(self):\n",
    "        return str(self.Z)\n",
    "\n",
    "    def __repr__(self):\n",
    "        return '<GasCompressibilityFactor object. Mixing Rule = %s>' % self.mode\n",
    "\n",
    "    \"\"\"sum of the mole fractions of CO2 and H2S in a gas mixture\"\"\"\n",
    "    def _calc_A(self, H2S=None, CO2=None):\n",
    "        self._initialize_H2S(H2S)\n",
    "        self._initialize_CO2(CO2)\n",
    "        self.A = self.H2S + self.CO2\n",
    "        return self.A\n",
    "\n",
    "    \"\"\"mole fraction of H2S in a gas mixture\"\"\"\n",
    "    def _calc_B(self, H2S=None):\n",
    "        self._initialize_H2S(H2S)\n",
    "        self.B = self.H2S\n",
    "        return self.B\n",
    "\n",
    "    \"\"\"pseudo-critical temperature (°R)\"\"\"\n",
    "    def calc_Tpc(self, sg=None):\n",
    "        self._set_first_caller_attributes(inspect.stack()[0][3], locals())\n",
    "        self._initialize_sg(sg)\n",
    "        self.Tpc = 169.2 + 349.5 * self.sg - 74.0 * self.sg ** 2\n",
    "        return self.Tpc\n",
    "\n",
    "    \"\"\"pseudo-critical pressure (psi)\"\"\"\n",
    "    def calc_Ppc(self, sg=None):\n",
    "        self._set_first_caller_attributes(inspect.stack()[0][3], locals())\n",
    "        self._initialize_sg(sg)\n",
    "        self.Ppc = 756.8 - 131.07 * self.sg - 3.6 * self.sg ** 2\n",
    "        return self.Ppc\n",
    "\n",
    "    \"\"\"correction for CO2 and H2S (°R)\"\"\"\n",
    "    def calc_e_correction(self, H2S=None, CO2=None):\n",
    "        self._set_first_caller_attributes(inspect.stack()[0][3], locals())\n",
    "        self._initialize_A(A=None, H2S=H2S, CO2=CO2)\n",
    "        self._initialize_B(B=None, H2S=H2S)\n",
    "        self.e_correction = 120 * (self.A ** 0.9 - self.A ** 1.6) + 15 * (self.B ** 0.5 - self.B ** 4)\n",
    "        return self.e_correction\n",
    "\n",
    "    def calc_Tpc_corrected(self, sg=None, Tpc=None, e_correction=None, H2S=None, CO2=None, ignore_conflict=False):\n",
    "        self._set_first_caller_attributes(inspect.stack()[0][3], locals())\n",
    "        self._initialize_Tpc(Tpc, sg=sg)\n",
    "\n",
    "        # Correction is not needed if no sour gas is present\n",
    "        if e_correction is None and H2S is None and CO2 is None:\n",
    "            self.Tpc_corrected = self.Tpc\n",
    "            return self.Tpc_corrected\n",
    "\n",
    "        self._initialize_e_correction(e_correction, H2S=H2S, CO2=CO2, ignore_conflict=ignore_conflict)\n",
    "        self.Tpc_corrected = self.Tpc - self.e_correction\n",
    "        return self.Tpc_corrected\n",
    "\n",
    "    \"\"\" corrected pseudo-critical pressure (psi)\"\"\"\n",
    "    def calc_Ppc_corrected(self, sg=None, Tpc=None, Ppc=None, e_correction=None, Tpc_corrected=None, H2S=None, CO2=None, ignore_conflict=False):\n",
    "        self._set_first_caller_attributes(inspect.stack()[0][3], locals())\n",
    "        self._initialize_Ppc(Ppc, sg=sg)\n",
    "\n",
    "        # Correction is not needed if no sour gas is present\n",
    "        if e_correction is None and H2S is None and CO2 is None and Tpc is None and Tpc_corrected is None:\n",
    "            self.Ppc_corrected = self.Ppc\n",
    "            return self.Ppc_corrected\n",
    "\n",
    "        self._initialize_Tpc(Tpc, sg=sg)\n",
    "        self._initialize_B(B=None, H2S=H2S)\n",
    "        self._initialize_e_correction(e_correction, H2S=H2S, CO2=CO2, ignore_conflict=ignore_conflict)\n",
    "        self._initialize_Tpc_corrected(Tpc_corrected, sg=sg, Tpc=Tpc, e_correction=e_correction, H2S=H2S, CO2=CO2, ignore_conflict=ignore_conflict)\n",
    "        self.Ppc_corrected = (self.Ppc * self.Tpc_corrected) / (self.Tpc - self.B * (1 - self.B) * self.e_correction)\n",
    "        return self.Ppc_corrected\n",
    "\n",
    "    \"\"\"pseudo-reduced temperature (°R)\"\"\"\n",
    "    def calc_Tr(self, T=None, Tpc_corrected=None, sg=None, Tpc=None, e_correction=None, H2S=None, CO2=None, ignore_conflict=False):\n",
    "        self._set_first_caller_attributes(inspect.stack()[0][3], locals())\n",
    "        self._initialize_T(T)\n",
    "        self._initialize_Tpc_corrected(Tpc_corrected, sg=sg, Tpc=Tpc, e_correction=e_correction, H2S=H2S, CO2=CO2, ignore_conflict=ignore_conflict)\n",
    "        self.Tr = self.T / self.Tpc_corrected\n",
    "        return self.Tr\n",
    "\n",
    "    \"\"\"pseudo-reduced pressure (psi)\"\"\"\n",
    "    def calc_Pr(self, P=None, Ppc_corrected=None, sg=None, Tpc=None, Ppc=None, e_correction=None, Tpc_corrected=None, H2S=None, CO2=None, ignore_conflict=False):\n",
    "        self._set_first_caller_attributes(inspect.stack()[0][3], locals())\n",
    "        self._initialize_P(P)\n",
    "        self._initialize_Ppc_corrected(Ppc_corrected, sg=sg, Tpc=Tpc, Ppc=Ppc, e_correction=e_correction, Tpc_corrected=Tpc_corrected, H2S=H2S, CO2=CO2, ignore_conflict=ignore_conflict)\n",
    "        self.Pr = self.P / self.Ppc_corrected\n",
    "        return self.Pr\n",
    "\n",
    "    \"\"\"\n",
    "    Objective function to miminize for Newton-Raphson nonlinear solver - Z factor calculation\n",
    "    \"\"\"\n",
    "    def _calc_Z(self, z):\n",
    "\n",
    "        self.A1 = 0.3265\n",
    "        self.A2 = -1.0700\n",
    "        self.A3 = -0.5339\n",
    "        self.A4 = 0.01569\n",
    "        self.A5 = -0.05165\n",
    "        self.A6 = 0.5475\n",
    "        self.A7 = -0.7361\n",
    "        self.A8 = 0.1844\n",
    "        self.A9 = 0.1056\n",
    "        self.A10 = 0.6134\n",
    "        self.A11 = 0.7210\n",
    "\n",
    "        return 1 + (\n",
    "                self.A1 +\n",
    "                self.A2 / self.Tr +\n",
    "                self.A3 / self.Tr ** 3 +\n",
    "                self.A4 / self.Tr ** 4 +\n",
    "                self.A5 / self.Tr ** 5\n",
    "        ) * (0.27 * self.Pr) / (z * self.Tr) + (\n",
    "                self.A6 +\n",
    "                self.A7 / self.Tr +\n",
    "                self.A8 / self.Tr ** 2\n",
    "        ) * ((0.27 * self.Pr) / (z * self.Tr)) ** 2 - self.A9 * (\n",
    "                self.A7 / self.Tr +\n",
    "                self.A8 / self.Tr ** 2\n",
    "        ) * ((0.27 * self.Pr) / (z * self.Tr)) ** 5 + self.A10 * (\n",
    "                1 +\n",
    "                self.A11 * ((0.27 * self.Pr) / (z * self.Tr)) ** 2\n",
    "        ) * (\n",
    "                ((0.27 * self.Pr) / (z * self.Tr)) ** 2 /\n",
    "                self.Tr ** 3\n",
    "        ) * np.exp(-self.A11 * ((0.27 * self.Pr) / (z * self.Tr)) ** 2) - z\n",
    "\n",
    "    \"\"\"Newton-Raphson nonlinear solver\"\"\"\n",
    "    def calc_Z(self, guess=0.9, sg=None, P=None, T=None, Tpc=None, Ppc=None, Tpc_corrected=None, Ppc_corrected=None,\n",
    "               H2S=None, CO2=None, Tr=None, Pr=None, e_correction=None, ignore_conflict=False, newton_kwargs=None):\n",
    "        self._set_first_caller_attributes(inspect.stack()[0][3], locals())\n",
    "        self._initialize_Tr(Tr, T, Tpc_corrected=Tpc_corrected, sg=sg, Tpc=Tpc, e_correction=e_correction, H2S=H2S,\n",
    "                            CO2=CO2, ignore_conflict=ignore_conflict)\n",
    "        self._initialize_Pr(Pr, P=P, Ppc_corrected=Ppc_corrected, sg=sg, Tpc=Tpc, Ppc=Ppc, e_correction=e_correction,\n",
    "                            Tpc_corrected=Tpc_corrected, H2S=H2S, CO2=CO2, ignore_conflict=ignore_conflict)\n",
    "\n",
    "        if newton_kwargs is None:\n",
    "            self.Z = optimize.newton(self._calc_Z, guess)\n",
    "        else:\n",
    "            self.Z = optimize.newton(self._calc_Z, guess, **newton_kwargs)\n",
    "\n",
    "        return self.Z\n",
    "\n",
    "    def _set_first_caller_attributes(self, func_name, func_kwargs):\n",
    "        \"\"\"\n",
    "        Helper function to set properties related to the first function called (first in the call stack).\n",
    "        This function doesn't do anything for 'calc_...()' functions called inside the first function.\n",
    "        For exmaple, if `calc_Ppc_corrected()' is called, this function is skipped for 'calc_Ppc()' function which is\n",
    "        triggered inside `calc_Ppc_corrected()`.\n",
    "        :param func_name: string\n",
    "            ex1) func_name= \"calc_Tpc_corrected\",\n",
    "            ex2) func_name = \"calc_Ppc_corrected\",\n",
    "        :param func_kwargs: kwarg parameters passed to 'func_name'\n",
    "            ex1) func_kwargs = {'self': ...some_string, 'sg': None, 'Tpc': 377.59, 'e_correction': None, 'H2S': 0.07, 'CO2': 0.1}\n",
    "            ex2) func_kwargs = {'self': ...some_string, 'sg': 0.6, 'Tpc': None, 'e_correction': None, 'H2S': 0.07, 'CO2': 0.1}\n",
    "        \"\"\"\n",
    "        if not self._first_caller_is_saved:\n",
    "            func_kwargs = {key: value for key, value in func_kwargs.items() if key != 'self'}\n",
    "            if 'ignore_conflict' in func_kwargs:\n",
    "\n",
    "                if func_kwargs['ignore_conflict'] is False:\n",
    "                    \"\"\"\n",
    "                    This modification is needed for self._check_conflicting_arguments(). \n",
    "                    The exception in self._check_conflicting_arguments() compares if \"kwarg is not None\"\n",
    "                    The default 'ignore_conflict' is a boolean object, so comparing if \"ignore_conflict is not None\"\n",
    "                    will raise type error \n",
    "                    \"\"\"\n",
    "                    func_kwargs['ignore_conflict'] = None\n",
    "\n",
    "            self._first_caller_name = func_name\n",
    "            self._first_caller_kwargs = func_kwargs\n",
    "            self._first_caller_is_saved = True\n",
    "        else:\n",
    "            pass\n",
    "\n",
    "    def _check_conflicting_arguments(self, func, calculated_var):\n",
    "        \"\"\"\n",
    "        :param func: string\n",
    "            ex1) func_name = \"calc_Tpc\",\n",
    "            ex2) func_name = \"calc_J\",\n",
    "        :param calculated_var: string\n",
    "            ex1) calculated_var = 'Tpc'\n",
    "            ex1) calculated_var = 'J'\n",
    "        \"\"\"\n",
    "\n",
    "        args = inspect.getfullargspec(func).args[1:]  # arg[0] = 'self', args = arguments defined in \"func\"\n",
    "        for arg in args:\n",
    "            if self._first_caller_kwargs[arg] is not None:\n",
    "                raise TypeError('%s() has conflicting keyword arguments \"%s\" and \"%s\"' % (self._first_caller_name, calculated_var, arg))\n",
    "\n",
    "    def _initialize_sg(self, sg):\n",
    "        if sg is None:\n",
    "            if self._first_caller_name == 'calc_Ppc' or self._first_caller_name == 'calc_Tpc':\n",
    "                raise TypeError(\"Missing a required argument, sg (specific gravity, dimensionless)\")\n",
    "            else:\n",
    "                raise TypeError(\"Missing a required arguments, sg (specific gravity, dimensionless), or Tpc \"\n",
    "                                \"(pseudo-critical temperature, °R) or Ppc (pseudo-critical pressure, psia). \"\n",
    "                                \"Either both Tpc and Ppc must be inputted, or only sg needs to be inputted. \"\n",
    "                                \"Both Tpc and Ppc can be computed from sg\")\n",
    "        else:\n",
    "            self.sg = sg\n",
    "\n",
    "    def _initialize_P(self, P):\n",
    "        if P is None:\n",
    "            raise TypeError(\"Missing a required argument, P (gas pressure, psia)\")\n",
    "        else:\n",
    "            self.P = P\n",
    "\n",
    "    def _initialize_T(self, T):\n",
    "        if T is None:\n",
    "            raise TypeError(\"Missing a required argument, T (gas temperature, °F)\")\n",
    "        else:\n",
    "            self.T_f = T\n",
    "            self.T = calc_Fahrenheit_to_Rankine(T)\n",
    "\n",
    "    def _initialize_H2S(self, H2S):\n",
    "        if H2S is None:\n",
    "            self.H2S = 0\n",
    "        else:\n",
    "            self.H2S = H2S\n",
    "\n",
    "    def _initialize_CO2(self, CO2):\n",
    "        if CO2 is None:\n",
    "            self.CO2 = 0\n",
    "        else:\n",
    "            self.CO2 = CO2\n",
    "\n",
    "    # The first argument A will always be None when called. However, still defining it for structural consistency\n",
    "    def _initialize_A(self, A, H2S=None, CO2=None):\n",
    "        if A is None:\n",
    "            self._calc_A(H2S=H2S, CO2=CO2)\n",
    "        else:\n",
    "            self.A = A\n",
    "\n",
    "    # The first argument B will always be None when called. However, still defining it for structural consistency\n",
    "    def _initialize_B(self, B, H2S=None):\n",
    "        if B is None:\n",
    "            self._calc_B(H2S=H2S)\n",
    "        else:\n",
    "            self.B = B\n",
    "\n",
    "    def _initialize_Tpc(self, Tpc, sg=None):\n",
    "        if Tpc is None:\n",
    "            self.calc_Tpc(sg=sg)\n",
    "        else:\n",
    "            self.Tpc = Tpc\n",
    "\n",
    "    def _initialize_Ppc(self, Ppc, sg=None):\n",
    "        if Ppc is None:\n",
    "            self.calc_Ppc(sg=sg)\n",
    "        else:\n",
    "            self.Ppc = Ppc\n",
    "\n",
    "    def _initialize_e_correction(self, e_correction, H2S=None, CO2=None, ignore_conflict=False):\n",
    "        if e_correction is None:\n",
    "            self.calc_e_correction(H2S=H2S, CO2=CO2)\n",
    "        else:\n",
    "            if ignore_conflict is False:\n",
    "                self._check_conflicting_arguments(self.calc_e_correction, 'e_correction')\n",
    "            self.e_correction = e_correction\n",
    "\n",
    "    def _initialize_Tpc_corrected(self, Tpc_corrected, sg=None, Tpc=None, e_correction=None, H2S=None, CO2=None, ignore_conflict=False):\n",
    "        if Tpc_corrected is None:\n",
    "            self.calc_Tpc_corrected(sg=sg, Tpc=Tpc, e_correction=e_correction, H2S=H2S, CO2=CO2, ignore_conflict=ignore_conflict)\n",
    "        else:\n",
    "            if ignore_conflict is False:\n",
    "                self._check_conflicting_arguments(self.calc_Tpc_corrected, 'Tpc_corrected')\n",
    "            self.Tpc_corrected = Tpc_corrected\n",
    "\n",
    "    def _initialize_Ppc_corrected(self, Ppc_corrected, sg=None, Tpc=None, Ppc=None, e_correction=None,\n",
    "                                  Tpc_corrected=None, H2S=None, CO2=None, ignore_conflict=False):\n",
    "        if Ppc_corrected is None:\n",
    "            self.calc_Ppc_corrected(sg=sg, Tpc=Tpc, Ppc=Ppc, e_correction=e_correction, Tpc_corrected=Tpc_corrected, H2S=H2S, CO2=CO2, ignore_conflict=ignore_conflict)\n",
    "        else:\n",
    "            if ignore_conflict is False:\n",
    "                self._check_conflicting_arguments(self.calc_Ppc_corrected, 'Ppc_corrected')\n",
    "            self.Ppc_corrected = Ppc_corrected\n",
    "\n",
    "    def _initialize_Pr(self, Pr, P=None, Ppc_corrected=None, sg=None, Tpc=None, Ppc=None, e_correction=None, Tpc_corrected=None, H2S=None, CO2=None, ignore_conflict=False):\n",
    "        if Pr is None:\n",
    "            self.calc_Pr(P=P, Ppc_corrected=Ppc_corrected, sg=sg, Tpc=Tpc, Ppc=Ppc, e_correction=e_correction, Tpc_corrected=Tpc_corrected, H2S=H2S, CO2=CO2, ignore_conflict=ignore_conflict)\n",
    "        else:\n",
    "            if ignore_conflict is False:\n",
    "                self._check_conflicting_arguments(self.calc_Pr, 'Pr')\n",
    "            self.Pr = Pr\n",
    "\n",
    "    def _initialize_Tr(self, Tr, T, Tpc_corrected=None, sg=None, Tpc=None, e_correction=None, H2S=None, CO2=None, ignore_conflict=False):\n",
    "        if Tr is None:\n",
    "            self.calc_Tr(T=T, Tpc_corrected=Tpc_corrected, sg=sg, Tpc=Tpc, e_correction=e_correction, H2S=H2S, CO2=CO2, ignore_conflict=ignore_conflict)\n",
    "        else:\n",
    "            if ignore_conflict is False:\n",
    "                self._check_conflicting_arguments(self.calc_Tr, 'Tr')\n",
    "            self.Tr = Tr\n",
    "\n",
    "    def _check_invalid_mode(self, mode):\n",
    "        if mode != 'sutton' and mode != 'piper':\n",
    "            raise TypeError(\"Invalid optional argument, mode (calculation method), input either 'sutton', 'piper', or None (default='sutton')\")\n",
    "        self.mode = mode\n",
    "\n",
    "    def quickstart(self):\n",
    "\n",
    "        xmax = 8\n",
    "        Prs = np.linspace(0, xmax, xmax * 10 + 1)\n",
    "        Prs = np.array([round(Pr, 1) for Pr in Prs])\n",
    "\n",
    "        Trs = np.array([1.05, 1.1, 1.2, 1.3, 1.4, 1.5, 1.6, 1.7, 1.8, 1.9, 2.0, 2.2, 2.4, 2.6, 2.8, 3.0])\n",
    "\n",
    "        results = {Tr: {\n",
    "            'Pr': np.array([]),\n",
    "            'Z': np.array([])\n",
    "        } for Tr in Trs}\n",
    "\n",
    "        for Tr in Trs:\n",
    "            for Pr in Prs:\n",
    "                z_obj = sutton()\n",
    "                z = z_obj.calc_Z(Tr=Tr, Pr=Pr, **{'maxiter': 1000})\n",
    "                results[Tr]['Z'] = np.append(results[Tr]['Z'], [z], axis=0)\n",
    "                results[Tr]['Pr'] = np.append(results[Tr]['Pr'], [Pr], axis=0)\n",
    "\n",
    "        label_fontsize = 12\n",
    "\n",
    "        fig, ax = plt.subplots(figsize=(8, 5))\n",
    "        for Tr in Trs:\n",
    "\n",
    "            Zs = results[Tr]['Z']\n",
    "            idx_min = np.where(Zs == min(Zs))\n",
    "\n",
    "            p = ax.plot(Prs, Zs)\n",
    "            if Tr == 1.05:\n",
    "                t = ax.text(Prs[idx_min] - 0.5, min(Zs) - 0.005, '$T_{r}$ = 1.2', color=p[0].get_color())\n",
    "                t.set_bbox(dict(facecolor='white', alpha=0.9, edgecolor='white', pad=1))\n",
    "            else:\n",
    "                t = ax.text(Prs[idx_min] - 0.2, min(Zs) - 0.005, Tr, color=p[0].get_color())\n",
    "                t.set_bbox(dict(facecolor='white', alpha=0.9, edgecolor='white', pad=1))\n",
    "\n",
    "        ax.set_xlim(0, xmax)\n",
    "        ax.minorticks_on()\n",
    "        ax.grid(alpha=0.5)\n",
    "        ax.grid(b=True, which='minor', alpha=0.1)\n",
    "        ax.spines.top.set_visible(False)\n",
    "        ax.spines.right.set_visible(False)\n",
    "\n",
    "        ax.set_ylabel('Compressibility Factor, $Z$', fontsize=label_fontsize)\n",
    "        ax.set_xlabel('Pseudo-Reduced Pressure, $P_{r}$', fontsize=label_fontsize)\n",
    "        ax.text(0.57, 0.08, '$T_{r}$ = Pseudo-Reduced Temperature', fontsize=11, transform=ax.transAxes,\n",
    "                bbox=dict(facecolor='white'))\n",
    "\n",
    "        def setbold(txt):\n",
    "            return ' '.join([r\"$\\bf{\" + item + \"}$\" for item in txt.split(' ')])\n",
    "\n",
    "        ax.set_title(setbold('Real Gas Law Compressibility Factor - Z') + \", computed with GasCompressiblityFactor-py \",\n",
    "                     fontsize=12, pad=10, x=0.445, y=1.06)\n",
    "        ax.annotate('', xy=(-0.09, 1.05), xycoords='axes fraction', xytext=(1.05, 1.05),\n",
    "                    arrowprops=dict(arrowstyle=\"-\", color='k'))\n",
    "\n",
    "        fig.tight_layout()\n",
    "\n",
    "        return results, fig, ax\n",
    "\n",
    "\n"
   ]
  },
  {
   "cell_type": "code",
   "execution_count": 4,
   "id": "e1e74175",
   "metadata": {},
   "outputs": [
    {
     "data": {
      "text/plain": [
       "0.4995211795770008"
      ]
     },
     "execution_count": 4,
     "metadata": {},
     "output_type": "execute_result"
    }
   ],
   "source": [
    "a = piper()\n",
    "a.calc_J(sg=0.7, CO2=0.1, H2S=0.07)"
   ]
  },
  {
   "cell_type": "code",
   "execution_count": 15,
   "id": "1fb73319",
   "metadata": {},
   "outputs": [
    {
     "ename": "NameError",
     "evalue": "name 'piper' is not defined",
     "output_type": "error",
     "traceback": [
      "\u001b[1;31m---------------------------------------------------------------------------\u001b[0m",
      "\u001b[1;31mNameError\u001b[0m                                 Traceback (most recent call last)",
      "\u001b[1;32m~\\AppData\\Local\\Temp\\ipykernel_7828\\1810198164.py\u001b[0m in \u001b[0;36m<module>\u001b[1;34m\u001b[0m\n\u001b[1;32m----> 1\u001b[1;33m \u001b[0ma\u001b[0m \u001b[1;33m=\u001b[0m \u001b[0mpiper\u001b[0m\u001b[1;33m(\u001b[0m\u001b[1;33m)\u001b[0m\u001b[1;33m\u001b[0m\u001b[1;33m\u001b[0m\u001b[0m\n\u001b[0m\u001b[0;32m      2\u001b[0m \u001b[0ma\u001b[0m\u001b[1;33m.\u001b[0m\u001b[0mcalc_J\u001b[0m\u001b[1;33m(\u001b[0m\u001b[0msg\u001b[0m\u001b[1;33m=\u001b[0m\u001b[1;36m0.7\u001b[0m\u001b[1;33m,\u001b[0m \u001b[0mCO2\u001b[0m\u001b[1;33m=\u001b[0m\u001b[1;36m0.1\u001b[0m\u001b[1;33m,\u001b[0m \u001b[0mH2S\u001b[0m\u001b[1;33m=\u001b[0m\u001b[1;36m0.07\u001b[0m\u001b[1;33m)\u001b[0m\u001b[1;33m\u001b[0m\u001b[1;33m\u001b[0m\u001b[0m\n",
      "\u001b[1;31mNameError\u001b[0m: name 'piper' is not defined"
     ]
    }
   ],
   "source": [
    "a = piper()\n",
    "a.calc_J(sg=0.7, CO2=0.1, H2S=0.07)"
   ]
  },
  {
   "cell_type": "code",
   "execution_count": 75,
   "id": "663d70a1",
   "metadata": {},
   "outputs": [
    {
     "data": {
      "text/plain": [
       "14.450840999999999"
      ]
     },
     "execution_count": 75,
     "metadata": {},
     "output_type": "execute_result"
    }
   ],
   "source": [
    "a = piper()\n",
    "a.calc_K(sg=0.7)"
   ]
  },
  {
   "cell_type": "code",
   "execution_count": 76,
   "id": "86fcc840",
   "metadata": {},
   "outputs": [
    {
     "data": {
      "text/plain": [
       "371.4335560823552"
      ]
     },
     "execution_count": 76,
     "metadata": {},
     "output_type": "execute_result"
    }
   ],
   "source": [
    "a = piper()\n",
    "a.calc_Tpc(sg=0.7)"
   ]
  },
  {
   "cell_type": "code",
   "execution_count": 77,
   "id": "7bb009b0",
   "metadata": {},
   "outputs": [
    {
     "name": "stdout",
     "output_type": "stream",
     "text": [
      "373.6152741511213\n",
      "13.661213066633309\n",
      "0.4995211795770008\n"
     ]
    }
   ],
   "source": [
    "a = piper()\n",
    "a.calc_Tpc(sg=0.7, CO2=0.1, H2S=0.07)\n",
    "\n",
    "print(a.Tpc)\n",
    "print(a.K)\n",
    "print(a.J)"
   ]
  },
  {
   "cell_type": "code",
   "execution_count": 78,
   "id": "64a330b6",
   "metadata": {},
   "outputs": [
    {
     "name": "stdout",
     "output_type": "stream",
     "text": [
      "747.947947947948\n",
      "373.6\n",
      "None\n",
      "0.4995\n"
     ]
    }
   ],
   "source": [
    "a = piper()\n",
    "a.calc_Ppc(Tpc=373.6, J=0.4995)\n",
    "\n",
    "print(a.Ppc)\n",
    "print(a.Tpc)\n",
    "print(a.K)\n",
    "print(a.J)"
   ]
  },
  {
   "cell_type": "code",
   "execution_count": 79,
   "id": "ec04435d",
   "metadata": {},
   "outputs": [
    {
     "name": "stdout",
     "output_type": "stream",
     "text": [
      "373.6152741511213\n",
      "13.661213066633309\n",
      "0.4995211795770008\n"
     ]
    }
   ],
   "source": [
    "a = piper()\n",
    "a.calc_Ppc(sg=0.7, CO2=0.1, H2S=0.07)\n",
    "print(a.Tpc)\n",
    "print(a.K)\n",
    "print(a.J)"
   ]
  },
  {
   "cell_type": "code",
   "execution_count": 80,
   "id": "69b70729",
   "metadata": {},
   "outputs": [
    {
     "name": "stdout",
     "output_type": "stream",
     "text": [
      "2.687356862566745\n",
      "747.9468127207383\n",
      "373.6152741511213\n",
      "13.661213066633309\n",
      "0.4995211795770008\n"
     ]
    }
   ],
   "source": [
    "a = piper()\n",
    "a.calc_Pr(sg=0.7, CO2=0.1, H2S=0.07, P=2010)\n",
    "print(a.Pr)\n",
    "print(a.Ppc)\n",
    "print(a.Tpc)\n",
    "print(a.K)\n",
    "print(a.J)"
   ]
  },
  {
   "cell_type": "code",
   "execution_count": 81,
   "id": "4f327b42",
   "metadata": {},
   "outputs": [
    {
     "name": "stdout",
     "output_type": "stream",
     "text": [
      "None\n",
      "None\n",
      "373.6152741511213\n",
      "13.661213066633309\n",
      "0.4995211795770008\n"
     ]
    }
   ],
   "source": [
    "a = piper()\n",
    "a.calc_Tr(sg=0.7, CO2=0.1, H2S=0.07, T=75)\n",
    "print(a.Pr)\n",
    "print(a.Ppc)\n",
    "print(a.Tpc)\n",
    "print(a.K)\n",
    "print(a.J)"
   ]
  },
  {
   "cell_type": "code",
   "execution_count": null,
   "id": "f7524e69",
   "metadata": {},
   "outputs": [],
   "source": []
  },
  {
   "cell_type": "code",
   "execution_count": null,
   "id": "80f90f97",
   "metadata": {},
   "outputs": [],
   "source": []
  },
  {
   "cell_type": "code",
   "execution_count": null,
   "id": "658c5fb2",
   "metadata": {},
   "outputs": [],
   "source": []
  },
  {
   "cell_type": "code",
   "execution_count": null,
   "id": "8751d274",
   "metadata": {},
   "outputs": [],
   "source": []
  },
  {
   "cell_type": "code",
   "execution_count": null,
   "id": "037dd492",
   "metadata": {},
   "outputs": [],
   "source": []
  },
  {
   "cell_type": "markdown",
   "id": "3dad22a1",
   "metadata": {},
   "source": [
    "## Pr Check"
   ]
  },
  {
   "cell_type": "code",
   "execution_count": 82,
   "id": "79144793",
   "metadata": {},
   "outputs": [
    {
     "data": {
      "text/plain": [
       "2871.4285714285716"
      ]
     },
     "execution_count": 82,
     "metadata": {},
     "output_type": "execute_result"
    }
   ],
   "source": [
    "a = piper()\n",
    "a.calc_Pr(Tpc=0.7, J=1, P=2010)"
   ]
  },
  {
   "cell_type": "code",
   "execution_count": 83,
   "id": "77e3193a",
   "metadata": {},
   "outputs": [
    {
     "data": {
      "text/plain": [
       "1454.66313"
      ]
     },
     "execution_count": 83,
     "metadata": {},
     "output_type": "execute_result"
    }
   ],
   "source": [
    "a = piper()\n",
    "a.calc_Pr(Tpc=1, sg=1, P=2010)"
   ]
  },
  {
   "cell_type": "code",
   "execution_count": 84,
   "id": "0772dc86",
   "metadata": {},
   "outputs": [
    {
     "data": {
      "text/plain": [
       "1.0"
      ]
     },
     "execution_count": 84,
     "metadata": {},
     "output_type": "execute_result"
    }
   ],
   "source": [
    "a = piper()\n",
    "a.calc_Pr(Ppc=2010, P=2010)"
   ]
  },
  {
   "cell_type": "markdown",
   "id": "6107a2f2",
   "metadata": {},
   "source": [
    "## Z check"
   ]
  },
  {
   "cell_type": "code",
   "execution_count": 29,
   "id": "f89d5d2c",
   "metadata": {},
   "outputs": [
    {
     "data": {
      "text/plain": [
       "0.7418404080772932"
      ]
     },
     "execution_count": 29,
     "metadata": {},
     "output_type": "execute_result"
    }
   ],
   "source": [
    "a = piper()\n",
    "a.calc_Z(sg=0.7, H2S=0.07, CO2=0.1, P=2010, T=75)"
   ]
  },
  {
   "cell_type": "code",
   "execution_count": null,
   "id": "7e85bd3b",
   "metadata": {},
   "outputs": [],
   "source": []
  },
  {
   "cell_type": "code",
   "execution_count": null,
   "id": "5d203850",
   "metadata": {},
   "outputs": [],
   "source": []
  },
  {
   "cell_type": "code",
   "execution_count": null,
   "id": "19ab93d8",
   "metadata": {},
   "outputs": [],
   "source": []
  },
  {
   "cell_type": "code",
   "execution_count": 94,
   "id": "d2187d76",
   "metadata": {},
   "outputs": [
    {
     "ename": "TypeError",
     "evalue": "calc_Z() has conflicting keyword arguments \"Tpc_corrected\" and \"sg\"",
     "output_type": "error",
     "traceback": [
      "\u001b[1;31m---------------------------------------------------------------------------\u001b[0m",
      "\u001b[1;31mTypeError\u001b[0m                                 Traceback (most recent call last)",
      "\u001b[1;32m~\\AppData\\Local\\Temp\\ipykernel_6312\\779886230.py\u001b[0m in \u001b[0;36m<module>\u001b[1;34m\u001b[0m\n\u001b[0;32m      1\u001b[0m \u001b[0ma\u001b[0m \u001b[1;33m=\u001b[0m \u001b[0msutton\u001b[0m\u001b[1;33m(\u001b[0m\u001b[1;33m)\u001b[0m\u001b[1;33m\u001b[0m\u001b[1;33m\u001b[0m\u001b[0m\n\u001b[1;32m----> 2\u001b[1;33m \u001b[0ma\u001b[0m\u001b[1;33m.\u001b[0m\u001b[0mcalc_Z\u001b[0m\u001b[1;33m(\u001b[0m\u001b[0mTpc_corrected\u001b[0m\u001b[1;33m=\u001b[0m\u001b[1;36m1\u001b[0m\u001b[1;33m,\u001b[0m \u001b[0msg\u001b[0m\u001b[1;33m=\u001b[0m\u001b[1;36m1\u001b[0m\u001b[1;33m,\u001b[0m \u001b[0mP\u001b[0m\u001b[1;33m=\u001b[0m\u001b[1;36m2010\u001b[0m\u001b[1;33m,\u001b[0m \u001b[0mT\u001b[0m\u001b[1;33m=\u001b[0m\u001b[1;36m75\u001b[0m\u001b[1;33m)\u001b[0m\u001b[1;33m\u001b[0m\u001b[1;33m\u001b[0m\u001b[0m\n\u001b[0m",
      "\u001b[1;32m~\\AppData\\Local\\Temp\\ipykernel_6312\\879073164.py\u001b[0m in \u001b[0;36mcalc_Z\u001b[1;34m(self, guess, sg, P, T, Tpc, Ppc, Tpc_corrected, Ppc_corrected, H2S, CO2, Tr, Pr, e_correction, ignore_conflict, **kwargs)\u001b[0m\n\u001b[0;32m    172\u001b[0m                H2S=None, CO2=None, Tr=None, Pr=None, e_correction=None, ignore_conflict=False, **kwargs):\n\u001b[0;32m    173\u001b[0m         \u001b[0mself\u001b[0m\u001b[1;33m.\u001b[0m\u001b[0m_set_first_caller_attributes\u001b[0m\u001b[1;33m(\u001b[0m\u001b[0minspect\u001b[0m\u001b[1;33m.\u001b[0m\u001b[0mstack\u001b[0m\u001b[1;33m(\u001b[0m\u001b[1;33m)\u001b[0m\u001b[1;33m[\u001b[0m\u001b[1;36m0\u001b[0m\u001b[1;33m]\u001b[0m\u001b[1;33m[\u001b[0m\u001b[1;36m3\u001b[0m\u001b[1;33m]\u001b[0m\u001b[1;33m,\u001b[0m \u001b[0mlocals\u001b[0m\u001b[1;33m(\u001b[0m\u001b[1;33m)\u001b[0m\u001b[1;33m)\u001b[0m\u001b[1;33m\u001b[0m\u001b[1;33m\u001b[0m\u001b[0m\n\u001b[1;32m--> 174\u001b[1;33m         self._initialize_Tr(Tr, T, Tpc_corrected=Tpc_corrected, sg=sg, Tpc=Tpc, e_correction=e_correction, H2S=H2S,\n\u001b[0m\u001b[0;32m    175\u001b[0m                             CO2=CO2, ignore_conflict=ignore_conflict)\n\u001b[0;32m    176\u001b[0m         self._initialize_Pr(Pr, P=P, Ppc_corrected=Ppc_corrected, sg=sg, Tpc=Tpc, Ppc=Ppc, e_correction=e_correction,\n",
      "\u001b[1;32m~\\AppData\\Local\\Temp\\ipykernel_6312\\879073164.py\u001b[0m in \u001b[0;36m_initialize_Tr\u001b[1;34m(self, Tr, T, Tpc_corrected, sg, Tpc, e_correction, H2S, CO2, ignore_conflict)\u001b[0m\n\u001b[0;32m    324\u001b[0m     \u001b[1;32mdef\u001b[0m \u001b[0m_initialize_Tr\u001b[0m\u001b[1;33m(\u001b[0m\u001b[0mself\u001b[0m\u001b[1;33m,\u001b[0m \u001b[0mTr\u001b[0m\u001b[1;33m,\u001b[0m \u001b[0mT\u001b[0m\u001b[1;33m,\u001b[0m \u001b[0mTpc_corrected\u001b[0m\u001b[1;33m=\u001b[0m\u001b[1;32mNone\u001b[0m\u001b[1;33m,\u001b[0m \u001b[0msg\u001b[0m\u001b[1;33m=\u001b[0m\u001b[1;32mNone\u001b[0m\u001b[1;33m,\u001b[0m \u001b[0mTpc\u001b[0m\u001b[1;33m=\u001b[0m\u001b[1;32mNone\u001b[0m\u001b[1;33m,\u001b[0m \u001b[0me_correction\u001b[0m\u001b[1;33m=\u001b[0m\u001b[1;32mNone\u001b[0m\u001b[1;33m,\u001b[0m \u001b[0mH2S\u001b[0m\u001b[1;33m=\u001b[0m\u001b[1;32mNone\u001b[0m\u001b[1;33m,\u001b[0m \u001b[0mCO2\u001b[0m\u001b[1;33m=\u001b[0m\u001b[1;32mNone\u001b[0m\u001b[1;33m,\u001b[0m \u001b[0mignore_conflict\u001b[0m\u001b[1;33m=\u001b[0m\u001b[1;32mFalse\u001b[0m\u001b[1;33m)\u001b[0m\u001b[1;33m:\u001b[0m\u001b[1;33m\u001b[0m\u001b[1;33m\u001b[0m\u001b[0m\n\u001b[0;32m    325\u001b[0m         \u001b[1;32mif\u001b[0m \u001b[0mTr\u001b[0m \u001b[1;32mis\u001b[0m \u001b[1;32mNone\u001b[0m\u001b[1;33m:\u001b[0m\u001b[1;33m\u001b[0m\u001b[1;33m\u001b[0m\u001b[0m\n\u001b[1;32m--> 326\u001b[1;33m             \u001b[0mself\u001b[0m\u001b[1;33m.\u001b[0m\u001b[0mcalc_Tr\u001b[0m\u001b[1;33m(\u001b[0m\u001b[0mT\u001b[0m\u001b[1;33m=\u001b[0m\u001b[0mT\u001b[0m\u001b[1;33m,\u001b[0m \u001b[0mTpc_corrected\u001b[0m\u001b[1;33m=\u001b[0m\u001b[0mTpc_corrected\u001b[0m\u001b[1;33m,\u001b[0m \u001b[0msg\u001b[0m\u001b[1;33m=\u001b[0m\u001b[0msg\u001b[0m\u001b[1;33m,\u001b[0m \u001b[0mTpc\u001b[0m\u001b[1;33m=\u001b[0m\u001b[0mTpc\u001b[0m\u001b[1;33m,\u001b[0m \u001b[0me_correction\u001b[0m\u001b[1;33m=\u001b[0m\u001b[0me_correction\u001b[0m\u001b[1;33m,\u001b[0m \u001b[0mH2S\u001b[0m\u001b[1;33m=\u001b[0m\u001b[0mH2S\u001b[0m\u001b[1;33m,\u001b[0m \u001b[0mCO2\u001b[0m\u001b[1;33m=\u001b[0m\u001b[0mCO2\u001b[0m\u001b[1;33m,\u001b[0m \u001b[0mignore_conflict\u001b[0m\u001b[1;33m=\u001b[0m\u001b[0mignore_conflict\u001b[0m\u001b[1;33m)\u001b[0m\u001b[1;33m\u001b[0m\u001b[1;33m\u001b[0m\u001b[0m\n\u001b[0m\u001b[0;32m    327\u001b[0m         \u001b[1;32melse\u001b[0m\u001b[1;33m:\u001b[0m\u001b[1;33m\u001b[0m\u001b[1;33m\u001b[0m\u001b[0m\n\u001b[0;32m    328\u001b[0m             \u001b[1;32mif\u001b[0m \u001b[0mignore_conflict\u001b[0m \u001b[1;32mis\u001b[0m \u001b[1;32mFalse\u001b[0m\u001b[1;33m:\u001b[0m\u001b[1;33m\u001b[0m\u001b[1;33m\u001b[0m\u001b[0m\n",
      "\u001b[1;32m~\\AppData\\Local\\Temp\\ipykernel_6312\\879073164.py\u001b[0m in \u001b[0;36mcalc_Tr\u001b[1;34m(self, T, Tpc_corrected, sg, Tpc, e_correction, H2S, CO2, ignore_conflict)\u001b[0m\n\u001b[0;32m    118\u001b[0m         \u001b[0mself\u001b[0m\u001b[1;33m.\u001b[0m\u001b[0m_set_first_caller_attributes\u001b[0m\u001b[1;33m(\u001b[0m\u001b[0minspect\u001b[0m\u001b[1;33m.\u001b[0m\u001b[0mstack\u001b[0m\u001b[1;33m(\u001b[0m\u001b[1;33m)\u001b[0m\u001b[1;33m[\u001b[0m\u001b[1;36m0\u001b[0m\u001b[1;33m]\u001b[0m\u001b[1;33m[\u001b[0m\u001b[1;36m3\u001b[0m\u001b[1;33m]\u001b[0m\u001b[1;33m,\u001b[0m \u001b[0mlocals\u001b[0m\u001b[1;33m(\u001b[0m\u001b[1;33m)\u001b[0m\u001b[1;33m)\u001b[0m\u001b[1;33m\u001b[0m\u001b[1;33m\u001b[0m\u001b[0m\n\u001b[0;32m    119\u001b[0m         \u001b[0mself\u001b[0m\u001b[1;33m.\u001b[0m\u001b[0m_initialize_T\u001b[0m\u001b[1;33m(\u001b[0m\u001b[0mT\u001b[0m\u001b[1;33m)\u001b[0m\u001b[1;33m\u001b[0m\u001b[1;33m\u001b[0m\u001b[0m\n\u001b[1;32m--> 120\u001b[1;33m         \u001b[0mself\u001b[0m\u001b[1;33m.\u001b[0m\u001b[0m_initialize_Tpc_corrected\u001b[0m\u001b[1;33m(\u001b[0m\u001b[0mTpc_corrected\u001b[0m\u001b[1;33m,\u001b[0m \u001b[0msg\u001b[0m\u001b[1;33m=\u001b[0m\u001b[0msg\u001b[0m\u001b[1;33m,\u001b[0m \u001b[0mTpc\u001b[0m\u001b[1;33m=\u001b[0m\u001b[0mTpc\u001b[0m\u001b[1;33m,\u001b[0m \u001b[0me_correction\u001b[0m\u001b[1;33m=\u001b[0m\u001b[0me_correction\u001b[0m\u001b[1;33m,\u001b[0m \u001b[0mH2S\u001b[0m\u001b[1;33m=\u001b[0m\u001b[0mH2S\u001b[0m\u001b[1;33m,\u001b[0m \u001b[0mCO2\u001b[0m\u001b[1;33m=\u001b[0m\u001b[0mCO2\u001b[0m\u001b[1;33m,\u001b[0m \u001b[0mignore_conflict\u001b[0m\u001b[1;33m=\u001b[0m\u001b[0mignore_conflict\u001b[0m\u001b[1;33m)\u001b[0m\u001b[1;33m\u001b[0m\u001b[1;33m\u001b[0m\u001b[0m\n\u001b[0m\u001b[0;32m    121\u001b[0m         \u001b[0mself\u001b[0m\u001b[1;33m.\u001b[0m\u001b[0mTr\u001b[0m \u001b[1;33m=\u001b[0m \u001b[0mself\u001b[0m\u001b[1;33m.\u001b[0m\u001b[0mT\u001b[0m \u001b[1;33m/\u001b[0m \u001b[0mself\u001b[0m\u001b[1;33m.\u001b[0m\u001b[0mTpc_corrected\u001b[0m\u001b[1;33m\u001b[0m\u001b[1;33m\u001b[0m\u001b[0m\n\u001b[0;32m    122\u001b[0m         \u001b[1;32mreturn\u001b[0m \u001b[0mself\u001b[0m\u001b[1;33m.\u001b[0m\u001b[0mTr\u001b[0m\u001b[1;33m\u001b[0m\u001b[1;33m\u001b[0m\u001b[0m\n",
      "\u001b[1;32m~\\AppData\\Local\\Temp\\ipykernel_6312\\879073164.py\u001b[0m in \u001b[0;36m_initialize_Tpc_corrected\u001b[1;34m(self, Tpc_corrected, sg, Tpc, e_correction, H2S, CO2, ignore_conflict)\u001b[0m\n\u001b[0;32m    302\u001b[0m         \u001b[1;32melse\u001b[0m\u001b[1;33m:\u001b[0m\u001b[1;33m\u001b[0m\u001b[1;33m\u001b[0m\u001b[0m\n\u001b[0;32m    303\u001b[0m             \u001b[1;32mif\u001b[0m \u001b[0mignore_conflict\u001b[0m \u001b[1;32mis\u001b[0m \u001b[1;32mFalse\u001b[0m\u001b[1;33m:\u001b[0m\u001b[1;33m\u001b[0m\u001b[1;33m\u001b[0m\u001b[0m\n\u001b[1;32m--> 304\u001b[1;33m                 \u001b[0mself\u001b[0m\u001b[1;33m.\u001b[0m\u001b[0m_check_conflicting_arguments\u001b[0m\u001b[1;33m(\u001b[0m\u001b[0mself\u001b[0m\u001b[1;33m.\u001b[0m\u001b[0mcalc_Tpc_corrected\u001b[0m\u001b[1;33m,\u001b[0m \u001b[1;34m'Tpc_corrected'\u001b[0m\u001b[1;33m)\u001b[0m\u001b[1;33m\u001b[0m\u001b[1;33m\u001b[0m\u001b[0m\n\u001b[0m\u001b[0;32m    305\u001b[0m             \u001b[0mself\u001b[0m\u001b[1;33m.\u001b[0m\u001b[0mTpc_corrected\u001b[0m \u001b[1;33m=\u001b[0m \u001b[0mTpc_corrected\u001b[0m\u001b[1;33m\u001b[0m\u001b[1;33m\u001b[0m\u001b[0m\n\u001b[0;32m    306\u001b[0m \u001b[1;33m\u001b[0m\u001b[0m\n",
      "\u001b[1;32m~\\AppData\\Local\\Temp\\ipykernel_6312\\879073164.py\u001b[0m in \u001b[0;36m_check_conflicting_arguments\u001b[1;34m(self, func, calculated_var)\u001b[0m\n\u001b[0;32m    224\u001b[0m         \u001b[1;32mfor\u001b[0m \u001b[0marg\u001b[0m \u001b[1;32min\u001b[0m \u001b[0margs\u001b[0m\u001b[1;33m:\u001b[0m\u001b[1;33m\u001b[0m\u001b[1;33m\u001b[0m\u001b[0m\n\u001b[0;32m    225\u001b[0m             \u001b[1;32mif\u001b[0m \u001b[0mself\u001b[0m\u001b[1;33m.\u001b[0m\u001b[0m_first_caller_kwargs\u001b[0m\u001b[1;33m[\u001b[0m\u001b[0marg\u001b[0m\u001b[1;33m]\u001b[0m \u001b[1;32mis\u001b[0m \u001b[1;32mnot\u001b[0m \u001b[1;32mNone\u001b[0m\u001b[1;33m:\u001b[0m\u001b[1;33m\u001b[0m\u001b[1;33m\u001b[0m\u001b[0m\n\u001b[1;32m--> 226\u001b[1;33m                 \u001b[1;32mraise\u001b[0m \u001b[0mTypeError\u001b[0m\u001b[1;33m(\u001b[0m\u001b[1;34m'%s() has conflicting keyword arguments \"%s\" and \"%s\"'\u001b[0m \u001b[1;33m%\u001b[0m \u001b[1;33m(\u001b[0m\u001b[0mself\u001b[0m\u001b[1;33m.\u001b[0m\u001b[0m_first_caller_name\u001b[0m\u001b[1;33m,\u001b[0m \u001b[0mcalculated_var\u001b[0m\u001b[1;33m,\u001b[0m \u001b[0marg\u001b[0m\u001b[1;33m)\u001b[0m\u001b[1;33m)\u001b[0m\u001b[1;33m\u001b[0m\u001b[1;33m\u001b[0m\u001b[0m\n\u001b[0m\u001b[0;32m    227\u001b[0m \u001b[1;33m\u001b[0m\u001b[0m\n\u001b[0;32m    228\u001b[0m     \u001b[1;32mdef\u001b[0m \u001b[0m_initialize_sg\u001b[0m\u001b[1;33m(\u001b[0m\u001b[0mself\u001b[0m\u001b[1;33m,\u001b[0m \u001b[0msg\u001b[0m\u001b[1;33m)\u001b[0m\u001b[1;33m:\u001b[0m\u001b[1;33m\u001b[0m\u001b[1;33m\u001b[0m\u001b[0m\n",
      "\u001b[1;31mTypeError\u001b[0m: calc_Z() has conflicting keyword arguments \"Tpc_corrected\" and \"sg\""
     ]
    }
   ],
   "source": [
    "a = sutton()\n",
    "a.calc_Z(Tpc_corrected=1, sg=1, P=2010, T=75)"
   ]
  },
  {
   "cell_type": "code",
   "execution_count": 71,
   "id": "daa83938",
   "metadata": {},
   "outputs": [
    {
     "ename": "TypeError",
     "evalue": "calc_Tpc_corrected() has conflicting keyword arguments \"e_correction\" and \"H2S\"",
     "output_type": "error",
     "traceback": [
      "\u001b[1;31m---------------------------------------------------------------------------\u001b[0m",
      "\u001b[1;31mTypeError\u001b[0m                                 Traceback (most recent call last)",
      "\u001b[1;32m~\\AppData\\Local\\Temp\\ipykernel_6312\\3729029654.py\u001b[0m in \u001b[0;36m<module>\u001b[1;34m\u001b[0m\n\u001b[0;32m      1\u001b[0m \u001b[0ma\u001b[0m \u001b[1;33m=\u001b[0m \u001b[0msutton\u001b[0m\u001b[1;33m(\u001b[0m\u001b[1;33m)\u001b[0m\u001b[1;33m\u001b[0m\u001b[1;33m\u001b[0m\u001b[0m\n\u001b[1;32m----> 2\u001b[1;33m \u001b[0ma\u001b[0m\u001b[1;33m.\u001b[0m\u001b[0mcalc_Tpc_corrected\u001b[0m\u001b[1;33m(\u001b[0m\u001b[0msg\u001b[0m\u001b[1;33m=\u001b[0m\u001b[1;36m0.7\u001b[0m\u001b[1;33m,\u001b[0m \u001b[0me_correction\u001b[0m\u001b[1;33m=\u001b[0m\u001b[1;36m21\u001b[0m\u001b[1;33m,\u001b[0m \u001b[0mH2S\u001b[0m\u001b[1;33m=\u001b[0m\u001b[1;36m0.7\u001b[0m\u001b[1;33m)\u001b[0m\u001b[1;33m\u001b[0m\u001b[1;33m\u001b[0m\u001b[0m\n\u001b[0m",
      "\u001b[1;32m~\\AppData\\Local\\Temp\\ipykernel_6312\\879073164.py\u001b[0m in \u001b[0;36mcalc_Tpc_corrected\u001b[1;34m(self, sg, Tpc, e_correction, H2S, CO2, ignore_conflict)\u001b[0m\n\u001b[0;32m     93\u001b[0m             \u001b[1;32mreturn\u001b[0m \u001b[0mself\u001b[0m\u001b[1;33m.\u001b[0m\u001b[0mTpc_corrected\u001b[0m\u001b[1;33m\u001b[0m\u001b[1;33m\u001b[0m\u001b[0m\n\u001b[0;32m     94\u001b[0m \u001b[1;33m\u001b[0m\u001b[0m\n\u001b[1;32m---> 95\u001b[1;33m         \u001b[0mself\u001b[0m\u001b[1;33m.\u001b[0m\u001b[0m_initialize_e_correction\u001b[0m\u001b[1;33m(\u001b[0m\u001b[0me_correction\u001b[0m\u001b[1;33m,\u001b[0m \u001b[0mH2S\u001b[0m\u001b[1;33m=\u001b[0m\u001b[0mH2S\u001b[0m\u001b[1;33m,\u001b[0m \u001b[0mCO2\u001b[0m\u001b[1;33m=\u001b[0m\u001b[0mCO2\u001b[0m\u001b[1;33m,\u001b[0m \u001b[0mignore_conflict\u001b[0m\u001b[1;33m=\u001b[0m\u001b[0mignore_conflict\u001b[0m\u001b[1;33m)\u001b[0m\u001b[1;33m\u001b[0m\u001b[1;33m\u001b[0m\u001b[0m\n\u001b[0m\u001b[0;32m     96\u001b[0m         \u001b[0mself\u001b[0m\u001b[1;33m.\u001b[0m\u001b[0mTpc_corrected\u001b[0m \u001b[1;33m=\u001b[0m \u001b[0mself\u001b[0m\u001b[1;33m.\u001b[0m\u001b[0mTpc\u001b[0m \u001b[1;33m-\u001b[0m \u001b[0mself\u001b[0m\u001b[1;33m.\u001b[0m\u001b[0me_correction\u001b[0m\u001b[1;33m\u001b[0m\u001b[1;33m\u001b[0m\u001b[0m\n\u001b[0;32m     97\u001b[0m         \u001b[1;32mreturn\u001b[0m \u001b[0mself\u001b[0m\u001b[1;33m.\u001b[0m\u001b[0mTpc_corrected\u001b[0m\u001b[1;33m\u001b[0m\u001b[1;33m\u001b[0m\u001b[0m\n",
      "\u001b[1;32m~\\AppData\\Local\\Temp\\ipykernel_6312\\879073164.py\u001b[0m in \u001b[0;36m_initialize_e_correction\u001b[1;34m(self, e_correction, H2S, CO2, ignore_conflict)\u001b[0m\n\u001b[0;32m    294\u001b[0m         \u001b[1;32melse\u001b[0m\u001b[1;33m:\u001b[0m\u001b[1;33m\u001b[0m\u001b[1;33m\u001b[0m\u001b[0m\n\u001b[0;32m    295\u001b[0m             \u001b[1;32mif\u001b[0m \u001b[0mignore_conflict\u001b[0m \u001b[1;32mis\u001b[0m \u001b[1;32mFalse\u001b[0m\u001b[1;33m:\u001b[0m\u001b[1;33m\u001b[0m\u001b[1;33m\u001b[0m\u001b[0m\n\u001b[1;32m--> 296\u001b[1;33m                 \u001b[0mself\u001b[0m\u001b[1;33m.\u001b[0m\u001b[0m_check_conflicting_arguments\u001b[0m\u001b[1;33m(\u001b[0m\u001b[0mself\u001b[0m\u001b[1;33m.\u001b[0m\u001b[0mcalc_e_correction\u001b[0m\u001b[1;33m,\u001b[0m \u001b[1;34m'e_correction'\u001b[0m\u001b[1;33m)\u001b[0m\u001b[1;33m\u001b[0m\u001b[1;33m\u001b[0m\u001b[0m\n\u001b[0m\u001b[0;32m    297\u001b[0m             \u001b[0mself\u001b[0m\u001b[1;33m.\u001b[0m\u001b[0me_correction\u001b[0m \u001b[1;33m=\u001b[0m \u001b[0me_correction\u001b[0m\u001b[1;33m\u001b[0m\u001b[1;33m\u001b[0m\u001b[0m\n\u001b[0;32m    298\u001b[0m \u001b[1;33m\u001b[0m\u001b[0m\n",
      "\u001b[1;32m~\\AppData\\Local\\Temp\\ipykernel_6312\\879073164.py\u001b[0m in \u001b[0;36m_check_conflicting_arguments\u001b[1;34m(self, func, calculated_var)\u001b[0m\n\u001b[0;32m    224\u001b[0m         \u001b[1;32mfor\u001b[0m \u001b[0marg\u001b[0m \u001b[1;32min\u001b[0m \u001b[0margs\u001b[0m\u001b[1;33m:\u001b[0m\u001b[1;33m\u001b[0m\u001b[1;33m\u001b[0m\u001b[0m\n\u001b[0;32m    225\u001b[0m             \u001b[1;32mif\u001b[0m \u001b[0mself\u001b[0m\u001b[1;33m.\u001b[0m\u001b[0m_first_caller_kwargs\u001b[0m\u001b[1;33m[\u001b[0m\u001b[0marg\u001b[0m\u001b[1;33m]\u001b[0m \u001b[1;32mis\u001b[0m \u001b[1;32mnot\u001b[0m \u001b[1;32mNone\u001b[0m\u001b[1;33m:\u001b[0m\u001b[1;33m\u001b[0m\u001b[1;33m\u001b[0m\u001b[0m\n\u001b[1;32m--> 226\u001b[1;33m                 \u001b[1;32mraise\u001b[0m \u001b[0mTypeError\u001b[0m\u001b[1;33m(\u001b[0m\u001b[1;34m'%s() has conflicting keyword arguments \"%s\" and \"%s\"'\u001b[0m \u001b[1;33m%\u001b[0m \u001b[1;33m(\u001b[0m\u001b[0mself\u001b[0m\u001b[1;33m.\u001b[0m\u001b[0m_first_caller_name\u001b[0m\u001b[1;33m,\u001b[0m \u001b[0mcalculated_var\u001b[0m\u001b[1;33m,\u001b[0m \u001b[0marg\u001b[0m\u001b[1;33m)\u001b[0m\u001b[1;33m)\u001b[0m\u001b[1;33m\u001b[0m\u001b[1;33m\u001b[0m\u001b[0m\n\u001b[0m\u001b[0;32m    227\u001b[0m \u001b[1;33m\u001b[0m\u001b[0m\n\u001b[0;32m    228\u001b[0m     \u001b[1;32mdef\u001b[0m \u001b[0m_initialize_sg\u001b[0m\u001b[1;33m(\u001b[0m\u001b[0mself\u001b[0m\u001b[1;33m,\u001b[0m \u001b[0msg\u001b[0m\u001b[1;33m)\u001b[0m\u001b[1;33m:\u001b[0m\u001b[1;33m\u001b[0m\u001b[1;33m\u001b[0m\u001b[0m\n",
      "\u001b[1;31mTypeError\u001b[0m: calc_Tpc_corrected() has conflicting keyword arguments \"e_correction\" and \"H2S\""
     ]
    }
   ],
   "source": [
    "a = sutton()\n",
    "a.calc_Tpc_corrected(sg=0.7, e_correction=21, H2S=0.7)"
   ]
  },
  {
   "cell_type": "code",
   "execution_count": null,
   "id": "3b3742b3",
   "metadata": {},
   "outputs": [],
   "source": []
  },
  {
   "cell_type": "code",
   "execution_count": null,
   "id": "24e00ba1",
   "metadata": {},
   "outputs": [],
   "source": []
  },
  {
   "cell_type": "code",
   "execution_count": null,
   "id": "cd68ca43",
   "metadata": {},
   "outputs": [],
   "source": []
  },
  {
   "cell_type": "code",
   "execution_count": 156,
   "id": "e2b75326",
   "metadata": {},
   "outputs": [
    {
     "ename": "TypeError",
     "evalue": "calc_Z() has conflicting keyword arguments \"Tpc_corrected\" and \"sg\"",
     "output_type": "error",
     "traceback": [
      "\u001b[1;31m---------------------------------------------------------------------------\u001b[0m",
      "\u001b[1;31mTypeError\u001b[0m                                 Traceback (most recent call last)",
      "\u001b[1;32m~\\AppData\\Local\\Temp\\ipykernel_14796\\529554208.py\u001b[0m in \u001b[0;36m<module>\u001b[1;34m\u001b[0m\n\u001b[0;32m      6\u001b[0m \u001b[1;33m\u001b[0m\u001b[0m\n\u001b[0;32m      7\u001b[0m \u001b[0ma\u001b[0m \u001b[1;33m=\u001b[0m \u001b[0msutton\u001b[0m\u001b[1;33m(\u001b[0m\u001b[1;33m)\u001b[0m\u001b[1;33m\u001b[0m\u001b[1;33m\u001b[0m\u001b[0m\n\u001b[1;32m----> 8\u001b[1;33m \u001b[0ma\u001b[0m\u001b[1;33m.\u001b[0m\u001b[0mcalc_Z\u001b[0m\u001b[1;33m(\u001b[0m\u001b[0mTpc_corrected\u001b[0m\u001b[1;33m=\u001b[0m\u001b[1;36m1\u001b[0m\u001b[1;33m,\u001b[0m \u001b[0msg\u001b[0m\u001b[1;33m=\u001b[0m\u001b[1;36m1\u001b[0m\u001b[1;33m,\u001b[0m \u001b[0mP\u001b[0m\u001b[1;33m=\u001b[0m\u001b[1;36m2010\u001b[0m\u001b[1;33m,\u001b[0m \u001b[0mT\u001b[0m\u001b[1;33m=\u001b[0m\u001b[1;36m75\u001b[0m\u001b[1;33m)\u001b[0m\u001b[1;33m\u001b[0m\u001b[1;33m\u001b[0m\u001b[0m\n\u001b[0m",
      "\u001b[1;32m~\\AppData\\Local\\Temp\\ipykernel_14796\\1784440184.py\u001b[0m in \u001b[0;36mcalc_Z\u001b[1;34m(self, guess, sg, P, T, Tpc, Ppc, Tpc_corrected, Ppc_corrected, H2S, CO2, Tr, Pr, e_correction, ignore_conflict, newton_kwargs)\u001b[0m\n\u001b[0;32m    172\u001b[0m                H2S=None, CO2=None, Tr=None, Pr=None, e_correction=None, ignore_conflict=False, newton_kwargs=None):\n\u001b[0;32m    173\u001b[0m         \u001b[0mself\u001b[0m\u001b[1;33m.\u001b[0m\u001b[0m_set_first_caller_attributes\u001b[0m\u001b[1;33m(\u001b[0m\u001b[0minspect\u001b[0m\u001b[1;33m.\u001b[0m\u001b[0mstack\u001b[0m\u001b[1;33m(\u001b[0m\u001b[1;33m)\u001b[0m\u001b[1;33m[\u001b[0m\u001b[1;36m0\u001b[0m\u001b[1;33m]\u001b[0m\u001b[1;33m[\u001b[0m\u001b[1;36m3\u001b[0m\u001b[1;33m]\u001b[0m\u001b[1;33m,\u001b[0m \u001b[0mlocals\u001b[0m\u001b[1;33m(\u001b[0m\u001b[1;33m)\u001b[0m\u001b[1;33m)\u001b[0m\u001b[1;33m\u001b[0m\u001b[1;33m\u001b[0m\u001b[0m\n\u001b[1;32m--> 174\u001b[1;33m         self._initialize_Tr(Tr, T, Tpc_corrected=Tpc_corrected, sg=sg, Tpc=Tpc, e_correction=e_correction, H2S=H2S,\n\u001b[0m\u001b[0;32m    175\u001b[0m                             CO2=CO2, ignore_conflict=ignore_conflict)\n\u001b[0;32m    176\u001b[0m         self._initialize_Pr(Pr, P=P, Ppc_corrected=Ppc_corrected, sg=sg, Tpc=Tpc, Ppc=Ppc, e_correction=e_correction,\n",
      "\u001b[1;32m~\\AppData\\Local\\Temp\\ipykernel_14796\\1784440184.py\u001b[0m in \u001b[0;36m_initialize_Tr\u001b[1;34m(self, Tr, T, Tpc_corrected, sg, Tpc, e_correction, H2S, CO2, ignore_conflict)\u001b[0m\n\u001b[0;32m    329\u001b[0m     \u001b[1;32mdef\u001b[0m \u001b[0m_initialize_Tr\u001b[0m\u001b[1;33m(\u001b[0m\u001b[0mself\u001b[0m\u001b[1;33m,\u001b[0m \u001b[0mTr\u001b[0m\u001b[1;33m,\u001b[0m \u001b[0mT\u001b[0m\u001b[1;33m,\u001b[0m \u001b[0mTpc_corrected\u001b[0m\u001b[1;33m=\u001b[0m\u001b[1;32mNone\u001b[0m\u001b[1;33m,\u001b[0m \u001b[0msg\u001b[0m\u001b[1;33m=\u001b[0m\u001b[1;32mNone\u001b[0m\u001b[1;33m,\u001b[0m \u001b[0mTpc\u001b[0m\u001b[1;33m=\u001b[0m\u001b[1;32mNone\u001b[0m\u001b[1;33m,\u001b[0m \u001b[0me_correction\u001b[0m\u001b[1;33m=\u001b[0m\u001b[1;32mNone\u001b[0m\u001b[1;33m,\u001b[0m \u001b[0mH2S\u001b[0m\u001b[1;33m=\u001b[0m\u001b[1;32mNone\u001b[0m\u001b[1;33m,\u001b[0m \u001b[0mCO2\u001b[0m\u001b[1;33m=\u001b[0m\u001b[1;32mNone\u001b[0m\u001b[1;33m,\u001b[0m \u001b[0mignore_conflict\u001b[0m\u001b[1;33m=\u001b[0m\u001b[1;32mFalse\u001b[0m\u001b[1;33m)\u001b[0m\u001b[1;33m:\u001b[0m\u001b[1;33m\u001b[0m\u001b[1;33m\u001b[0m\u001b[0m\n\u001b[0;32m    330\u001b[0m         \u001b[1;32mif\u001b[0m \u001b[0mTr\u001b[0m \u001b[1;32mis\u001b[0m \u001b[1;32mNone\u001b[0m\u001b[1;33m:\u001b[0m\u001b[1;33m\u001b[0m\u001b[1;33m\u001b[0m\u001b[0m\n\u001b[1;32m--> 331\u001b[1;33m             \u001b[0mself\u001b[0m\u001b[1;33m.\u001b[0m\u001b[0mcalc_Tr\u001b[0m\u001b[1;33m(\u001b[0m\u001b[0mT\u001b[0m\u001b[1;33m=\u001b[0m\u001b[0mT\u001b[0m\u001b[1;33m,\u001b[0m \u001b[0mTpc_corrected\u001b[0m\u001b[1;33m=\u001b[0m\u001b[0mTpc_corrected\u001b[0m\u001b[1;33m,\u001b[0m \u001b[0msg\u001b[0m\u001b[1;33m=\u001b[0m\u001b[0msg\u001b[0m\u001b[1;33m,\u001b[0m \u001b[0mTpc\u001b[0m\u001b[1;33m=\u001b[0m\u001b[0mTpc\u001b[0m\u001b[1;33m,\u001b[0m \u001b[0me_correction\u001b[0m\u001b[1;33m=\u001b[0m\u001b[0me_correction\u001b[0m\u001b[1;33m,\u001b[0m \u001b[0mH2S\u001b[0m\u001b[1;33m=\u001b[0m\u001b[0mH2S\u001b[0m\u001b[1;33m,\u001b[0m \u001b[0mCO2\u001b[0m\u001b[1;33m=\u001b[0m\u001b[0mCO2\u001b[0m\u001b[1;33m,\u001b[0m \u001b[0mignore_conflict\u001b[0m\u001b[1;33m=\u001b[0m\u001b[0mignore_conflict\u001b[0m\u001b[1;33m)\u001b[0m\u001b[1;33m\u001b[0m\u001b[1;33m\u001b[0m\u001b[0m\n\u001b[0m\u001b[0;32m    332\u001b[0m         \u001b[1;32melse\u001b[0m\u001b[1;33m:\u001b[0m\u001b[1;33m\u001b[0m\u001b[1;33m\u001b[0m\u001b[0m\n\u001b[0;32m    333\u001b[0m             \u001b[1;32mif\u001b[0m \u001b[0mignore_conflict\u001b[0m \u001b[1;32mis\u001b[0m \u001b[1;32mFalse\u001b[0m\u001b[1;33m:\u001b[0m\u001b[1;33m\u001b[0m\u001b[1;33m\u001b[0m\u001b[0m\n",
      "\u001b[1;32m~\\AppData\\Local\\Temp\\ipykernel_14796\\1784440184.py\u001b[0m in \u001b[0;36mcalc_Tr\u001b[1;34m(self, T, Tpc_corrected, sg, Tpc, e_correction, H2S, CO2, ignore_conflict)\u001b[0m\n\u001b[0;32m    118\u001b[0m         \u001b[0mself\u001b[0m\u001b[1;33m.\u001b[0m\u001b[0m_set_first_caller_attributes\u001b[0m\u001b[1;33m(\u001b[0m\u001b[0minspect\u001b[0m\u001b[1;33m.\u001b[0m\u001b[0mstack\u001b[0m\u001b[1;33m(\u001b[0m\u001b[1;33m)\u001b[0m\u001b[1;33m[\u001b[0m\u001b[1;36m0\u001b[0m\u001b[1;33m]\u001b[0m\u001b[1;33m[\u001b[0m\u001b[1;36m3\u001b[0m\u001b[1;33m]\u001b[0m\u001b[1;33m,\u001b[0m \u001b[0mlocals\u001b[0m\u001b[1;33m(\u001b[0m\u001b[1;33m)\u001b[0m\u001b[1;33m)\u001b[0m\u001b[1;33m\u001b[0m\u001b[1;33m\u001b[0m\u001b[0m\n\u001b[0;32m    119\u001b[0m         \u001b[0mself\u001b[0m\u001b[1;33m.\u001b[0m\u001b[0m_initialize_T\u001b[0m\u001b[1;33m(\u001b[0m\u001b[0mT\u001b[0m\u001b[1;33m)\u001b[0m\u001b[1;33m\u001b[0m\u001b[1;33m\u001b[0m\u001b[0m\n\u001b[1;32m--> 120\u001b[1;33m         \u001b[0mself\u001b[0m\u001b[1;33m.\u001b[0m\u001b[0m_initialize_Tpc_corrected\u001b[0m\u001b[1;33m(\u001b[0m\u001b[0mTpc_corrected\u001b[0m\u001b[1;33m,\u001b[0m \u001b[0msg\u001b[0m\u001b[1;33m=\u001b[0m\u001b[0msg\u001b[0m\u001b[1;33m,\u001b[0m \u001b[0mTpc\u001b[0m\u001b[1;33m=\u001b[0m\u001b[0mTpc\u001b[0m\u001b[1;33m,\u001b[0m \u001b[0me_correction\u001b[0m\u001b[1;33m=\u001b[0m\u001b[0me_correction\u001b[0m\u001b[1;33m,\u001b[0m \u001b[0mH2S\u001b[0m\u001b[1;33m=\u001b[0m\u001b[0mH2S\u001b[0m\u001b[1;33m,\u001b[0m \u001b[0mCO2\u001b[0m\u001b[1;33m=\u001b[0m\u001b[0mCO2\u001b[0m\u001b[1;33m,\u001b[0m \u001b[0mignore_conflict\u001b[0m\u001b[1;33m=\u001b[0m\u001b[0mignore_conflict\u001b[0m\u001b[1;33m)\u001b[0m\u001b[1;33m\u001b[0m\u001b[1;33m\u001b[0m\u001b[0m\n\u001b[0m\u001b[0;32m    121\u001b[0m         \u001b[0mself\u001b[0m\u001b[1;33m.\u001b[0m\u001b[0mTr\u001b[0m \u001b[1;33m=\u001b[0m \u001b[0mself\u001b[0m\u001b[1;33m.\u001b[0m\u001b[0mT\u001b[0m \u001b[1;33m/\u001b[0m \u001b[0mself\u001b[0m\u001b[1;33m.\u001b[0m\u001b[0mTpc_corrected\u001b[0m\u001b[1;33m\u001b[0m\u001b[1;33m\u001b[0m\u001b[0m\n\u001b[0;32m    122\u001b[0m         \u001b[1;32mreturn\u001b[0m \u001b[0mself\u001b[0m\u001b[1;33m.\u001b[0m\u001b[0mTr\u001b[0m\u001b[1;33m\u001b[0m\u001b[1;33m\u001b[0m\u001b[0m\n",
      "\u001b[1;32m~\\AppData\\Local\\Temp\\ipykernel_14796\\1784440184.py\u001b[0m in \u001b[0;36m_initialize_Tpc_corrected\u001b[1;34m(self, Tpc_corrected, sg, Tpc, e_correction, H2S, CO2, ignore_conflict)\u001b[0m\n\u001b[0;32m    307\u001b[0m         \u001b[1;32melse\u001b[0m\u001b[1;33m:\u001b[0m\u001b[1;33m\u001b[0m\u001b[1;33m\u001b[0m\u001b[0m\n\u001b[0;32m    308\u001b[0m             \u001b[1;32mif\u001b[0m \u001b[0mignore_conflict\u001b[0m \u001b[1;32mis\u001b[0m \u001b[1;32mFalse\u001b[0m\u001b[1;33m:\u001b[0m\u001b[1;33m\u001b[0m\u001b[1;33m\u001b[0m\u001b[0m\n\u001b[1;32m--> 309\u001b[1;33m                 \u001b[0mself\u001b[0m\u001b[1;33m.\u001b[0m\u001b[0m_check_conflicting_arguments\u001b[0m\u001b[1;33m(\u001b[0m\u001b[0mself\u001b[0m\u001b[1;33m.\u001b[0m\u001b[0mcalc_Tpc_corrected\u001b[0m\u001b[1;33m,\u001b[0m \u001b[1;34m'Tpc_corrected'\u001b[0m\u001b[1;33m)\u001b[0m\u001b[1;33m\u001b[0m\u001b[1;33m\u001b[0m\u001b[0m\n\u001b[0m\u001b[0;32m    310\u001b[0m             \u001b[0mself\u001b[0m\u001b[1;33m.\u001b[0m\u001b[0mTpc_corrected\u001b[0m \u001b[1;33m=\u001b[0m \u001b[0mTpc_corrected\u001b[0m\u001b[1;33m\u001b[0m\u001b[1;33m\u001b[0m\u001b[0m\n\u001b[0;32m    311\u001b[0m \u001b[1;33m\u001b[0m\u001b[0m\n",
      "\u001b[1;32m~\\AppData\\Local\\Temp\\ipykernel_14796\\1784440184.py\u001b[0m in \u001b[0;36m_check_conflicting_arguments\u001b[1;34m(self, func, calculated_var)\u001b[0m\n\u001b[0;32m    229\u001b[0m         \u001b[1;32mfor\u001b[0m \u001b[0marg\u001b[0m \u001b[1;32min\u001b[0m \u001b[0margs\u001b[0m\u001b[1;33m:\u001b[0m\u001b[1;33m\u001b[0m\u001b[1;33m\u001b[0m\u001b[0m\n\u001b[0;32m    230\u001b[0m             \u001b[1;32mif\u001b[0m \u001b[0mself\u001b[0m\u001b[1;33m.\u001b[0m\u001b[0m_first_caller_kwargs\u001b[0m\u001b[1;33m[\u001b[0m\u001b[0marg\u001b[0m\u001b[1;33m]\u001b[0m \u001b[1;32mis\u001b[0m \u001b[1;32mnot\u001b[0m \u001b[1;32mNone\u001b[0m\u001b[1;33m:\u001b[0m\u001b[1;33m\u001b[0m\u001b[1;33m\u001b[0m\u001b[0m\n\u001b[1;32m--> 231\u001b[1;33m                 \u001b[1;32mraise\u001b[0m \u001b[0mTypeError\u001b[0m\u001b[1;33m(\u001b[0m\u001b[1;34m'%s() has conflicting keyword arguments \"%s\" and \"%s\"'\u001b[0m \u001b[1;33m%\u001b[0m \u001b[1;33m(\u001b[0m\u001b[0mself\u001b[0m\u001b[1;33m.\u001b[0m\u001b[0m_first_caller_name\u001b[0m\u001b[1;33m,\u001b[0m \u001b[0mcalculated_var\u001b[0m\u001b[1;33m,\u001b[0m \u001b[0marg\u001b[0m\u001b[1;33m)\u001b[0m\u001b[1;33m)\u001b[0m\u001b[1;33m\u001b[0m\u001b[1;33m\u001b[0m\u001b[0m\n\u001b[0m\u001b[0;32m    232\u001b[0m \u001b[1;33m\u001b[0m\u001b[0m\n\u001b[0;32m    233\u001b[0m     \u001b[1;32mdef\u001b[0m \u001b[0m_initialize_sg\u001b[0m\u001b[1;33m(\u001b[0m\u001b[0mself\u001b[0m\u001b[1;33m,\u001b[0m \u001b[0msg\u001b[0m\u001b[1;33m)\u001b[0m\u001b[1;33m:\u001b[0m\u001b[1;33m\u001b[0m\u001b[1;33m\u001b[0m\u001b[0m\n",
      "\u001b[1;31mTypeError\u001b[0m: calc_Z() has conflicting keyword arguments \"Tpc_corrected\" and \"sg\""
     ]
    }
   ],
   "source": [
    "a = sutton()\n",
    "#a.calc_Z(Tpc_corrected=356.31, sg=0.7, P=2010, T=75, H2S=0.07, CO2=0.1)\n",
    "\n",
    "a = sutton()\n",
    "#a.calc_Tpc_corrected(sg=0.7, e_correction=21, H2S=0.7)\n",
    "\n",
    "a = sutton()\n",
    "a.calc_Z(Tpc_corrected=1, sg=1, P=2010, T=75)"
   ]
  },
  {
   "cell_type": "code",
   "execution_count": null,
   "id": "2962cea8",
   "metadata": {},
   "outputs": [],
   "source": []
  },
  {
   "cell_type": "code",
   "execution_count": null,
   "id": "4035b30b",
   "metadata": {},
   "outputs": [],
   "source": []
  },
  {
   "cell_type": "code",
   "execution_count": 42,
   "id": "8eef7ffa",
   "metadata": {},
   "outputs": [
    {
     "data": {
      "text/plain": [
       "<GasCompressibilityFactor object. Mixing Rule = piper>"
      ]
     },
     "execution_count": 42,
     "metadata": {},
     "output_type": "execute_result"
    }
   ],
   "source": [
    "a"
   ]
  },
  {
   "cell_type": "code",
   "execution_count": null,
   "id": "76303295",
   "metadata": {},
   "outputs": [],
   "source": []
  },
  {
   "cell_type": "code",
   "execution_count": 39,
   "id": "96c955d2",
   "metadata": {},
   "outputs": [
    {
     "data": {
      "text/plain": [
       "0.7418404080772932"
      ]
     },
     "execution_count": 39,
     "metadata": {},
     "output_type": "execute_result"
    }
   ],
   "source": [
    "instance = piper()\n",
    "kwargs = {'sg':0.7, 'P':2010, 'T':75, 'H2S':0.07, 'CO2':0.1}\n",
    "result = instance.calc_Z(**kwargs, ignore_conflict=True)\n",
    "result"
   ]
  },
  {
   "cell_type": "code",
   "execution_count": 41,
   "id": "5b3d464c",
   "metadata": {},
   "outputs": [
    {
     "name": "stdout",
     "output_type": "stream",
     "text": [
      "self.assertEqual(obj.sg, 0.7)\n",
      "self.assertEqual(obj.P, 2010)\n",
      "self.assertEqual(obj.T, 75)\n",
      "self.assertEqual(obj.H2S, 0.07)\n",
      "self.assertEqual(obj.CO2, 0.1)\n"
     ]
    }
   ],
   "source": [
    "def temp(obj, dct):\n",
    "    \n",
    "    for key, val in dct.items():\n",
    "        s = 'self.assertEqual(obj.%s, %s)' % (key, val)\n",
    "        exec(s)\n",
    "\n",
    "temp(instance, kwargs)"
   ]
  },
  {
   "cell_type": "code",
   "execution_count": 30,
   "id": "f7896cd6",
   "metadata": {},
   "outputs": [
    {
     "ename": "RuntimeError",
     "evalue": "Failed to converge after 1 iterations, value is 0.7414685274075078.",
     "output_type": "error",
     "traceback": [
      "\u001b[1;31m---------------------------------------------------------------------------\u001b[0m",
      "\u001b[1;31mRuntimeError\u001b[0m                              Traceback (most recent call last)",
      "\u001b[1;32m~\\AppData\\Local\\Temp\\ipykernel_7828\\339463580.py\u001b[0m in \u001b[0;36m<module>\u001b[1;34m\u001b[0m\n\u001b[0;32m      1\u001b[0m \u001b[0ma\u001b[0m \u001b[1;33m=\u001b[0m \u001b[0mpiper\u001b[0m\u001b[1;33m(\u001b[0m\u001b[1;33m)\u001b[0m\u001b[1;33m\u001b[0m\u001b[1;33m\u001b[0m\u001b[0m\n\u001b[1;32m----> 2\u001b[1;33m \u001b[0ma\u001b[0m\u001b[1;33m.\u001b[0m\u001b[0mcalc_Z\u001b[0m\u001b[1;33m(\u001b[0m\u001b[0msg\u001b[0m\u001b[1;33m=\u001b[0m\u001b[1;36m0.7\u001b[0m\u001b[1;33m,\u001b[0m \u001b[0mH2S\u001b[0m\u001b[1;33m=\u001b[0m\u001b[1;36m0.07\u001b[0m\u001b[1;33m,\u001b[0m \u001b[0mCO2\u001b[0m\u001b[1;33m=\u001b[0m\u001b[1;36m0.1\u001b[0m\u001b[1;33m,\u001b[0m \u001b[0mP\u001b[0m\u001b[1;33m=\u001b[0m\u001b[1;36m2010\u001b[0m\u001b[1;33m,\u001b[0m \u001b[0mT\u001b[0m\u001b[1;33m=\u001b[0m\u001b[1;36m75\u001b[0m\u001b[1;33m,\u001b[0m \u001b[0mnewton_kwargs\u001b[0m\u001b[1;33m=\u001b[0m\u001b[1;33m{\u001b[0m\u001b[1;34m'maxiter'\u001b[0m\u001b[1;33m:\u001b[0m \u001b[1;36m1\u001b[0m\u001b[1;33m,\u001b[0m\u001b[1;33m}\u001b[0m\u001b[1;33m)\u001b[0m\u001b[1;33m\u001b[0m\u001b[1;33m\u001b[0m\u001b[0m\n\u001b[0m",
      "\u001b[1;32m~\\AppData\\Local\\Temp\\ipykernel_7828\\444672467.py\u001b[0m in \u001b[0;36mcalc_Z\u001b[1;34m(self, guess, sg, P, T, Tpc, Ppc, H2S, CO2, N2, Tr, Pr, J, K, ignore_conflict, newton_kwargs)\u001b[0m\n\u001b[0;32m    174\u001b[0m             \u001b[0mself\u001b[0m\u001b[1;33m.\u001b[0m\u001b[0mZ\u001b[0m \u001b[1;33m=\u001b[0m \u001b[0moptimize\u001b[0m\u001b[1;33m.\u001b[0m\u001b[0mnewton\u001b[0m\u001b[1;33m(\u001b[0m\u001b[0mself\u001b[0m\u001b[1;33m.\u001b[0m\u001b[0m_calc_Z\u001b[0m\u001b[1;33m,\u001b[0m \u001b[0mguess\u001b[0m\u001b[1;33m)\u001b[0m\u001b[1;33m\u001b[0m\u001b[1;33m\u001b[0m\u001b[0m\n\u001b[0;32m    175\u001b[0m         \u001b[1;32melse\u001b[0m\u001b[1;33m:\u001b[0m\u001b[1;33m\u001b[0m\u001b[1;33m\u001b[0m\u001b[0m\n\u001b[1;32m--> 176\u001b[1;33m             \u001b[0mself\u001b[0m\u001b[1;33m.\u001b[0m\u001b[0mZ\u001b[0m \u001b[1;33m=\u001b[0m \u001b[0moptimize\u001b[0m\u001b[1;33m.\u001b[0m\u001b[0mnewton\u001b[0m\u001b[1;33m(\u001b[0m\u001b[0mself\u001b[0m\u001b[1;33m.\u001b[0m\u001b[0m_calc_Z\u001b[0m\u001b[1;33m,\u001b[0m \u001b[0mguess\u001b[0m\u001b[1;33m,\u001b[0m \u001b[1;33m**\u001b[0m\u001b[0mnewton_kwargs\u001b[0m\u001b[1;33m)\u001b[0m\u001b[1;33m\u001b[0m\u001b[1;33m\u001b[0m\u001b[0m\n\u001b[0m\u001b[0;32m    177\u001b[0m \u001b[1;33m\u001b[0m\u001b[0m\n\u001b[0;32m    178\u001b[0m         \u001b[1;32mreturn\u001b[0m \u001b[0mself\u001b[0m\u001b[1;33m.\u001b[0m\u001b[0mZ\u001b[0m\u001b[1;33m\u001b[0m\u001b[1;33m\u001b[0m\u001b[0m\n",
      "\u001b[1;32mC:\\ProgramData\\Anaconda3\\lib\\site-packages\\scipy\\optimize\\_zeros_py.py\u001b[0m in \u001b[0;36mnewton\u001b[1;34m(func, x0, fprime, args, tol, maxiter, fprime2, x1, rtol, full_output, disp)\u001b[0m\n\u001b[0;32m    366\u001b[0m         msg = (\"Failed to converge after %d iterations, value is %s.\"\n\u001b[0;32m    367\u001b[0m                % (itr + 1, p))\n\u001b[1;32m--> 368\u001b[1;33m         \u001b[1;32mraise\u001b[0m \u001b[0mRuntimeError\u001b[0m\u001b[1;33m(\u001b[0m\u001b[0mmsg\u001b[0m\u001b[1;33m)\u001b[0m\u001b[1;33m\u001b[0m\u001b[1;33m\u001b[0m\u001b[0m\n\u001b[0m\u001b[0;32m    369\u001b[0m \u001b[1;33m\u001b[0m\u001b[0m\n\u001b[0;32m    370\u001b[0m     \u001b[1;32mreturn\u001b[0m \u001b[0m_results_select\u001b[0m\u001b[1;33m(\u001b[0m\u001b[0mfull_output\u001b[0m\u001b[1;33m,\u001b[0m \u001b[1;33m(\u001b[0m\u001b[0mp\u001b[0m\u001b[1;33m,\u001b[0m \u001b[0mfuncalls\u001b[0m\u001b[1;33m,\u001b[0m \u001b[0mitr\u001b[0m \u001b[1;33m+\u001b[0m \u001b[1;36m1\u001b[0m\u001b[1;33m,\u001b[0m \u001b[0m_ECONVERR\u001b[0m\u001b[1;33m)\u001b[0m\u001b[1;33m)\u001b[0m\u001b[1;33m\u001b[0m\u001b[1;33m\u001b[0m\u001b[0m\n",
      "\u001b[1;31mRuntimeError\u001b[0m: Failed to converge after 1 iterations, value is 0.7414685274075078."
     ]
    }
   ],
   "source": [
    "a = piper()\n",
    "a.calc_Z(sg=0.7, H2S=0.07, CO2=0.1, P=2010, T=75, newton_kwargs={'maxiter': 1,})"
   ]
  },
  {
   "cell_type": "code",
   "execution_count": 12,
   "id": "8504a696",
   "metadata": {},
   "outputs": [
    {
     "data": {
      "text/plain": [
       "'{Tpc_corrected:356.31, sg:0.7, P:2010, T:75, H2S:0.07, CO2:0.1}'"
      ]
     },
     "execution_count": 12,
     "metadata": {},
     "output_type": "execute_result"
    }
   ],
   "source": [
    "a = 'Tpc_corrected=356.31, sg=0.7, P=2010, T=75, H2S=0.07, CO2=0.1'\n",
    "a = a.replace('=', ':')\n",
    "a = '{' + a + '}'\n",
    "a"
   ]
  },
  {
   "cell_type": "code",
   "execution_count": null,
   "id": "6ae1fc9e",
   "metadata": {},
   "outputs": [],
   "source": []
  },
  {
   "cell_type": "code",
   "execution_count": 3,
   "id": "05916f1e",
   "metadata": {},
   "outputs": [
    {
     "ename": "SyntaxError",
     "evalue": "invalid syntax (1944620624.py, line 1)",
     "output_type": "error",
     "traceback": [
      "\u001b[1;36m  File \u001b[1;32m\"C:\\Users\\EricKim\\AppData\\Local\\Temp\\ipykernel_7828\\1944620624.py\"\u001b[1;36m, line \u001b[1;32m1\u001b[0m\n\u001b[1;33m    a = {Tpc_corrected=356.31, sg=0.7, P=2010, T=75, H2S=0.07, CO2=0.1}\u001b[0m\n\u001b[1;37m                      ^\u001b[0m\n\u001b[1;31mSyntaxError\u001b[0m\u001b[1;31m:\u001b[0m invalid syntax\n"
     ]
    }
   ],
   "source": [
    "{Tpc_corrected=356.31, sg=0.7, P=2010, T=75, H2S=0.07, CO2=0.1}"
   ]
  },
  {
   "cell_type": "code",
   "execution_count": 31,
   "id": "a07a1e23",
   "metadata": {},
   "outputs": [],
   "source": [
    "Pc_H2S=1306\n",
    "Tc_H2S=672.3\n",
    "Pc_CO2=1071\n",
    "Tc_CO2=547.5\n",
    "Pc_N2=492.4\n",
    "Tc_N2=227.16"
   ]
  },
  {
   "cell_type": "code",
   "execution_count": 66,
   "id": "fc3b3f87",
   "metadata": {},
   "outputs": [],
   "source": [
    "def J(sg, H2S=0, CO2=0, N2=0):\n",
    "    return 0.11582 - 0.45820 * H2S * (Tc_H2S/Pc_H2S) - 0.90348 * (Tc_CO2/Pc_CO2) * CO2 - 0.66026 * (Tc_N2/Pc_N2) * N2 + 0.70729 * sg - 0.099397 * sg ** 2 "
   ]
  },
  {
   "cell_type": "code",
   "execution_count": 67,
   "id": "0c7cc5f2",
   "metadata": {},
   "outputs": [],
   "source": [
    "def K(sg, H2S=0, CO2=0, N2=0):\n",
    "    return 3.8216 - 0.06534 * H2S * (Tc_H2S/Pc_H2S ** 0.5) - 0.42113 * (Tc_CO2/Pc_CO2 ** 0.5) * CO2 - 0.91249 * (Tc_N2/Pc_N2 ** 0.5) * N2 + 17.438 * sg - 3.2191 * sg ** 2 "
   ]
  },
  {
   "cell_type": "code",
   "execution_count": 73,
   "id": "09435f59",
   "metadata": {},
   "outputs": [
    {
     "name": "stdout",
     "output_type": "stream",
     "text": [
      "0.4690612564250918\n"
     ]
    }
   ],
   "source": [
    "j = J(sg=0.7, H2S=0.07, CO2=0.1, N2=0.1)\n",
    "print(j)"
   ]
  },
  {
   "cell_type": "code",
   "execution_count": 74,
   "id": "823cf873",
   "metadata": {},
   "outputs": [
    {
     "name": "stdout",
     "output_type": "stream",
     "text": [
      "12.727096764135345\n"
     ]
    }
   ],
   "source": [
    "k = K(sg=0.7, H2S=0.07, CO2=0.1, N2=0.1)\n",
    "print(k)"
   ]
  },
  {
   "cell_type": "code",
   "execution_count": 75,
   "id": "ea9441bf",
   "metadata": {},
   "outputs": [
    {
     "name": "stdout",
     "output_type": "stream",
     "text": [
      "345.325881907563\n"
     ]
    }
   ],
   "source": [
    "Tpc = k ** 2 / j\n",
    "print(Tpc)"
   ]
  },
  {
   "cell_type": "code",
   "execution_count": 76,
   "id": "1f73fa23",
   "metadata": {},
   "outputs": [
    {
     "name": "stdout",
     "output_type": "stream",
     "text": [
      "736.2063636196116\n"
     ]
    }
   ],
   "source": [
    "Ppc = Tpc / j\n",
    "print(Ppc)"
   ]
  },
  {
   "cell_type": "code",
   "execution_count": 133,
   "id": "ad2e0eb7",
   "metadata": {},
   "outputs": [],
   "source": [
    "def E(H2S=0, CO2=0):\n",
    "    A = H2S + CO2\n",
    "    B = H2S\n",
    "    return 120 * (A ** 0.9 - A ** 1.6) + 15 * (B ** 0.5 - B ** 4)"
   ]
  },
  {
   "cell_type": "code",
   "execution_count": 134,
   "id": "fddddbf6",
   "metadata": {},
   "outputs": [],
   "source": [
    "def Ppc_new(Ppc=0, Tpc_new=0, Tpc=0, B=0, e=0):\n",
    "    return (Ppc * Tpc_new)/(Tpc - B * (1- B) * e)"
   ]
  },
  {
   "cell_type": "code",
   "execution_count": 135,
   "id": "b94750d7",
   "metadata": {},
   "outputs": [
    {
     "data": {
      "text/plain": [
       "13.22374615565324"
      ]
     },
     "execution_count": 135,
     "metadata": {},
     "output_type": "execute_result"
    }
   ],
   "source": [
    "E(H2S=0.07)"
   ]
  },
  {
   "cell_type": "code",
   "execution_count": 137,
   "id": "8c491613",
   "metadata": {},
   "outputs": [
    {
     "data": {
      "text/plain": [
       "625.9086837575147"
      ]
     },
     "execution_count": 137,
     "metadata": {},
     "output_type": "execute_result"
    }
   ],
   "source": [
    "Ppc_new(Ppc=663.29, Tpc_new=356.31, Tpc=377.59)"
   ]
  },
  {
   "cell_type": "code",
   "execution_count": null,
   "id": "3d139a1c",
   "metadata": {},
   "outputs": [],
   "source": []
  },
  {
   "cell_type": "code",
   "execution_count": null,
   "id": "7ebcc31d",
   "metadata": {},
   "outputs": [],
   "source": []
  },
  {
   "cell_type": "code",
   "execution_count": null,
   "id": "c7353884",
   "metadata": {},
   "outputs": [],
   "source": []
  },
  {
   "cell_type": "code",
   "execution_count": 97,
   "id": "fdbaf43e",
   "metadata": {},
   "outputs": [],
   "source": [
    "def tround(a, n):\n",
    "    if a is not None:\n",
    "        return round(a, n)\n",
    "    return None  \n",
    "n = 4"
   ]
  },
  {
   "cell_type": "code",
   "execution_count": 153,
   "id": "20417bd7",
   "metadata": {},
   "outputs": [
    {
     "name": "stdout",
     "output_type": "stream",
     "text": [
      "self.assertAlmostEqual(instance.P, 2010, places=3)\n",
      "self.assertAlmostEqual(instance.T, 534.67, places=3)\n",
      "self.assertAlmostEqual(instance.e_correction, 21.2778, places=3)\n",
      "self.assertAlmostEqual(instance.Ppc_corrected, 628.2104, places=3)\n",
      "self.assertAlmostEqual(instance.Tpc_corrected, 356.31, places=3)\n",
      "self.assertAlmostEqual(instance.Ppc, 663.287, places=3)\n",
      "self.assertAlmostEqual(instance.Tpc, 377.59, places=3)\n",
      "self.assertAlmostEqual(instance.Pr, 3.1996, places=3)\n",
      "self.assertAlmostEqual(instance.Tr, 1.5006, places=3)\n",
      "self.assertAlmostEqual(instance.Z, 0.7731, places=3)\n"
     ]
    }
   ],
   "source": [
    "        instance = sutton()\n",
    "        result = instance.calc_Z(Tpc_corrected=356.31, sg=0.7, P=2010, T=75, H2S=0.07, CO2=0.1, ignore_conflict=True)\n",
    "        a = 'self.assertAlmostEqual(instance.P, %s, places=3)' % tround(instance.P, n)\n",
    "        b = 'self.assertAlmostEqual(instance.T, %s, places=3)' % tround(instance.T, n)\n",
    "        c = 'self.assertAlmostEqual(instance.e_correction, %s, places=3)' % tround(instance.e_correction, n)\n",
    "        d = 'self.assertAlmostEqual(instance.Ppc_corrected, %s, places=3)' % tround(instance.Ppc_corrected, n)\n",
    "        e = 'self.assertAlmostEqual(instance.Tpc_corrected, %s, places=3)' % tround(instance.Tpc_corrected, n)\n",
    "        f = 'self.assertAlmostEqual(instance.Ppc, %s, places=3)' % tround(instance.Ppc, n)\n",
    "        g = 'self.assertAlmostEqual(instance.Tpc, %s, places=3)' % tround(instance.Tpc, n)\n",
    "        h = 'self.assertAlmostEqual(instance.Pr, %s, places=3)' % tround(instance.Pr, n)\n",
    "        i = 'self.assertAlmostEqual(instance.Tr, %s, places=3)' % tround(instance.Tr, n)\n",
    "        j = 'self.assertAlmostEqual(instance.Z, %s, places=3)' % tround(instance.Z, n)\n",
    "        temp = [a, b, c, d, e, f, g, h, i, j]\n",
    "        for item in temp:\n",
    "            if 'None' in item:\n",
    "                pass\n",
    "            else:\n",
    "                print(item)"
   ]
  },
  {
   "cell_type": "code",
   "execution_count": 150,
   "id": "827db540",
   "metadata": {},
   "outputs": [
    {
     "data": {
      "text/plain": [
       "'self.assertAlmostEqual(instance.P, 2010, places=3)'"
      ]
     },
     "execution_count": 150,
     "metadata": {},
     "output_type": "execute_result"
    }
   ],
   "source": [
    "a = 'self.assertAlmostEqual(instance.P, %s, places=3)' % tround(instance.P, n)\n",
    "a"
   ]
  },
  {
   "cell_type": "code",
   "execution_count": 89,
   "id": "e25fb1a1",
   "metadata": {},
   "outputs": [
    {
     "data": {
      "text/plain": [
       "21.277806029218723"
      ]
     },
     "execution_count": 89,
     "metadata": {},
     "output_type": "execute_result"
    }
   ],
   "source": [
    "result"
   ]
  },
  {
   "cell_type": "code",
   "execution_count": 93,
   "id": "622d7ec2",
   "metadata": {},
   "outputs": [
    {
     "data": {
      "text/plain": [
       "21.277806029218723"
      ]
     },
     "execution_count": 93,
     "metadata": {},
     "output_type": "execute_result"
    }
   ],
   "source": [
    "instance.e_correction"
   ]
  },
  {
   "cell_type": "code",
   "execution_count": 100,
   "id": "1ece4a8a",
   "metadata": {},
   "outputs": [
    {
     "data": {
      "text/plain": [
       "21.2778"
      ]
     },
     "execution_count": 100,
     "metadata": {},
     "output_type": "execute_result"
    }
   ],
   "source": [
    "tround(instance.e_correction, n)"
   ]
  },
  {
   "cell_type": "code",
   "execution_count": 101,
   "id": "184dba86",
   "metadata": {},
   "outputs": [
    {
     "data": {
      "text/plain": [
       "'self.assertAlmostEqual(instance.e_correction, 21.2778, places=3)'"
      ]
     },
     "execution_count": 101,
     "metadata": {},
     "output_type": "execute_result"
    }
   ],
   "source": [
    "'self.assertAlmostEqual(instance.e_correction, %s, places=3)' % tround(instance.e_correction, n)"
   ]
  },
  {
   "cell_type": "code",
   "execution_count": null,
   "id": "71f42361",
   "metadata": {},
   "outputs": [],
   "source": []
  },
  {
   "cell_type": "code",
   "execution_count": null,
   "id": "efdb753d",
   "metadata": {},
   "outputs": [],
   "source": []
  },
  {
   "cell_type": "code",
   "execution_count": null,
   "id": "b9fd5fbc",
   "metadata": {},
   "outputs": [],
   "source": []
  },
  {
   "cell_type": "code",
   "execution_count": null,
   "id": "9b7828b8",
   "metadata": {},
   "outputs": [],
   "source": []
  },
  {
   "cell_type": "code",
   "execution_count": null,
   "id": "b59202fe",
   "metadata": {},
   "outputs": [],
   "source": []
  },
  {
   "cell_type": "code",
   "execution_count": null,
   "id": "f426b6ad",
   "metadata": {},
   "outputs": [],
   "source": []
  },
  {
   "cell_type": "code",
   "execution_count": 178,
   "id": "4931b0aa",
   "metadata": {},
   "outputs": [
    {
     "ename": "TypeError",
     "evalue": "not enough arguments for format string",
     "output_type": "error",
     "traceback": [
      "\u001b[1;31m---------------------------------------------------------------------------\u001b[0m",
      "\u001b[1;31mTypeError\u001b[0m                                 Traceback (most recent call last)",
      "\u001b[1;32m~\\AppData\\Local\\Temp\\ipykernel_16228\\3428000352.py\u001b[0m in \u001b[0;36m<module>\u001b[1;34m\u001b[0m\n\u001b[1;32m----> 1\u001b[1;33m \u001b[0msutton\u001b[0m\u001b[1;33m(\u001b[0m\u001b[1;33m)\u001b[0m\u001b[1;33m.\u001b[0m\u001b[0mcalc_Ppc_corrected\u001b[0m\u001b[1;33m(\u001b[0m\u001b[0mPpc\u001b[0m\u001b[1;33m=\u001b[0m\u001b[1;36m663.29\u001b[0m\u001b[1;33m,\u001b[0m \u001b[0me_correction\u001b[0m\u001b[1;33m=\u001b[0m\u001b[1;36m21.278\u001b[0m\u001b[1;33m,\u001b[0m \u001b[0mTpc_corrected\u001b[0m\u001b[1;33m=\u001b[0m\u001b[1;36m356.31\u001b[0m\u001b[1;33m,\u001b[0m \u001b[0mTpc\u001b[0m\u001b[1;33m=\u001b[0m\u001b[1;36m377.59\u001b[0m\u001b[1;33m)\u001b[0m\u001b[1;33m\u001b[0m\u001b[1;33m\u001b[0m\u001b[0m\n\u001b[0m",
      "\u001b[1;32m~\\AppData\\Local\\Temp\\ipykernel_16228\\3113611712.py\u001b[0m in \u001b[0;36mcalc_Ppc_corrected\u001b[1;34m(self, sg, Tpc, Ppc, e_correction, Tpc_corrected, H2S, CO2)\u001b[0m\n\u001b[0;32m     96\u001b[0m                 \u001b[1;32mpass\u001b[0m\u001b[1;33m\u001b[0m\u001b[1;33m\u001b[0m\u001b[0m\n\u001b[0;32m     97\u001b[0m             \u001b[1;32melse\u001b[0m\u001b[1;33m:\u001b[0m\u001b[1;33m\u001b[0m\u001b[1;33m\u001b[0m\u001b[0m\n\u001b[1;32m---> 98\u001b[1;33m                 warnings.warn(\"e_correction factor computed from H2S = %s does not agree with the provided \"\n\u001b[0m\u001b[0;32m     99\u001b[0m                               \"e_correction factor within 10% tolerance. The result is likely to have minor error.\" % str(None) )\n\u001b[0;32m    100\u001b[0m \u001b[1;33m\u001b[0m\u001b[0m\n",
      "\u001b[1;31mTypeError\u001b[0m: not enough arguments for format string"
     ]
    }
   ],
   "source": [
    "sutton().calc_Ppc_corrected(Ppc=663.29, e_correction=21.278, Tpc_corrected=356.31, Tpc=377.59)"
   ]
  },
  {
   "cell_type": "code",
   "execution_count": 179,
   "id": "4eff2a9f",
   "metadata": {},
   "outputs": [
    {
     "ename": "TypeError",
     "evalue": "not enough arguments for format string",
     "output_type": "error",
     "traceback": [
      "\u001b[1;31m---------------------------------------------------------------------------\u001b[0m",
      "\u001b[1;31mTypeError\u001b[0m                                 Traceback (most recent call last)",
      "\u001b[1;32m~\\AppData\\Local\\Temp\\ipykernel_16228\\2674746062.py\u001b[0m in \u001b[0;36m<module>\u001b[1;34m\u001b[0m\n\u001b[0;32m      1\u001b[0m \u001b[0ma\u001b[0m \u001b[1;33m=\u001b[0m \u001b[0msutton\u001b[0m\u001b[1;33m(\u001b[0m\u001b[1;33m)\u001b[0m\u001b[1;33m\u001b[0m\u001b[1;33m\u001b[0m\u001b[0m\n\u001b[1;32m----> 2\u001b[1;33m \u001b[0ma\u001b[0m\u001b[1;33m.\u001b[0m\u001b[0mcalc_Ppc_corrected\u001b[0m\u001b[1;33m(\u001b[0m\u001b[0mPpc\u001b[0m\u001b[1;33m=\u001b[0m\u001b[1;36m663.29\u001b[0m\u001b[1;33m,\u001b[0m \u001b[0me_correction\u001b[0m\u001b[1;33m=\u001b[0m\u001b[1;36m21.278\u001b[0m\u001b[1;33m,\u001b[0m \u001b[0mTpc_corrected\u001b[0m\u001b[1;33m=\u001b[0m\u001b[1;36m356.31\u001b[0m\u001b[1;33m,\u001b[0m \u001b[0msg\u001b[0m\u001b[1;33m=\u001b[0m\u001b[1;36m0.7\u001b[0m\u001b[1;33m)\u001b[0m\u001b[1;33m\u001b[0m\u001b[1;33m\u001b[0m\u001b[0m\n\u001b[0m\u001b[0;32m      3\u001b[0m \u001b[1;33m\u001b[0m\u001b[0m\n\u001b[0;32m      4\u001b[0m \u001b[0mprint\u001b[0m\u001b[1;33m(\u001b[0m\u001b[0ma\u001b[0m\u001b[1;33m.\u001b[0m\u001b[0mPpc\u001b[0m\u001b[1;33m)\u001b[0m\u001b[1;33m\u001b[0m\u001b[1;33m\u001b[0m\u001b[0m\n\u001b[0;32m      5\u001b[0m \u001b[0mprint\u001b[0m\u001b[1;33m(\u001b[0m\u001b[0ma\u001b[0m\u001b[1;33m.\u001b[0m\u001b[0mTpc\u001b[0m\u001b[1;33m)\u001b[0m\u001b[1;33m\u001b[0m\u001b[1;33m\u001b[0m\u001b[0m\n",
      "\u001b[1;32m~\\AppData\\Local\\Temp\\ipykernel_16228\\3113611712.py\u001b[0m in \u001b[0;36mcalc_Ppc_corrected\u001b[1;34m(self, sg, Tpc, Ppc, e_correction, Tpc_corrected, H2S, CO2)\u001b[0m\n\u001b[0;32m     96\u001b[0m                 \u001b[1;32mpass\u001b[0m\u001b[1;33m\u001b[0m\u001b[1;33m\u001b[0m\u001b[0m\n\u001b[0;32m     97\u001b[0m             \u001b[1;32melse\u001b[0m\u001b[1;33m:\u001b[0m\u001b[1;33m\u001b[0m\u001b[1;33m\u001b[0m\u001b[0m\n\u001b[1;32m---> 98\u001b[1;33m                 warnings.warn(\"e_correction factor computed from H2S = %s does not agree with the provided \"\n\u001b[0m\u001b[0;32m     99\u001b[0m                               \"e_correction factor within 10% tolerance. The result is likely to have minor error.\" % str(None) )\n\u001b[0;32m    100\u001b[0m \u001b[1;33m\u001b[0m\u001b[0m\n",
      "\u001b[1;31mTypeError\u001b[0m: not enough arguments for format string"
     ]
    }
   ],
   "source": [
    "a = sutton()\n",
    "a.calc_Ppc_corrected(Ppc=663.29, e_correction=21.278, Tpc_corrected=356.31, sg=0.7)\n",
    "\n",
    "print(a.Ppc)\n",
    "print(a.Tpc)\n",
    "print(a.e_correction)\n",
    "print(a.Tpc_corrected)\n",
    "print(a.Ppc_corrected)"
   ]
  },
  {
   "cell_type": "code",
   "execution_count": 196,
   "id": "96997039",
   "metadata": {},
   "outputs": [
    {
     "ename": "ValueError",
     "evalue": "unsupported format character 't' (0x74) at index 108",
     "output_type": "error",
     "traceback": [
      "\u001b[1;31m---------------------------------------------------------------------------\u001b[0m",
      "\u001b[1;31mValueError\u001b[0m                                Traceback (most recent call last)",
      "\u001b[1;32m~\\AppData\\Local\\Temp\\ipykernel_16228\\1904961174.py\u001b[0m in \u001b[0;36m<module>\u001b[1;34m\u001b[0m\n\u001b[1;32m----> 1\u001b[1;33m \u001b[0mwarnings\u001b[0m\u001b[1;33m.\u001b[0m\u001b[0mwarn\u001b[0m\u001b[1;33m(\u001b[0m\u001b[1;34m\"e_correction factor computed from H2S = %%s does not agree with the provided e_correction factor within 10% tolerance. The result is likely to have minor error.\"\u001b[0m \u001b[1;33m%\u001b[0m \u001b[0mstr\u001b[0m\u001b[1;33m(\u001b[0m\u001b[1;32mNone\u001b[0m\u001b[1;33m)\u001b[0m \u001b[1;33m)\u001b[0m\u001b[1;33m\u001b[0m\u001b[1;33m\u001b[0m\u001b[0m\n\u001b[0m",
      "\u001b[1;31mValueError\u001b[0m: unsupported format character 't' (0x74) at index 108"
     ]
    }
   ],
   "source": [
    "warnings.warn(\"e_correction factor computed from H2S = %%s does not agree with the provided e_correction factor within 10% tolerance. The result is likely to have minor error.\" % str(None) )"
   ]
  },
  {
   "cell_type": "code",
   "execution_count": 181,
   "id": "db1311f3",
   "metadata": {},
   "outputs": [
    {
     "ename": "TypeError",
     "evalue": "ufunc 'isfinite' not supported for the input types, and the inputs could not be safely coerced to any supported types according to the casting rule ''safe''",
     "output_type": "error",
     "traceback": [
      "\u001b[1;31m---------------------------------------------------------------------------\u001b[0m",
      "\u001b[1;31mTypeError\u001b[0m                                 Traceback (most recent call last)",
      "\u001b[1;32m~\\AppData\\Local\\Temp\\ipykernel_16228\\3949630673.py\u001b[0m in \u001b[0;36m<module>\u001b[1;34m\u001b[0m\n\u001b[1;32m----> 1\u001b[1;33m \u001b[0mnp\u001b[0m\u001b[1;33m.\u001b[0m\u001b[0misclose\u001b[0m\u001b[1;33m(\u001b[0m\u001b[1;36m1.05\u001b[0m\u001b[1;33m,\u001b[0m \u001b[1;32mNone\u001b[0m\u001b[1;33m,\u001b[0m \u001b[0mrtol\u001b[0m\u001b[1;33m=\u001b[0m\u001b[1;36m1e-01\u001b[0m\u001b[1;33m,\u001b[0m \u001b[0mequal_nan\u001b[0m\u001b[1;33m=\u001b[0m\u001b[1;32mTrue\u001b[0m\u001b[1;33m)\u001b[0m\u001b[1;33m\u001b[0m\u001b[1;33m\u001b[0m\u001b[0m\n\u001b[0m",
      "\u001b[1;32m<__array_function__ internals>\u001b[0m in \u001b[0;36misclose\u001b[1;34m(*args, **kwargs)\u001b[0m\n",
      "\u001b[1;32mC:\\ProgramData\\Anaconda3\\lib\\site-packages\\numpy\\core\\numeric.py\u001b[0m in \u001b[0;36misclose\u001b[1;34m(a, b, rtol, atol, equal_nan)\u001b[0m\n\u001b[0;32m   2354\u001b[0m \u001b[1;33m\u001b[0m\u001b[0m\n\u001b[0;32m   2355\u001b[0m     \u001b[0mxfin\u001b[0m \u001b[1;33m=\u001b[0m \u001b[0misfinite\u001b[0m\u001b[1;33m(\u001b[0m\u001b[0mx\u001b[0m\u001b[1;33m)\u001b[0m\u001b[1;33m\u001b[0m\u001b[1;33m\u001b[0m\u001b[0m\n\u001b[1;32m-> 2356\u001b[1;33m     \u001b[0myfin\u001b[0m \u001b[1;33m=\u001b[0m \u001b[0misfinite\u001b[0m\u001b[1;33m(\u001b[0m\u001b[0my\u001b[0m\u001b[1;33m)\u001b[0m\u001b[1;33m\u001b[0m\u001b[1;33m\u001b[0m\u001b[0m\n\u001b[0m\u001b[0;32m   2357\u001b[0m     \u001b[1;32mif\u001b[0m \u001b[0mall\u001b[0m\u001b[1;33m(\u001b[0m\u001b[0mxfin\u001b[0m\u001b[1;33m)\u001b[0m \u001b[1;32mand\u001b[0m \u001b[0mall\u001b[0m\u001b[1;33m(\u001b[0m\u001b[0myfin\u001b[0m\u001b[1;33m)\u001b[0m\u001b[1;33m:\u001b[0m\u001b[1;33m\u001b[0m\u001b[1;33m\u001b[0m\u001b[0m\n\u001b[0;32m   2358\u001b[0m         \u001b[1;32mreturn\u001b[0m \u001b[0mwithin_tol\u001b[0m\u001b[1;33m(\u001b[0m\u001b[0mx\u001b[0m\u001b[1;33m,\u001b[0m \u001b[0my\u001b[0m\u001b[1;33m,\u001b[0m \u001b[0matol\u001b[0m\u001b[1;33m,\u001b[0m \u001b[0mrtol\u001b[0m\u001b[1;33m)\u001b[0m\u001b[1;33m\u001b[0m\u001b[1;33m\u001b[0m\u001b[0m\n",
      "\u001b[1;31mTypeError\u001b[0m: ufunc 'isfinite' not supported for the input types, and the inputs could not be safely coerced to any supported types according to the casting rule ''safe''"
     ]
    }
   ],
   "source": [
    "np.isclose(1.05, None, rtol=1e-01, equal_nan=True)"
   ]
  },
  {
   "cell_type": "code",
   "execution_count": null,
   "id": "0ca684c3",
   "metadata": {},
   "outputs": [],
   "source": []
  },
  {
   "cell_type": "code",
   "execution_count": 148,
   "id": "0b4a286b",
   "metadata": {},
   "outputs": [
    {
     "name": "stdout",
     "output_type": "stream",
     "text": [
      "663.29\n",
      "377.59\n",
      "21.278\n",
      "356.31\n",
      "625.9086837575147\n"
     ]
    }
   ],
   "source": [
    "a = sutton()\n",
    "a.calc_Ppc_corrected(Ppc=663.29, e_correction=21.278, Tpc_corrected=356.31, Tpc=377.59)\n",
    "\n",
    "print(a.Ppc)\n",
    "print(a.Tpc)\n",
    "print(a.e_correction)\n",
    "print(a.Tpc_corrected)\n",
    "print(a.Ppc_corrected)"
   ]
  },
  {
   "cell_type": "code",
   "execution_count": 149,
   "id": "b35e8aee",
   "metadata": {},
   "outputs": [
    {
     "name": "stdout",
     "output_type": "stream",
     "text": [
      "663.2869999999999\n",
      "377.59\n",
      "21.27\n",
      "356.32\n",
      "628.2272189965797\n"
     ]
    }
   ],
   "source": [
    "a = sutton()\n",
    "a.calc_Ppc_corrected(sg=0.7, e_correction=21.27, H2S=0.07)\n",
    "\n",
    "print(a.Ppc)\n",
    "print(a.Tpc)\n",
    "print(a.e_correction)\n",
    "print(a.Tpc_corrected)\n",
    "print(a.Ppc_corrected)"
   ]
  },
  {
   "cell_type": "code",
   "execution_count": null,
   "id": "6161a656",
   "metadata": {},
   "outputs": [],
   "source": []
  },
  {
   "cell_type": "code",
   "execution_count": null,
   "id": "a88ae358",
   "metadata": {},
   "outputs": [],
   "source": []
  },
  {
   "cell_type": "code",
   "execution_count": null,
   "id": "1c10b01f",
   "metadata": {},
   "outputs": [],
   "source": []
  },
  {
   "cell_type": "code",
   "execution_count": null,
   "id": "9c091c21",
   "metadata": {},
   "outputs": [],
   "source": []
  },
  {
   "cell_type": "code",
   "execution_count": null,
   "id": "99153d8e",
   "metadata": {},
   "outputs": [],
   "source": []
  },
  {
   "cell_type": "code",
   "execution_count": 93,
   "id": "a90bbfb8",
   "metadata": {},
   "outputs": [
    {
     "ename": "TypeError",
     "evalue": "calc_Tpc() got an unexpected keyword argument 'H2S'",
     "output_type": "error",
     "traceback": [
      "\u001b[1;31m---------------------------------------------------------------------------\u001b[0m",
      "\u001b[1;31mTypeError\u001b[0m                                 Traceback (most recent call last)",
      "\u001b[1;32m~\\AppData\\Local\\Temp\\ipykernel_16228\\2015315914.py\u001b[0m in \u001b[0;36m<module>\u001b[1;34m\u001b[0m\n\u001b[0;32m      1\u001b[0m \u001b[0ma\u001b[0m \u001b[1;33m=\u001b[0m \u001b[0msutton\u001b[0m\u001b[1;33m(\u001b[0m\u001b[1;33m)\u001b[0m\u001b[1;33m\u001b[0m\u001b[1;33m\u001b[0m\u001b[0m\n\u001b[0;32m      2\u001b[0m \u001b[0ma\u001b[0m\u001b[1;33m.\u001b[0m\u001b[0mcalc_e_correction\u001b[0m\u001b[1;33m(\u001b[0m\u001b[0mH2S\u001b[0m\u001b[1;33m=\u001b[0m\u001b[1;36m0.07\u001b[0m\u001b[1;33m,\u001b[0m \u001b[0mCO2\u001b[0m\u001b[1;33m=\u001b[0m\u001b[1;36m0.1\u001b[0m\u001b[1;33m)\u001b[0m\u001b[1;33m\u001b[0m\u001b[1;33m\u001b[0m\u001b[0m\n\u001b[1;32m----> 3\u001b[1;33m \u001b[0ma\u001b[0m\u001b[1;33m.\u001b[0m\u001b[0mcalc_Z\u001b[0m\u001b[1;33m(\u001b[0m\u001b[0mP\u001b[0m\u001b[1;33m=\u001b[0m\u001b[1;36m2010\u001b[0m\u001b[1;33m,\u001b[0m \u001b[0mT\u001b[0m\u001b[1;33m=\u001b[0m\u001b[1;36m75\u001b[0m\u001b[1;33m,\u001b[0m \u001b[0msg\u001b[0m\u001b[1;33m=\u001b[0m\u001b[1;36m0.7\u001b[0m\u001b[1;33m,\u001b[0m \u001b[0mH2S\u001b[0m\u001b[1;33m=\u001b[0m\u001b[1;36m0.07\u001b[0m\u001b[1;33m,\u001b[0m \u001b[0mCO2\u001b[0m\u001b[1;33m=\u001b[0m\u001b[1;36m0.1\u001b[0m\u001b[1;33m)\u001b[0m\u001b[1;33m\u001b[0m\u001b[1;33m\u001b[0m\u001b[0m\n\u001b[0m",
      "\u001b[1;32m~\\AppData\\Local\\Temp\\ipykernel_16228\\2830035274.py\u001b[0m in \u001b[0;36mcalc_Z\u001b[1;34m(self, guess, sg, P, T, Tpc, Ppc, Tpc_corrected, Ppc_corrected, A, B, H2S, CO2, N2, Tr, Pr, e_correction, **kwargs)\u001b[0m\n\u001b[0;32m    186\u001b[0m                A=None, B=None, H2S=None, CO2=None, N2=None, Tr=None, Pr=None, e_correction=None, **kwargs):\n\u001b[0;32m    187\u001b[0m         \u001b[0mself\u001b[0m\u001b[1;33m.\u001b[0m\u001b[0m_store_first_caller_name\u001b[0m\u001b[1;33m(\u001b[0m\u001b[0minspect\u001b[0m\u001b[1;33m.\u001b[0m\u001b[0mstack\u001b[0m\u001b[1;33m(\u001b[0m\u001b[1;33m)\u001b[0m\u001b[1;33m[\u001b[0m\u001b[1;36m0\u001b[0m\u001b[1;33m]\u001b[0m\u001b[1;33m[\u001b[0m\u001b[1;36m3\u001b[0m\u001b[1;33m]\u001b[0m\u001b[1;33m)\u001b[0m\u001b[1;33m\u001b[0m\u001b[1;33m\u001b[0m\u001b[0m\n\u001b[1;32m--> 188\u001b[1;33m         \u001b[0mself\u001b[0m\u001b[1;33m.\u001b[0m\u001b[0m_initialize_Pr\u001b[0m\u001b[1;33m(\u001b[0m\u001b[0mPr\u001b[0m\u001b[1;33m,\u001b[0m \u001b[0mP\u001b[0m\u001b[1;33m=\u001b[0m\u001b[0mP\u001b[0m\u001b[1;33m,\u001b[0m \u001b[0mPpc_corrected\u001b[0m\u001b[1;33m=\u001b[0m\u001b[0mPpc_corrected\u001b[0m\u001b[1;33m,\u001b[0m \u001b[0msg\u001b[0m\u001b[1;33m=\u001b[0m\u001b[0msg\u001b[0m\u001b[1;33m,\u001b[0m \u001b[0mTpc\u001b[0m\u001b[1;33m=\u001b[0m\u001b[0mTpc\u001b[0m\u001b[1;33m,\u001b[0m \u001b[0mPpc\u001b[0m\u001b[1;33m=\u001b[0m\u001b[0mPpc\u001b[0m\u001b[1;33m,\u001b[0m \u001b[0me_correction\u001b[0m\u001b[1;33m=\u001b[0m\u001b[0me_correction\u001b[0m\u001b[1;33m,\u001b[0m \u001b[0mTpc_corrected\u001b[0m\u001b[1;33m=\u001b[0m\u001b[0mTpc_corrected\u001b[0m\u001b[1;33m,\u001b[0m \u001b[0mA\u001b[0m\u001b[1;33m=\u001b[0m\u001b[0mA\u001b[0m\u001b[1;33m,\u001b[0m \u001b[0mB\u001b[0m\u001b[1;33m=\u001b[0m\u001b[0mB\u001b[0m\u001b[1;33m,\u001b[0m \u001b[0mH2S\u001b[0m\u001b[1;33m=\u001b[0m\u001b[0mH2S\u001b[0m\u001b[1;33m,\u001b[0m \u001b[0mCO2\u001b[0m\u001b[1;33m=\u001b[0m\u001b[0mCO2\u001b[0m\u001b[1;33m)\u001b[0m\u001b[1;33m\u001b[0m\u001b[1;33m\u001b[0m\u001b[0m\n\u001b[0m\u001b[0;32m    189\u001b[0m         \u001b[0mself\u001b[0m\u001b[1;33m.\u001b[0m\u001b[0m_initialize_Tr\u001b[0m\u001b[1;33m(\u001b[0m\u001b[0mTr\u001b[0m\u001b[1;33m,\u001b[0m \u001b[0mT\u001b[0m\u001b[1;33m,\u001b[0m \u001b[0mTpc_corrected\u001b[0m\u001b[1;33m=\u001b[0m\u001b[0mTpc_corrected\u001b[0m\u001b[1;33m,\u001b[0m \u001b[0msg\u001b[0m\u001b[1;33m=\u001b[0m\u001b[0msg\u001b[0m\u001b[1;33m,\u001b[0m \u001b[0mTpc\u001b[0m\u001b[1;33m=\u001b[0m\u001b[0mTpc\u001b[0m\u001b[1;33m,\u001b[0m \u001b[0me_correction\u001b[0m\u001b[1;33m=\u001b[0m\u001b[0me_correction\u001b[0m\u001b[1;33m,\u001b[0m \u001b[0mA\u001b[0m\u001b[1;33m=\u001b[0m\u001b[0mA\u001b[0m\u001b[1;33m,\u001b[0m \u001b[0mB\u001b[0m\u001b[1;33m=\u001b[0m\u001b[0mB\u001b[0m\u001b[1;33m,\u001b[0m \u001b[0mH2S\u001b[0m\u001b[1;33m=\u001b[0m\u001b[0mH2S\u001b[0m\u001b[1;33m,\u001b[0m \u001b[0mCO2\u001b[0m\u001b[1;33m=\u001b[0m\u001b[0mCO2\u001b[0m\u001b[1;33m)\u001b[0m\u001b[1;33m\u001b[0m\u001b[1;33m\u001b[0m\u001b[0m\n\u001b[0;32m    190\u001b[0m         \u001b[0mself\u001b[0m\u001b[1;33m.\u001b[0m\u001b[0mZ\u001b[0m \u001b[1;33m=\u001b[0m \u001b[0moptimize\u001b[0m\u001b[1;33m.\u001b[0m\u001b[0mnewton\u001b[0m\u001b[1;33m(\u001b[0m\u001b[0mself\u001b[0m\u001b[1;33m.\u001b[0m\u001b[0m_calc_Z\u001b[0m\u001b[1;33m,\u001b[0m \u001b[0mguess\u001b[0m\u001b[1;33m,\u001b[0m \u001b[1;33m**\u001b[0m\u001b[0mkwargs\u001b[0m\u001b[1;33m)\u001b[0m\u001b[1;33m\u001b[0m\u001b[1;33m\u001b[0m\u001b[0m\n",
      "\u001b[1;32m~\\AppData\\Local\\Temp\\ipykernel_16228\\2830035274.py\u001b[0m in \u001b[0;36m_initialize_Pr\u001b[1;34m(self, Pr, P, Ppc_corrected, sg, Tpc, Ppc, e_correction, Tpc_corrected, A, B, H2S, CO2, N2)\u001b[0m\n\u001b[0;32m    281\u001b[0m                        A=None, B=None, H2S=None, CO2=None, N2=None):\n\u001b[0;32m    282\u001b[0m         \u001b[1;32mif\u001b[0m \u001b[0mPr\u001b[0m \u001b[1;32mis\u001b[0m \u001b[1;32mNone\u001b[0m\u001b[1;33m:\u001b[0m\u001b[1;33m\u001b[0m\u001b[1;33m\u001b[0m\u001b[0m\n\u001b[1;32m--> 283\u001b[1;33m             \u001b[0mself\u001b[0m\u001b[1;33m.\u001b[0m\u001b[0mcalc_Pr\u001b[0m\u001b[1;33m(\u001b[0m\u001b[0mP\u001b[0m\u001b[1;33m,\u001b[0m \u001b[0mPpc_corrected\u001b[0m\u001b[1;33m,\u001b[0m \u001b[0msg\u001b[0m\u001b[1;33m,\u001b[0m \u001b[0mTpc\u001b[0m\u001b[1;33m,\u001b[0m \u001b[0mPpc\u001b[0m\u001b[1;33m,\u001b[0m \u001b[0me_correction\u001b[0m\u001b[1;33m,\u001b[0m \u001b[0mTpc_corrected\u001b[0m\u001b[1;33m,\u001b[0m \u001b[0mA\u001b[0m\u001b[1;33m,\u001b[0m \u001b[0mB\u001b[0m\u001b[1;33m,\u001b[0m \u001b[0mH2S\u001b[0m\u001b[1;33m,\u001b[0m \u001b[0mCO2\u001b[0m\u001b[1;33m)\u001b[0m\u001b[1;33m\u001b[0m\u001b[1;33m\u001b[0m\u001b[0m\n\u001b[0m\u001b[0;32m    284\u001b[0m         \u001b[1;32melse\u001b[0m\u001b[1;33m:\u001b[0m\u001b[1;33m\u001b[0m\u001b[1;33m\u001b[0m\u001b[0m\n\u001b[0;32m    285\u001b[0m             \u001b[0mself\u001b[0m\u001b[1;33m.\u001b[0m\u001b[0mPr\u001b[0m \u001b[1;33m=\u001b[0m \u001b[0mPr\u001b[0m\u001b[1;33m\u001b[0m\u001b[1;33m\u001b[0m\u001b[0m\n",
      "\u001b[1;32m~\\AppData\\Local\\Temp\\ipykernel_16228\\2830035274.py\u001b[0m in \u001b[0;36mcalc_Pr\u001b[1;34m(self, P, Ppc_corrected, sg, Tpc, Ppc, e_correction, Tpc_corrected, A, B, H2S, CO2, N2, J, K)\u001b[0m\n\u001b[0;32m    136\u001b[0m         \u001b[1;32mif\u001b[0m \u001b[0mself\u001b[0m\u001b[1;33m.\u001b[0m\u001b[0mmode\u001b[0m \u001b[1;33m==\u001b[0m \u001b[1;34m'sutton'\u001b[0m\u001b[1;33m:\u001b[0m\u001b[1;33m\u001b[0m\u001b[1;33m\u001b[0m\u001b[0m\n\u001b[0;32m    137\u001b[0m             \u001b[0mself\u001b[0m\u001b[1;33m.\u001b[0m\u001b[0m_redundant_argument_check_Ppc_corrected\u001b[0m\u001b[1;33m(\u001b[0m\u001b[0msg\u001b[0m\u001b[1;33m=\u001b[0m\u001b[0msg\u001b[0m\u001b[1;33m,\u001b[0m \u001b[0mPpc\u001b[0m\u001b[1;33m=\u001b[0m\u001b[0mPpc\u001b[0m\u001b[1;33m,\u001b[0m \u001b[0mTpc_corrected\u001b[0m\u001b[1;33m=\u001b[0m\u001b[0mTpc_corrected\u001b[0m\u001b[1;33m,\u001b[0m \u001b[0mTpc\u001b[0m\u001b[1;33m=\u001b[0m\u001b[0mTpc\u001b[0m\u001b[1;33m,\u001b[0m \u001b[0mH2S\u001b[0m\u001b[1;33m=\u001b[0m\u001b[0mH2S\u001b[0m\u001b[1;33m,\u001b[0m \u001b[0mCO2\u001b[0m\u001b[1;33m=\u001b[0m\u001b[0mCO2\u001b[0m\u001b[1;33m,\u001b[0m \u001b[0mA\u001b[0m\u001b[1;33m=\u001b[0m\u001b[1;32mNone\u001b[0m\u001b[1;33m,\u001b[0m \u001b[0mB\u001b[0m\u001b[1;33m=\u001b[0m\u001b[1;32mNone\u001b[0m\u001b[1;33m,\u001b[0m \u001b[0me_correction\u001b[0m\u001b[1;33m=\u001b[0m\u001b[0me_correction\u001b[0m\u001b[1;33m)\u001b[0m\u001b[1;33m\u001b[0m\u001b[1;33m\u001b[0m\u001b[0m\n\u001b[1;32m--> 138\u001b[1;33m             \u001b[0mself\u001b[0m\u001b[1;33m.\u001b[0m\u001b[0m_initialize_Ppc_corrected\u001b[0m\u001b[1;33m(\u001b[0m\u001b[0mPpc_corrected\u001b[0m\u001b[1;33m,\u001b[0m \u001b[0msg\u001b[0m\u001b[1;33m=\u001b[0m\u001b[0msg\u001b[0m\u001b[1;33m,\u001b[0m \u001b[0mTpc\u001b[0m\u001b[1;33m=\u001b[0m\u001b[0mTpc\u001b[0m\u001b[1;33m,\u001b[0m \u001b[0mPpc\u001b[0m\u001b[1;33m=\u001b[0m\u001b[0mPpc\u001b[0m\u001b[1;33m,\u001b[0m \u001b[0me_correction\u001b[0m\u001b[1;33m=\u001b[0m\u001b[0me_correction\u001b[0m\u001b[1;33m,\u001b[0m \u001b[0mTpc_corrected\u001b[0m\u001b[1;33m=\u001b[0m\u001b[0mTpc_corrected\u001b[0m\u001b[1;33m,\u001b[0m \u001b[0mA\u001b[0m\u001b[1;33m=\u001b[0m\u001b[0mA\u001b[0m\u001b[1;33m,\u001b[0m \u001b[0mB\u001b[0m\u001b[1;33m=\u001b[0m\u001b[0mB\u001b[0m\u001b[1;33m,\u001b[0m \u001b[0mH2S\u001b[0m\u001b[1;33m=\u001b[0m\u001b[0mH2S\u001b[0m\u001b[1;33m,\u001b[0m \u001b[0mCO2\u001b[0m\u001b[1;33m=\u001b[0m\u001b[0mCO2\u001b[0m\u001b[1;33m)\u001b[0m\u001b[1;33m\u001b[0m\u001b[1;33m\u001b[0m\u001b[0m\n\u001b[0m\u001b[0;32m    139\u001b[0m             \u001b[0mself\u001b[0m\u001b[1;33m.\u001b[0m\u001b[0mPr\u001b[0m \u001b[1;33m=\u001b[0m \u001b[0mself\u001b[0m\u001b[1;33m.\u001b[0m\u001b[0mP\u001b[0m \u001b[1;33m/\u001b[0m \u001b[0mself\u001b[0m\u001b[1;33m.\u001b[0m\u001b[0mPpc_corrected\u001b[0m\u001b[1;33m\u001b[0m\u001b[1;33m\u001b[0m\u001b[0m\n\u001b[0;32m    140\u001b[0m         \u001b[1;32melse\u001b[0m\u001b[1;33m:\u001b[0m  \u001b[1;31m# mode == 'piper'\u001b[0m\u001b[1;33m\u001b[0m\u001b[1;33m\u001b[0m\u001b[0m\n",
      "\u001b[1;32m~\\AppData\\Local\\Temp\\ipykernel_16228\\2830035274.py\u001b[0m in \u001b[0;36m_initialize_Ppc_corrected\u001b[1;34m(self, Ppc_corrected, sg, Tpc, Ppc, e_correction, Tpc_corrected, A, B, H2S, CO2)\u001b[0m\n\u001b[0;32m    262\u001b[0m                                   Tpc_corrected=None, A=None, B=None, H2S=None, CO2=None):\n\u001b[0;32m    263\u001b[0m         \u001b[1;32mif\u001b[0m \u001b[0mPpc_corrected\u001b[0m \u001b[1;32mis\u001b[0m \u001b[1;32mNone\u001b[0m\u001b[1;33m:\u001b[0m\u001b[1;33m\u001b[0m\u001b[1;33m\u001b[0m\u001b[0m\n\u001b[1;32m--> 264\u001b[1;33m             \u001b[0mself\u001b[0m\u001b[1;33m.\u001b[0m\u001b[0mcalc_Ppc_corrected\u001b[0m\u001b[1;33m(\u001b[0m\u001b[0msg\u001b[0m\u001b[1;33m,\u001b[0m \u001b[0mTpc\u001b[0m\u001b[1;33m,\u001b[0m \u001b[0mPpc\u001b[0m\u001b[1;33m,\u001b[0m \u001b[0me_correction\u001b[0m\u001b[1;33m,\u001b[0m \u001b[0mTpc_corrected\u001b[0m\u001b[1;33m,\u001b[0m \u001b[0mA\u001b[0m\u001b[1;33m,\u001b[0m \u001b[0mB\u001b[0m\u001b[1;33m,\u001b[0m \u001b[0mH2S\u001b[0m\u001b[1;33m,\u001b[0m \u001b[0mCO2\u001b[0m\u001b[1;33m)\u001b[0m\u001b[1;33m\u001b[0m\u001b[1;33m\u001b[0m\u001b[0m\n\u001b[0m\u001b[0;32m    265\u001b[0m         \u001b[1;32melse\u001b[0m\u001b[1;33m:\u001b[0m\u001b[1;33m\u001b[0m\u001b[1;33m\u001b[0m\u001b[0m\n\u001b[0;32m    266\u001b[0m             \u001b[0mself\u001b[0m\u001b[1;33m.\u001b[0m\u001b[0mPpc_corrected\u001b[0m \u001b[1;33m=\u001b[0m \u001b[0mPpc_corrected\u001b[0m\u001b[1;33m\u001b[0m\u001b[1;33m\u001b[0m\u001b[0m\n",
      "\u001b[1;32m~\\AppData\\Local\\Temp\\ipykernel_16228\\2830035274.py\u001b[0m in \u001b[0;36mcalc_Ppc_corrected\u001b[1;34m(self, sg, Tpc, Ppc, e_correction, Tpc_corrected, A, B, H2S, CO2)\u001b[0m\n\u001b[0;32m    111\u001b[0m         \u001b[0mself\u001b[0m\u001b[1;33m.\u001b[0m\u001b[0m_initialize_e_correction\u001b[0m\u001b[1;33m(\u001b[0m\u001b[0me_correction\u001b[0m\u001b[1;33m,\u001b[0m \u001b[0mA\u001b[0m\u001b[1;33m=\u001b[0m\u001b[0mA\u001b[0m\u001b[1;33m,\u001b[0m \u001b[0mB\u001b[0m\u001b[1;33m=\u001b[0m\u001b[0mB\u001b[0m\u001b[1;33m,\u001b[0m \u001b[0mH2S\u001b[0m\u001b[1;33m=\u001b[0m\u001b[0mH2S\u001b[0m\u001b[1;33m,\u001b[0m \u001b[0mCO2\u001b[0m\u001b[1;33m=\u001b[0m\u001b[0mCO2\u001b[0m\u001b[1;33m)\u001b[0m\u001b[1;33m\u001b[0m\u001b[1;33m\u001b[0m\u001b[0m\n\u001b[0;32m    112\u001b[0m         \u001b[1;32mif\u001b[0m \u001b[0mTpc_corrected\u001b[0m \u001b[1;32mis\u001b[0m \u001b[1;32mNone\u001b[0m\u001b[1;33m:\u001b[0m\u001b[1;33m\u001b[0m\u001b[1;33m\u001b[0m\u001b[0m\n\u001b[1;32m--> 113\u001b[1;33m             \u001b[0mself\u001b[0m\u001b[1;33m.\u001b[0m\u001b[0m_initialize_Tpc\u001b[0m\u001b[1;33m(\u001b[0m\u001b[0mTpc\u001b[0m\u001b[1;33m,\u001b[0m \u001b[0msg\u001b[0m\u001b[1;33m=\u001b[0m\u001b[0msg\u001b[0m\u001b[1;33m)\u001b[0m\u001b[1;33m\u001b[0m\u001b[1;33m\u001b[0m\u001b[0m\n\u001b[0m\u001b[0;32m    114\u001b[0m             \u001b[0mself\u001b[0m\u001b[1;33m.\u001b[0m\u001b[0m_initialize_Tpc_corrected\u001b[0m\u001b[1;33m(\u001b[0m\u001b[0mTpc_corrected\u001b[0m\u001b[1;33m,\u001b[0m \u001b[0msg\u001b[0m\u001b[1;33m=\u001b[0m\u001b[0msg\u001b[0m\u001b[1;33m,\u001b[0m \u001b[0mTpc\u001b[0m\u001b[1;33m=\u001b[0m\u001b[0mTpc\u001b[0m\u001b[1;33m,\u001b[0m \u001b[0me_correction\u001b[0m\u001b[1;33m=\u001b[0m\u001b[0me_correction\u001b[0m\u001b[1;33m,\u001b[0m \u001b[0mA\u001b[0m\u001b[1;33m=\u001b[0m\u001b[0mA\u001b[0m\u001b[1;33m,\u001b[0m \u001b[0mB\u001b[0m\u001b[1;33m=\u001b[0m\u001b[0mB\u001b[0m\u001b[1;33m,\u001b[0m \u001b[0mH2S\u001b[0m\u001b[1;33m=\u001b[0m\u001b[0mH2S\u001b[0m\u001b[1;33m,\u001b[0m \u001b[0mCO2\u001b[0m\u001b[1;33m=\u001b[0m\u001b[0mCO2\u001b[0m\u001b[1;33m)\u001b[0m\u001b[1;33m\u001b[0m\u001b[1;33m\u001b[0m\u001b[0m\n\u001b[0;32m    115\u001b[0m         \u001b[0mself\u001b[0m\u001b[1;33m.\u001b[0m\u001b[0mPpc_corrected\u001b[0m \u001b[1;33m=\u001b[0m \u001b[1;33m(\u001b[0m\u001b[0mself\u001b[0m\u001b[1;33m.\u001b[0m\u001b[0mPpc\u001b[0m \u001b[1;33m*\u001b[0m \u001b[0mself\u001b[0m\u001b[1;33m.\u001b[0m\u001b[0mTpc_corrected\u001b[0m\u001b[1;33m)\u001b[0m \u001b[1;33m/\u001b[0m \u001b[1;33m(\u001b[0m\u001b[0mself\u001b[0m\u001b[1;33m.\u001b[0m\u001b[0mTpc\u001b[0m \u001b[1;33m-\u001b[0m \u001b[0mself\u001b[0m\u001b[1;33m.\u001b[0m\u001b[0mB\u001b[0m \u001b[1;33m*\u001b[0m \u001b[1;33m(\u001b[0m\u001b[1;36m1\u001b[0m \u001b[1;33m-\u001b[0m \u001b[0mself\u001b[0m\u001b[1;33m.\u001b[0m\u001b[0mB\u001b[0m\u001b[1;33m)\u001b[0m \u001b[1;33m*\u001b[0m \u001b[0mself\u001b[0m\u001b[1;33m.\u001b[0m\u001b[0me_correction\u001b[0m\u001b[1;33m)\u001b[0m\u001b[1;33m\u001b[0m\u001b[1;33m\u001b[0m\u001b[0m\n",
      "\u001b[1;32m~\\AppData\\Local\\Temp\\ipykernel_16228\\2830035274.py\u001b[0m in \u001b[0;36m_initialize_Tpc\u001b[1;34m(self, Tpc, sg, H2S, CO2, N2, J, K)\u001b[0m\n\u001b[0;32m    236\u001b[0m     \u001b[1;32mdef\u001b[0m \u001b[0m_initialize_Tpc\u001b[0m\u001b[1;33m(\u001b[0m\u001b[0mself\u001b[0m\u001b[1;33m,\u001b[0m \u001b[0mTpc\u001b[0m\u001b[1;33m,\u001b[0m \u001b[0msg\u001b[0m\u001b[1;33m=\u001b[0m\u001b[1;32mNone\u001b[0m\u001b[1;33m,\u001b[0m \u001b[0mH2S\u001b[0m\u001b[1;33m=\u001b[0m\u001b[1;32mNone\u001b[0m\u001b[1;33m,\u001b[0m \u001b[0mCO2\u001b[0m\u001b[1;33m=\u001b[0m\u001b[1;32mNone\u001b[0m\u001b[1;33m,\u001b[0m \u001b[0mN2\u001b[0m\u001b[1;33m=\u001b[0m\u001b[1;32mNone\u001b[0m\u001b[1;33m,\u001b[0m \u001b[0mJ\u001b[0m\u001b[1;33m=\u001b[0m\u001b[1;32mNone\u001b[0m\u001b[1;33m,\u001b[0m \u001b[0mK\u001b[0m\u001b[1;33m=\u001b[0m\u001b[1;32mNone\u001b[0m\u001b[1;33m)\u001b[0m\u001b[1;33m:\u001b[0m\u001b[1;33m\u001b[0m\u001b[1;33m\u001b[0m\u001b[0m\n\u001b[0;32m    237\u001b[0m         \u001b[1;32mif\u001b[0m \u001b[0mTpc\u001b[0m \u001b[1;32mis\u001b[0m \u001b[1;32mNone\u001b[0m\u001b[1;33m:\u001b[0m\u001b[1;33m\u001b[0m\u001b[1;33m\u001b[0m\u001b[0m\n\u001b[1;32m--> 238\u001b[1;33m             \u001b[0mself\u001b[0m\u001b[1;33m.\u001b[0m\u001b[0mcalc_Tpc\u001b[0m\u001b[1;33m(\u001b[0m\u001b[0msg\u001b[0m\u001b[1;33m=\u001b[0m\u001b[0msg\u001b[0m\u001b[1;33m,\u001b[0m \u001b[0mH2S\u001b[0m\u001b[1;33m=\u001b[0m\u001b[0mH2S\u001b[0m\u001b[1;33m,\u001b[0m \u001b[0mCO2\u001b[0m\u001b[1;33m=\u001b[0m\u001b[0mCO2\u001b[0m\u001b[1;33m,\u001b[0m \u001b[0mN2\u001b[0m\u001b[1;33m=\u001b[0m\u001b[0mN2\u001b[0m\u001b[1;33m,\u001b[0m \u001b[0mJ\u001b[0m\u001b[1;33m=\u001b[0m\u001b[0mJ\u001b[0m\u001b[1;33m,\u001b[0m \u001b[0mK\u001b[0m\u001b[1;33m=\u001b[0m\u001b[0mK\u001b[0m\u001b[1;33m)\u001b[0m\u001b[1;33m\u001b[0m\u001b[1;33m\u001b[0m\u001b[0m\n\u001b[0m\u001b[0;32m    239\u001b[0m         \u001b[1;32melse\u001b[0m\u001b[1;33m:\u001b[0m\u001b[1;33m\u001b[0m\u001b[1;33m\u001b[0m\u001b[0m\n\u001b[0;32m    240\u001b[0m             \u001b[0mself\u001b[0m\u001b[1;33m.\u001b[0m\u001b[0mTpc\u001b[0m \u001b[1;33m=\u001b[0m \u001b[0mTpc\u001b[0m\u001b[1;33m\u001b[0m\u001b[1;33m\u001b[0m\u001b[0m\n",
      "\u001b[1;31mTypeError\u001b[0m: calc_Tpc() got an unexpected keyword argument 'H2S'"
     ]
    }
   ],
   "source": [
    "a = sutton()\n",
    "a.calc_e_correction(H2S=0.07, CO2=0.1)\n",
    "a.calc_Z(P=2010, T=75, sg=0.7, H2S=0.07, CO2=0.1)"
   ]
  },
  {
   "cell_type": "code",
   "execution_count": 87,
   "id": "c199b5e3",
   "metadata": {},
   "outputs": [
    {
     "data": {
      "text/plain": [
       "'calc_e_correction'"
      ]
     },
     "execution_count": 87,
     "metadata": {},
     "output_type": "execute_result"
    }
   ],
   "source": [
    "a._calc_from"
   ]
  },
  {
   "cell_type": "code",
   "execution_count": 91,
   "id": "0bd4f076",
   "metadata": {},
   "outputs": [
    {
     "ename": "TypeError",
     "evalue": "Missing a required argument, sg (specific gravity, dimensionless)",
     "output_type": "error",
     "traceback": [
      "\u001b[1;31m---------------------------------------------------------------------------\u001b[0m",
      "\u001b[1;31mTypeError\u001b[0m                                 Traceback (most recent call last)",
      "\u001b[1;32m~\\AppData\\Local\\Temp\\ipykernel_16228\\3010113131.py\u001b[0m in \u001b[0;36m<module>\u001b[1;34m\u001b[0m\n\u001b[0;32m      1\u001b[0m \u001b[0ma\u001b[0m \u001b[1;33m=\u001b[0m \u001b[0mzfactor\u001b[0m\u001b[1;33m(\u001b[0m\u001b[1;33m)\u001b[0m\u001b[1;33m\u001b[0m\u001b[1;33m\u001b[0m\u001b[0m\n\u001b[1;32m----> 2\u001b[1;33m \u001b[0ma\u001b[0m\u001b[1;33m.\u001b[0m\u001b[0mcalc_Tpc\u001b[0m\u001b[1;33m(\u001b[0m\u001b[1;33m)\u001b[0m\u001b[1;33m\u001b[0m\u001b[1;33m\u001b[0m\u001b[0m\n\u001b[0m",
      "\u001b[1;32m~\\AppData\\Local\\Temp\\ipykernel_16228\\3796771148.py\u001b[0m in \u001b[0;36mcalc_Tpc\u001b[1;34m(self, sg, H2S, CO2, N2, J, K)\u001b[0m\n\u001b[0;32m     48\u001b[0m         \u001b[0mself\u001b[0m\u001b[1;33m.\u001b[0m\u001b[0m_store_first_caller_name\u001b[0m\u001b[1;33m(\u001b[0m\u001b[0minspect\u001b[0m\u001b[1;33m.\u001b[0m\u001b[0mstack\u001b[0m\u001b[1;33m(\u001b[0m\u001b[1;33m)\u001b[0m\u001b[1;33m[\u001b[0m\u001b[1;36m0\u001b[0m\u001b[1;33m]\u001b[0m\u001b[1;33m[\u001b[0m\u001b[1;36m3\u001b[0m\u001b[1;33m]\u001b[0m\u001b[1;33m)\u001b[0m\u001b[1;33m\u001b[0m\u001b[1;33m\u001b[0m\u001b[0m\n\u001b[0;32m     49\u001b[0m         \u001b[1;32mif\u001b[0m \u001b[0mself\u001b[0m\u001b[1;33m.\u001b[0m\u001b[0mmode\u001b[0m \u001b[1;33m==\u001b[0m \u001b[1;34m'sutton'\u001b[0m\u001b[1;33m:\u001b[0m\u001b[1;33m\u001b[0m\u001b[1;33m\u001b[0m\u001b[0m\n\u001b[1;32m---> 50\u001b[1;33m             \u001b[0mself\u001b[0m\u001b[1;33m.\u001b[0m\u001b[0m_initialize_sg\u001b[0m\u001b[1;33m(\u001b[0m\u001b[0msg\u001b[0m\u001b[1;33m,\u001b[0m \u001b[0mcalc_from\u001b[0m\u001b[1;33m=\u001b[0m\u001b[1;34m'Tpc'\u001b[0m\u001b[1;33m)\u001b[0m\u001b[1;33m\u001b[0m\u001b[1;33m\u001b[0m\u001b[0m\n\u001b[0m\u001b[0;32m     51\u001b[0m             \u001b[0mself\u001b[0m\u001b[1;33m.\u001b[0m\u001b[0mTpc\u001b[0m \u001b[1;33m=\u001b[0m \u001b[1;36m169.2\u001b[0m \u001b[1;33m+\u001b[0m \u001b[1;36m349.5\u001b[0m \u001b[1;33m*\u001b[0m \u001b[0mself\u001b[0m\u001b[1;33m.\u001b[0m\u001b[0msg\u001b[0m \u001b[1;33m-\u001b[0m \u001b[1;36m74.0\u001b[0m \u001b[1;33m*\u001b[0m \u001b[0mself\u001b[0m\u001b[1;33m.\u001b[0m\u001b[0msg\u001b[0m \u001b[1;33m**\u001b[0m \u001b[1;36m2\u001b[0m\u001b[1;33m\u001b[0m\u001b[1;33m\u001b[0m\u001b[0m\n\u001b[0;32m     52\u001b[0m         \u001b[1;32melse\u001b[0m\u001b[1;33m:\u001b[0m  \u001b[1;31m# mode == 'piper'\u001b[0m\u001b[1;33m\u001b[0m\u001b[1;33m\u001b[0m\u001b[0m\n",
      "\u001b[1;32m~\\AppData\\Local\\Temp\\ipykernel_16228\\3796771148.py\u001b[0m in \u001b[0;36m_initialize_sg\u001b[1;34m(self, sg, calc_from)\u001b[0m\n\u001b[0;32m    204\u001b[0m         \u001b[1;32mif\u001b[0m \u001b[0msg\u001b[0m \u001b[1;32mis\u001b[0m \u001b[1;32mNone\u001b[0m\u001b[1;33m:\u001b[0m\u001b[1;33m\u001b[0m\u001b[1;33m\u001b[0m\u001b[0m\n\u001b[0;32m    205\u001b[0m             \u001b[1;32mif\u001b[0m \u001b[0mcalc_from\u001b[0m \u001b[1;33m==\u001b[0m \u001b[1;34m'Ppc'\u001b[0m \u001b[1;32mor\u001b[0m \u001b[0mcalc_from\u001b[0m \u001b[1;33m==\u001b[0m \u001b[1;34m'Tpc'\u001b[0m\u001b[1;33m:\u001b[0m\u001b[1;33m\u001b[0m\u001b[1;33m\u001b[0m\u001b[0m\n\u001b[1;32m--> 206\u001b[1;33m                 \u001b[1;32mraise\u001b[0m \u001b[0mTypeError\u001b[0m\u001b[1;33m(\u001b[0m\u001b[1;34m\"Missing a required argument, sg (specific gravity, dimensionless)\"\u001b[0m\u001b[1;33m)\u001b[0m\u001b[1;33m\u001b[0m\u001b[1;33m\u001b[0m\u001b[0m\n\u001b[0m\u001b[0;32m    207\u001b[0m             \u001b[1;32melif\u001b[0m \u001b[0mcalc_from\u001b[0m \u001b[1;33m==\u001b[0m \u001b[1;34m'J'\u001b[0m \u001b[1;32mor\u001b[0m \u001b[0mcalc_from\u001b[0m \u001b[1;33m==\u001b[0m \u001b[1;34m'K'\u001b[0m\u001b[1;33m:\u001b[0m\u001b[1;33m\u001b[0m\u001b[1;33m\u001b[0m\u001b[0m\n\u001b[0;32m    208\u001b[0m                 raise TypeError(\"Missing a required argument, sg (specific gravity, dimensionless), or J \"\n",
      "\u001b[1;31mTypeError\u001b[0m: Missing a required argument, sg (specific gravity, dimensionless)"
     ]
    }
   ],
   "source": [
    "a = zfactor()\n",
    "a.calc_Tpc()"
   ]
  },
  {
   "cell_type": "code",
   "execution_count": null,
   "id": "a01189ea",
   "metadata": {},
   "outputs": [],
   "source": []
  },
  {
   "cell_type": "code",
   "execution_count": null,
   "id": "a0dc33a0",
   "metadata": {},
   "outputs": [],
   "source": []
  },
  {
   "cell_type": "code",
   "execution_count": null,
   "id": "cd860754",
   "metadata": {},
   "outputs": [],
   "source": []
  },
  {
   "cell_type": "code",
   "execution_count": null,
   "id": "43d23d41",
   "metadata": {},
   "outputs": [],
   "source": []
  },
  {
   "cell_type": "code",
   "execution_count": null,
   "id": "a5135ca8",
   "metadata": {},
   "outputs": [],
   "source": []
  },
  {
   "cell_type": "code",
   "execution_count": null,
   "id": "6c701f66",
   "metadata": {},
   "outputs": [],
   "source": []
  },
  {
   "cell_type": "code",
   "execution_count": null,
   "id": "6bf82dfb",
   "metadata": {},
   "outputs": [],
   "source": []
  }
 ],
 "metadata": {
  "kernelspec": {
   "display_name": "Python 3 (ipykernel)",
   "language": "python",
   "name": "python3"
  },
  "language_info": {
   "codemirror_mode": {
    "name": "ipython",
    "version": 3
   },
   "file_extension": ".py",
   "mimetype": "text/x-python",
   "name": "python",
   "nbconvert_exporter": "python",
   "pygments_lexer": "ipython3",
   "version": "3.9.13"
  }
 },
 "nbformat": 4,
 "nbformat_minor": 5
}
